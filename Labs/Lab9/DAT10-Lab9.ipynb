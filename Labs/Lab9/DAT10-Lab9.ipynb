{
 "metadata": {
  "name": "",
<<<<<<< HEAD
  "signature": "sha256:466cc3f3ecb7e55e206c3079b636fa72956f27d4802226617b709369750346df"
=======
  "signature": "sha256:738663386f512fc38d691972c7f6fdd334e48a29f83fa4ef01d089f99bb75476"
>>>>>>> instructor/master
 },
 "nbformat": 3,
 "nbformat_minor": 0,
 "worksheets": [
  {
   "cells": [
    {
     "cell_type": "markdown",
     "metadata": {},
     "source": [
      "## DAT10-Lab09\n",
      "## Logistic Regression Classification"
     ]
    },
    {
     "cell_type": "markdown",
     "metadata": {},
     "source": [
      "Import the usual packages"
     ]
    },
    {
     "cell_type": "code",
     "collapsed": false,
     "input": [
      "import numpy as np\n",
      "import pandas as pd\n",
      "import matplotlib.pyplot as plt\n",
      "\n",
      "%matplotlib inline"
     ],
     "language": "python",
     "metadata": {},
     "outputs": [],
     "prompt_number": 1
    },
    {
     "cell_type": "markdown",
     "metadata": {},
     "source": [
      "Here are a couple pandas settings to make viewing the data a little easier"
     ]
    },
    {
     "cell_type": "code",
     "collapsed": false,
     "input": [
      "pd.set_option('display.max_rows',100)\n",
      "pd.set_option('display.max_columns',60)"
     ],
     "language": "python",
     "metadata": {},
     "outputs": [],
     "prompt_number": 2
    },
    {
     "cell_type": "markdown",
     "metadata": {},
     "source": [
      "#### Load the Iris Data Set"
     ]
    },
    {
     "cell_type": "code",
     "collapsed": false,
     "input": [
      "from sklearn import datasets\n",
      "\n",
      "iris = datasets.load_iris()\n",
      "features = iris.data\n",
      "target = iris.target\n",
      "Names = iris.target_names"
     ],
     "language": "python",
     "metadata": {},
     "outputs": [],
     "prompt_number": 3
    },
    {
     "cell_type": "markdown",
     "metadata": {},
     "source": [
      "#### Logistic Regression is a binary classifier so we'll just use two classes of the data set"
     ]
    },
    {
     "cell_type": "code",
     "collapsed": false,
     "input": [
      "features = features[target!=0]\n",
      "target = target[target!=0]"
     ],
     "language": "python",
     "metadata": {},
     "outputs": [],
     "prompt_number": 4
    },
    {
     "cell_type": "markdown",
     "metadata": {},
     "source": [
      "#### Use the cross_validation function from Lab 4"
     ]
    },
    {
     "cell_type": "code",
     "collapsed": false,
     "input": [
      "from sklearn.cross_validation import KFold\n",
      "\n",
      "def cross_validate(X, y, classifier, k_fold) :\n",
      "\n",
      "    # derive a set of (random) training and testing indices\n",
      "    k_fold_indices = KFold(len(X), n_folds=k_fold,\n",
      "                           shuffle=True, random_state=0)\n",
      "\n",
      "    k_score_total = 0\n",
      "    # for each training and testing slices run the classifier, and score the results\n",
      "    for train_slice, test_slice in k_fold_indices :\n",
      "\n",
      "        model = classifier(X[ train_slice  ],\n",
      "                         y[ train_slice  ])\n",
      "\n",
      "        k_score = model.score(X[ test_slice ],\n",
      "                              y[ test_slice ])\n",
      "\n",
      "        k_score_total += k_score\n",
      "\n",
      "    # return the average accuracy\n",
      "    return k_score_total/k_fold"
     ],
     "language": "python",
     "metadata": {},
     "outputs": [],
     "prompt_number": 5
    },
    {
     "cell_type": "markdown",
     "metadata": {},
     "source": [
      "#### Create an instance of a Logistic Regression model and apply cross-validation\n",
      "#### (Note: C parameter is for regularization)"
     ]
    },
    {
     "cell_type": "code",
     "collapsed": false,
     "input": [
      "from sklearn.linear_model import LogisticRegression\n",
      "\n",
      "model_lr = LogisticRegression(C=1).fit"
     ],
     "language": "python",
     "metadata": {},
     "outputs": [],
     "prompt_number": 6
    },
    {
     "cell_type": "code",
     "collapsed": false,
     "input": [
      "cross_validate(features, target, model_lr, 10)"
     ],
     "language": "python",
     "metadata": {},
     "outputs": [
      {
       "metadata": {},
       "output_type": "pyout",
       "prompt_number": 7,
       "text": [
        "0.96000000000000019"
       ]
      }
     ],
     "prompt_number": 7
    },
    {
     "cell_type": "markdown",
     "metadata": {},
     "source": [
      "### Review the feature importance\n"
     ]
    },
    {
     "cell_type": "code",
     "collapsed": false,
     "input": [
      "feature_names = ['sepal length', 'sepal width', 'petal length', 'petal width']\n",
      "model_lr = LogisticRegression(C=1).fit(features, target)\n",
      "\n",
      "x = np.arange(len(feature_names))"
     ],
     "language": "python",
     "metadata": {},
     "outputs": [],
     "prompt_number": 8
    },
    {
     "cell_type": "code",
     "collapsed": false,
     "input": [
      "plt.bar(x, model_lr.coef_.ravel())\n",
      "_ = plt.xticks(x + 0.5, feature_names, rotation=30)\n"
     ],
     "language": "python",
     "metadata": {},
     "outputs": [
      {
       "metadata": {},
       "output_type": "display_data",
       "png": "iVBORw0KGgoAAAANSUhEUgAAAW0AAAEdCAYAAADHIzbjAAAABHNCSVQICAgIfAhkiAAAAAlwSFlz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\n",
       "text": [
<<<<<<< HEAD
        "<matplotlib.figure.Figure at 0x10b993cd0>"
       ]
      }
     ],
     "prompt_number": 10
    },
    {
     "cell_type": "code",
     "collapsed": false,
     "input": [],
     "language": "python",
     "metadata": {},
     "outputs": []
=======
        "<matplotlib.figure.Figure at 0x109a10710>"
       ]
      }
     ],
     "prompt_number": 9
>>>>>>> instructor/master
    },
    {
     "cell_type": "markdown",
     "metadata": {},
     "source": [
      "### Exercise 1: Build Logistic Regression Classifier for Spambase Data"
     ]
    },
    {
     "cell_type": "markdown",
     "metadata": {},
     "source": [
      "#### Load the spambase.csv as a pandas DataFrame (last column of data contains Target Data - is_spam)"
     ]
    },
    {
     "cell_type": "code",
     "collapsed": false,
     "input": [
      "spam_data = pd.read_csv(\"spambase.csv\")\n",
      "spam_data.head()\n",
      "# spam_data.describe()\n",
      "# spam_data.info()"
     ],
     "language": "python",
     "metadata": {},
<<<<<<< HEAD
     "outputs": [],
     "prompt_number": 11
    },
    {
     "cell_type": "code",
     "collapsed": false,
     "input": [
      "spam_data.head()"
     ],
     "language": "python",
     "metadata": {},
=======
>>>>>>> instructor/master
     "outputs": [
      {
       "html": [
        "<div style=\"max-height:1000px;max-width:1500px;overflow:auto;\">\n",
        "<table border=\"1\" class=\"dataframe\">\n",
        "  <thead>\n",
        "    <tr style=\"text-align: right;\">\n",
        "      <th></th>\n",
        "      <th>word_freq_make</th>\n",
        "      <th>word_freq_address</th>\n",
        "      <th>word_freq_all</th>\n",
        "      <th>word_freq_3d</th>\n",
        "      <th>word_freq_our</th>\n",
        "      <th>word_freq_over</th>\n",
        "      <th>word_freq_remove</th>\n",
        "      <th>word_freq_internet</th>\n",
        "      <th>word_freq_order</th>\n",
        "      <th>word_freq_mail</th>\n",
        "      <th>word_freq_receive</th>\n",
        "      <th>word_freq_will</th>\n",
        "      <th>word_freq_people</th>\n",
        "      <th>word_freq_report</th>\n",
        "      <th>word_freq_addresses</th>\n",
        "      <th>word_freq_free</th>\n",
        "      <th>word_freq_business</th>\n",
        "      <th>word_freq_email</th>\n",
        "      <th>word_freq_you</th>\n",
        "      <th>word_freq_credit</th>\n",
        "      <th>word_freq_your</th>\n",
        "      <th>word_freq_font</th>\n",
        "      <th>word_freq_000</th>\n",
        "      <th>word_freq_money</th>\n",
        "      <th>word_freq_hp</th>\n",
        "      <th>word_freq_hpl</th>\n",
        "      <th>word_freq_george</th>\n",
        "      <th>word_freq_650</th>\n",
        "      <th>word_freq_lab</th>\n",
        "      <th>word_freq_labs</th>\n",
        "      <th>word_freq_telnet</th>\n",
        "      <th>word_freq_857</th>\n",
        "      <th>word_freq_data</th>\n",
        "      <th>word_freq_415</th>\n",
        "      <th>word_freq_85</th>\n",
        "      <th>word_freq_technology</th>\n",
        "      <th>word_freq_1999</th>\n",
        "      <th>word_freq_parts</th>\n",
        "      <th>word_freq_pm</th>\n",
        "      <th>word_freq_direct</th>\n",
        "      <th>word_freq_cs</th>\n",
        "      <th>word_freq_meeting</th>\n",
        "      <th>word_freq_original</th>\n",
        "      <th>word_freq_project</th>\n",
        "      <th>word_freq_re</th>\n",
        "      <th>word_freq_edu</th>\n",
        "      <th>word_freq_table</th>\n",
        "      <th>word_freq_conference</th>\n",
        "      <th>char_freq_;</th>\n",
        "      <th>char_freq_(</th>\n",
        "      <th>char_freq_[</th>\n",
        "      <th>char_freq_!</th>\n",
        "      <th>char_freq_$</th>\n",
        "      <th>char_freq_#</th>\n",
        "      <th>capital_run_length_average</th>\n",
        "      <th>capital_run_length_longest</th>\n",
        "      <th>capital_run_length_total</th>\n",
        "      <th>is_spam</th>\n",
        "    </tr>\n",
        "  </thead>\n",
        "  <tbody>\n",
        "    <tr>\n",
        "      <th>0</th>\n",
        "      <td> 0.00</td>\n",
        "      <td> 0.64</td>\n",
        "      <td> 0.64</td>\n",
        "      <td> 0</td>\n",
        "      <td> 0.32</td>\n",
        "      <td> 0.00</td>\n",
        "      <td> 0.00</td>\n",
        "      <td> 0.00</td>\n",
        "      <td> 0.00</td>\n",
        "      <td> 0.00</td>\n",
        "      <td> 0.00</td>\n",
        "      <td> 0.64</td>\n",
        "      <td> 0.00</td>\n",
        "      <td> 0.00</td>\n",
        "      <td> 0.00</td>\n",
        "      <td> 0.32</td>\n",
        "      <td> 0.00</td>\n",
        "      <td> 1.29</td>\n",
        "      <td> 1.93</td>\n",
        "      <td> 0.00</td>\n",
        "      <td> 0.96</td>\n",
        "      <td> 0</td>\n",
        "      <td> 0.00</td>\n",
        "      <td> 0.00</td>\n",
        "      <td> 0</td>\n",
        "      <td> 0</td>\n",
        "      <td> 0</td>\n",
        "      <td> 0</td>\n",
        "      <td> 0</td>\n",
        "      <td> 0</td>\n",
        "      <td> 0</td>\n",
        "      <td> 0</td>\n",
        "      <td> 0</td>\n",
        "      <td> 0</td>\n",
        "      <td> 0</td>\n",
        "      <td> 0</td>\n",
        "      <td> 0.00</td>\n",
        "      <td> 0</td>\n",
        "      <td> 0</td>\n",
        "      <td> 0.00</td>\n",
        "      <td> 0</td>\n",
        "      <td> 0</td>\n",
        "      <td> 0.00</td>\n",
        "      <td> 0</td>\n",
        "      <td> 0.00</td>\n",
        "      <td> 0.00</td>\n",
        "      <td> 0</td>\n",
        "      <td> 0</td>\n",
        "      <td> 0.00</td>\n",
        "      <td> 0.000</td>\n",
        "      <td> 0</td>\n",
        "      <td> 0.778</td>\n",
        "      <td> 0.000</td>\n",
        "      <td> 0.000</td>\n",
        "      <td> 3.756</td>\n",
        "      <td>  61</td>\n",
        "      <td>  278</td>\n",
        "      <td> 1</td>\n",
        "    </tr>\n",
        "    <tr>\n",
        "      <th>1</th>\n",
        "      <td> 0.21</td>\n",
        "      <td> 0.28</td>\n",
        "      <td> 0.50</td>\n",
        "      <td> 0</td>\n",
        "      <td> 0.14</td>\n",
        "      <td> 0.28</td>\n",
        "      <td> 0.21</td>\n",
        "      <td> 0.07</td>\n",
        "      <td> 0.00</td>\n",
        "      <td> 0.94</td>\n",
        "      <td> 0.21</td>\n",
        "      <td> 0.79</td>\n",
        "      <td> 0.65</td>\n",
        "      <td> 0.21</td>\n",
        "      <td> 0.14</td>\n",
        "      <td> 0.14</td>\n",
        "      <td> 0.07</td>\n",
        "      <td> 0.28</td>\n",
        "      <td> 3.47</td>\n",
        "      <td> 0.00</td>\n",
        "      <td> 1.59</td>\n",
        "      <td> 0</td>\n",
        "      <td> 0.43</td>\n",
        "      <td> 0.43</td>\n",
        "      <td> 0</td>\n",
        "      <td> 0</td>\n",
        "      <td> 0</td>\n",
        "      <td> 0</td>\n",
        "      <td> 0</td>\n",
        "      <td> 0</td>\n",
        "      <td> 0</td>\n",
        "      <td> 0</td>\n",
        "      <td> 0</td>\n",
        "      <td> 0</td>\n",
        "      <td> 0</td>\n",
        "      <td> 0</td>\n",
        "      <td> 0.07</td>\n",
        "      <td> 0</td>\n",
        "      <td> 0</td>\n",
        "      <td> 0.00</td>\n",
        "      <td> 0</td>\n",
        "      <td> 0</td>\n",
        "      <td> 0.00</td>\n",
        "      <td> 0</td>\n",
        "      <td> 0.00</td>\n",
        "      <td> 0.00</td>\n",
        "      <td> 0</td>\n",
        "      <td> 0</td>\n",
        "      <td> 0.00</td>\n",
        "      <td> 0.132</td>\n",
        "      <td> 0</td>\n",
        "      <td> 0.372</td>\n",
        "      <td> 0.180</td>\n",
        "      <td> 0.048</td>\n",
        "      <td> 5.114</td>\n",
        "      <td> 101</td>\n",
        "      <td> 1028</td>\n",
        "      <td> 1</td>\n",
        "    </tr>\n",
        "    <tr>\n",
        "      <th>2</th>\n",
        "      <td> 0.06</td>\n",
        "      <td> 0.00</td>\n",
        "      <td> 0.71</td>\n",
        "      <td> 0</td>\n",
        "      <td> 1.23</td>\n",
        "      <td> 0.19</td>\n",
        "      <td> 0.19</td>\n",
        "      <td> 0.12</td>\n",
        "      <td> 0.64</td>\n",
        "      <td> 0.25</td>\n",
        "      <td> 0.38</td>\n",
        "      <td> 0.45</td>\n",
        "      <td> 0.12</td>\n",
        "      <td> 0.00</td>\n",
        "      <td> 1.75</td>\n",
        "      <td> 0.06</td>\n",
        "      <td> 0.06</td>\n",
        "      <td> 1.03</td>\n",
        "      <td> 1.36</td>\n",
        "      <td> 0.32</td>\n",
        "      <td> 0.51</td>\n",
        "      <td> 0</td>\n",
        "      <td> 1.16</td>\n",
        "      <td> 0.06</td>\n",
        "      <td> 0</td>\n",
        "      <td> 0</td>\n",
        "      <td> 0</td>\n",
        "      <td> 0</td>\n",
        "      <td> 0</td>\n",
        "      <td> 0</td>\n",
        "      <td> 0</td>\n",
        "      <td> 0</td>\n",
        "      <td> 0</td>\n",
        "      <td> 0</td>\n",
        "      <td> 0</td>\n",
        "      <td> 0</td>\n",
        "      <td> 0.00</td>\n",
        "      <td> 0</td>\n",
        "      <td> 0</td>\n",
        "      <td> 0.06</td>\n",
        "      <td> 0</td>\n",
        "      <td> 0</td>\n",
        "      <td> 0.12</td>\n",
        "      <td> 0</td>\n",
        "      <td> 0.06</td>\n",
        "      <td> 0.06</td>\n",
        "      <td> 0</td>\n",
        "      <td> 0</td>\n",
        "      <td> 0.01</td>\n",
        "      <td> 0.143</td>\n",
        "      <td> 0</td>\n",
        "      <td> 0.276</td>\n",
        "      <td> 0.184</td>\n",
        "      <td> 0.010</td>\n",
        "      <td> 9.821</td>\n",
        "      <td> 485</td>\n",
        "      <td> 2259</td>\n",
        "      <td> 1</td>\n",
        "    </tr>\n",
        "    <tr>\n",
        "      <th>3</th>\n",
        "      <td> 0.00</td>\n",
        "      <td> 0.00</td>\n",
        "      <td> 0.00</td>\n",
        "      <td> 0</td>\n",
        "      <td> 0.63</td>\n",
        "      <td> 0.00</td>\n",
        "      <td> 0.31</td>\n",
        "      <td> 0.63</td>\n",
        "      <td> 0.31</td>\n",
        "      <td> 0.63</td>\n",
        "      <td> 0.31</td>\n",
        "      <td> 0.31</td>\n",
        "      <td> 0.31</td>\n",
        "      <td> 0.00</td>\n",
        "      <td> 0.00</td>\n",
        "      <td> 0.31</td>\n",
        "      <td> 0.00</td>\n",
        "      <td> 0.00</td>\n",
        "      <td> 3.18</td>\n",
        "      <td> 0.00</td>\n",
        "      <td> 0.31</td>\n",
        "      <td> 0</td>\n",
        "      <td> 0.00</td>\n",
        "      <td> 0.00</td>\n",
        "      <td> 0</td>\n",
        "      <td> 0</td>\n",
        "      <td> 0</td>\n",
        "      <td> 0</td>\n",
        "      <td> 0</td>\n",
        "      <td> 0</td>\n",
        "      <td> 0</td>\n",
        "      <td> 0</td>\n",
        "      <td> 0</td>\n",
        "      <td> 0</td>\n",
        "      <td> 0</td>\n",
        "      <td> 0</td>\n",
        "      <td> 0.00</td>\n",
        "      <td> 0</td>\n",
        "      <td> 0</td>\n",
        "      <td> 0.00</td>\n",
        "      <td> 0</td>\n",
        "      <td> 0</td>\n",
        "      <td> 0.00</td>\n",
        "      <td> 0</td>\n",
        "      <td> 0.00</td>\n",
        "      <td> 0.00</td>\n",
        "      <td> 0</td>\n",
        "      <td> 0</td>\n",
        "      <td> 0.00</td>\n",
        "      <td> 0.137</td>\n",
        "      <td> 0</td>\n",
        "      <td> 0.137</td>\n",
        "      <td> 0.000</td>\n",
        "      <td> 0.000</td>\n",
        "      <td> 3.537</td>\n",
        "      <td>  40</td>\n",
        "      <td>  191</td>\n",
        "      <td> 1</td>\n",
        "    </tr>\n",
        "    <tr>\n",
        "      <th>4</th>\n",
        "      <td> 0.00</td>\n",
        "      <td> 0.00</td>\n",
        "      <td> 0.00</td>\n",
        "      <td> 0</td>\n",
        "      <td> 0.63</td>\n",
        "      <td> 0.00</td>\n",
        "      <td> 0.31</td>\n",
        "      <td> 0.63</td>\n",
        "      <td> 0.31</td>\n",
        "      <td> 0.63</td>\n",
        "      <td> 0.31</td>\n",
        "      <td> 0.31</td>\n",
        "      <td> 0.31</td>\n",
        "      <td> 0.00</td>\n",
        "      <td> 0.00</td>\n",
        "      <td> 0.31</td>\n",
        "      <td> 0.00</td>\n",
        "      <td> 0.00</td>\n",
        "      <td> 3.18</td>\n",
        "      <td> 0.00</td>\n",
        "      <td> 0.31</td>\n",
        "      <td> 0</td>\n",
        "      <td> 0.00</td>\n",
        "      <td> 0.00</td>\n",
        "      <td> 0</td>\n",
        "      <td> 0</td>\n",
        "      <td> 0</td>\n",
        "      <td> 0</td>\n",
        "      <td> 0</td>\n",
        "      <td> 0</td>\n",
        "      <td> 0</td>\n",
        "      <td> 0</td>\n",
        "      <td> 0</td>\n",
        "      <td> 0</td>\n",
        "      <td> 0</td>\n",
        "      <td> 0</td>\n",
        "      <td> 0.00</td>\n",
        "      <td> 0</td>\n",
        "      <td> 0</td>\n",
        "      <td> 0.00</td>\n",
        "      <td> 0</td>\n",
        "      <td> 0</td>\n",
        "      <td> 0.00</td>\n",
        "      <td> 0</td>\n",
        "      <td> 0.00</td>\n",
        "      <td> 0.00</td>\n",
        "      <td> 0</td>\n",
        "      <td> 0</td>\n",
        "      <td> 0.00</td>\n",
        "      <td> 0.135</td>\n",
        "      <td> 0</td>\n",
        "      <td> 0.135</td>\n",
        "      <td> 0.000</td>\n",
        "      <td> 0.000</td>\n",
        "      <td> 3.537</td>\n",
        "      <td>  40</td>\n",
        "      <td>  191</td>\n",
        "      <td> 1</td>\n",
        "    </tr>\n",
        "  </tbody>\n",
        "</table>\n",
        "</div>"
       ],
       "metadata": {},
       "output_type": "pyout",
<<<<<<< HEAD
       "prompt_number": 12,
=======
       "prompt_number": 20,
>>>>>>> instructor/master
       "text": [
        "   word_freq_make  word_freq_address  word_freq_all  word_freq_3d  \\\n",
        "0            0.00               0.64           0.64             0   \n",
        "1            0.21               0.28           0.50             0   \n",
        "2            0.06               0.00           0.71             0   \n",
        "3            0.00               0.00           0.00             0   \n",
        "4            0.00               0.00           0.00             0   \n",
        "\n",
        "   word_freq_our  word_freq_over  word_freq_remove  word_freq_internet  \\\n",
        "0           0.32            0.00              0.00                0.00   \n",
        "1           0.14            0.28              0.21                0.07   \n",
        "2           1.23            0.19              0.19                0.12   \n",
        "3           0.63            0.00              0.31                0.63   \n",
        "4           0.63            0.00              0.31                0.63   \n",
        "\n",
        "   word_freq_order  word_freq_mail  word_freq_receive  word_freq_will  \\\n",
        "0             0.00            0.00               0.00            0.64   \n",
        "1             0.00            0.94               0.21            0.79   \n",
        "2             0.64            0.25               0.38            0.45   \n",
        "3             0.31            0.63               0.31            0.31   \n",
        "4             0.31            0.63               0.31            0.31   \n",
        "\n",
        "   word_freq_people  word_freq_report  word_freq_addresses  word_freq_free  \\\n",
        "0              0.00              0.00                 0.00            0.32   \n",
        "1              0.65              0.21                 0.14            0.14   \n",
        "2              0.12              0.00                 1.75            0.06   \n",
        "3              0.31              0.00                 0.00            0.31   \n",
        "4              0.31              0.00                 0.00            0.31   \n",
        "\n",
        "   word_freq_business  word_freq_email  word_freq_you  word_freq_credit  \\\n",
        "0                0.00             1.29           1.93              0.00   \n",
        "1                0.07             0.28           3.47              0.00   \n",
        "2                0.06             1.03           1.36              0.32   \n",
        "3                0.00             0.00           3.18              0.00   \n",
        "4                0.00             0.00           3.18              0.00   \n",
        "\n",
        "   word_freq_your  word_freq_font  word_freq_000  word_freq_money  \\\n",
        "0            0.96               0           0.00             0.00   \n",
        "1            1.59               0           0.43             0.43   \n",
        "2            0.51               0           1.16             0.06   \n",
        "3            0.31               0           0.00             0.00   \n",
        "4            0.31               0           0.00             0.00   \n",
        "\n",
        "   word_freq_hp  word_freq_hpl  word_freq_george  word_freq_650  \\\n",
        "0             0              0                 0              0   \n",
        "1             0              0                 0              0   \n",
        "2             0              0                 0              0   \n",
        "3             0              0                 0              0   \n",
        "4             0              0                 0              0   \n",
        "\n",
        "   word_freq_lab  word_freq_labs  word_freq_telnet  word_freq_857  \\\n",
        "0              0               0                 0              0   \n",
        "1              0               0                 0              0   \n",
        "2              0               0                 0              0   \n",
        "3              0               0                 0              0   \n",
        "4              0               0                 0              0   \n",
        "\n",
        "   word_freq_data  word_freq_415  word_freq_85  word_freq_technology  \\\n",
        "0               0              0             0                     0   \n",
        "1               0              0             0                     0   \n",
        "2               0              0             0                     0   \n",
        "3               0              0             0                     0   \n",
        "4               0              0             0                     0   \n",
        "\n",
        "   word_freq_1999  word_freq_parts  word_freq_pm  word_freq_direct  \\\n",
        "0            0.00                0             0              0.00   \n",
        "1            0.07                0             0              0.00   \n",
        "2            0.00                0             0              0.06   \n",
        "3            0.00                0             0              0.00   \n",
        "4            0.00                0             0              0.00   \n",
        "\n",
        "   word_freq_cs  word_freq_meeting  word_freq_original  word_freq_project  \\\n",
        "0             0                  0                0.00                  0   \n",
        "1             0                  0                0.00                  0   \n",
        "2             0                  0                0.12                  0   \n",
        "3             0                  0                0.00                  0   \n",
        "4             0                  0                0.00                  0   \n",
        "\n",
        "   word_freq_re  word_freq_edu  word_freq_table  word_freq_conference  \\\n",
        "0          0.00           0.00                0                     0   \n",
        "1          0.00           0.00                0                     0   \n",
        "2          0.06           0.06                0                     0   \n",
        "3          0.00           0.00                0                     0   \n",
        "4          0.00           0.00                0                     0   \n",
        "\n",
        "   char_freq_;  char_freq_(  char_freq_[  char_freq_!  char_freq_$  \\\n",
        "0         0.00        0.000            0        0.778        0.000   \n",
        "1         0.00        0.132            0        0.372        0.180   \n",
        "2         0.01        0.143            0        0.276        0.184   \n",
        "3         0.00        0.137            0        0.137        0.000   \n",
        "4         0.00        0.135            0        0.135        0.000   \n",
        "\n",
        "   char_freq_#  capital_run_length_average  capital_run_length_longest  \\\n",
        "0        0.000                       3.756                          61   \n",
        "1        0.048                       5.114                         101   \n",
        "2        0.010                       9.821                         485   \n",
        "3        0.000                       3.537                          40   \n",
        "4        0.000                       3.537                          40   \n",
        "\n",
        "   capital_run_length_total  is_spam  \n",
        "0                       278        1  \n",
        "1                      1028        1  \n",
        "2                      2259        1  \n",
        "3                       191        1  \n",
        "4                       191        1  "
       ]
      }
     ],
<<<<<<< HEAD
     "prompt_number": 12
=======
     "prompt_number": 20
>>>>>>> instructor/master
    },
    {
     "cell_type": "markdown",
     "metadata": {},
     "source": [
      "Separate features with iloc indexing"
     ]
    },
    {
     "cell_type": "code",
     "collapsed": false,
     "input": [
      "features = spam_data.iloc[:,:-1]\n",
      "target = spam_data.get('is_spam')\n",
      "\n",
      "# features.head()\n",
      "# target.head()"
     ],
     "language": "python",
     "metadata": {},
     "outputs": [],
<<<<<<< HEAD
     "prompt_number": 13
=======
     "prompt_number": 11
>>>>>>> instructor/master
    },
    {
     "cell_type": "markdown",
     "metadata": {},
     "source": [
      "Convert DataFrames into numpy arrays"
     ]
    },
    {
     "cell_type": "code",
     "collapsed": false,
     "input": [
      "feat_val = features.values\n",
      "target_val = target.values"
     ],
     "language": "python",
     "metadata": {},
     "outputs": [],
<<<<<<< HEAD
     "prompt_number": 14
=======
     "prompt_number": 21
>>>>>>> instructor/master
    },
    {
     "cell_type": "markdown",
     "metadata": {},
     "source": [
      "#### Use crossvalidation to score model"
     ]
    },
    {
     "cell_type": "code",
     "collapsed": false,
     "input": [
      "from sklearn.linear_model import LogisticRegression\n",
      "\n",
      "model_lr = LogisticRegression(C=1).fit\n",
      "cross_validate(feat_val, target_val, model_lr, 10)"
     ],
     "language": "python",
     "metadata": {},
     "outputs": [
      {
       "metadata": {},
       "output_type": "pyout",
<<<<<<< HEAD
       "prompt_number": 15,
=======
       "prompt_number": 22,
>>>>>>> instructor/master
       "text": [
        "0.92719183250023585"
       ]
      }
     ],
<<<<<<< HEAD
     "prompt_number": 15
=======
     "prompt_number": 22
>>>>>>> instructor/master
    },
    {
     "cell_type": "markdown",
     "metadata": {},
     "source": [
      "### Exercise 2: Compare Performance of Logistic Regression to KNN"
     ]
    },
    {
     "cell_type": "code",
     "collapsed": false,
     "input": [
      "from sklearn.neighbors import KNeighborsClassifier\n",
      "\n",
<<<<<<< HEAD
      "model_knn = KNeighborsClassifier(4).fit\n",
=======
      "model_knn = KNeighborsClassifier(11).fit\n",
>>>>>>> instructor/master
      "cross_validate(feat_val, target_val, model_knn, 10)"
     ],
     "language": "python",
     "metadata": {},
     "outputs": [
      {
       "metadata": {},
       "output_type": "pyout",
<<<<<<< HEAD
       "prompt_number": 22,
       "text": [
        "0.80482929359615196"
       ]
      }
     ],
     "prompt_number": 22
=======
       "prompt_number": 25,
       "text": [
        "0.7906979156842403"
       ]
      }
     ],
     "prompt_number": 25
>>>>>>> instructor/master
    },
    {
     "cell_type": "markdown",
     "metadata": {},
     "source": [
      "### Exercise 3: Evaluate Feature Importance"
     ]
    },
    {
     "cell_type": "code",
     "collapsed": false,
     "input": [
      "feature_names = spam_data.columns.values[:-1]\n",
      "feature_names = feature_names[:]\n",
      "model_lr = LogisticRegression(C=1).fit(feat_val, target_val)\n",
      "x = np.arange(len(feature_names))\n",
      "plt.bar(x, model_lr.coef_.ravel()[:])\n",
      "_ = plt.xticks(x + 0.5, feature_names, rotation=30)\n",
      "\n"
     ],
     "language": "python",
     "metadata": {},
     "outputs": [
      {
       "metadata": {},
       "output_type": "display_data",
<<<<<<< HEAD
       "png": "iVBORw0KGgoAAAANSUhEUgAAAaMAAAFECAYAAACK1FHOAAAABHNCSVQICAgIfAhkiAAAAAlwSFlz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\n",
       "text": [
        "<matplotlib.figure.Figure at 0x10d8cca90>"
       ]
      }
     ],
     "prompt_number": 30
=======
       "png": "iVBORw0KGgoAAAANSUhEUgAAAYkAAAEuCAYAAAB7xO7rAAAABHNCSVQICAgIfAhkiAAAAAlwSFlz\nAAALEgAACxIB0t1+/AAAIABJREFUeJzt3Xm4JFV9//H3Z4YZkF1kFWYckRkUZZOICCKXRUSM4MKi\nEVFQQaIBCUbDogzRYMAFRBRRQXEDFRVBUR8UruCGgIiKGCGKAROIETDi/EyA+f7++J5mapquO/fe\n6qXu8Hk9Tz/3Vnd1nVPdp873nFOnqhURmJmZ9TJr1BkwM7P2cpAwM7NaDhJmZlbLQcLMzGo5SJiZ\nWS0HCTMzq9UoSEiaJ+kqSTdL+rmko3usMybpj5JuLI+TmqRpZmbDs0rD9z8AHBsRP5G0JnCDpCsi\n4pau9b4TEfs1TMvMzIasUU8iIu6KiJ+U/+8HbgEe32NVNUnHzMxGo2/nJCQtALYHru16KYCdJd0k\n6XJJW/UrTTMzG6ymw00AlKGmi4FjSo+i6sfAvIhYIun5wCXAoh7b8P1BzMymKCIGOlLTuCchaQ7w\nReDTEXFJ9+sR8aeIWFL+/zowR9J6vbYVEdN+nHzyyY3e369HG/LRhjy0JR9tyENb8tGGPLQlH23I\nQz/yMQxNZzcJOA/4RUScWbPORmU9JO0IKCLuaZKumZkNR9Phpl2AQ4CfSrqxPHcCMB8gIs4FDgCO\nkvQgsAR4WcM0zcxsSBoFiYj4LivojUTEB4EPNklnMsbGxgadxKS0IR9tyAO0Ix9tyAO0Ix9tyAO0\nIx9tyAO0Jx8T0bDGtVZEUrQlL2ZmM4Ekou0nrs3MbOXlIGFmZrUcJMzMrJaDhJmZ1XKQMDOzWg4S\nZmZWy0HCzMxqOUiYmVktBwkzM6vlIGFmZrUcJMzMrJaDhJmZ1XKQMDOzWg4SZmZWy0HCzMxqOUiY\nmVktBwkzM6vlIGFmZrUa/ca1mQ2HNNBfqHwE/5SwdThImM0Yw6q4hxuQrN083GRmZrUcJMzMrJaD\nhJmZ1XKQMDOzWg4SZmZWy0HCzMxqOUiYmVmtRkFC0jxJV0m6WdLPJR1ds95Zkm6VdJOk7ZukaWZm\nw9P0YroHgGMj4ieS1gRukHRFRNzSWUHSvsAWEbFQ0jOBc4CdGqZrZmZD0KgnERF3RcRPyv/3A7cA\nj+9abT/ggrLOtcC6kjZqkq6ZmQ1H385JSFoAbA9c2/XSpsAdleU7gc36la6ZmQ1OX4JEGWq6GDim\n9CgesUrXsu8eZmY2AzS+wZ+kOcAXgU9HxCU9VvkdMK+yvFl57hEWL1788P9jY2OMjY01zZ6Z2Upj\nfHyc8fHxoaapJrcEVt6/+ALgDxFxbM06+wJvjIh9Je0EnBkRjzhxLSl8e2Kz3vJQG95dYH0szgyS\niIiB3ra3aZB4NnA18FOWleATgPkAEXFuWe9sYB/gz8BhEfHjHttykDCr4SBhvbQ+SPSTg4RZPQcJ\n62UYQcJXXJuZWS0HCTMzq+UgYWZmtRwkzMysloOEmZnVcpAwM7NaDhJmZlbLQcLMzGo5SJiZWS0H\nCTMzq+UgYWZmtRwkzMysloOEmZnVcpAwM7NaDhJmZlbLQcLMzGo5SJiZWS0HCTMzq+UgYWZmtRwk\nzMysloOEmZnVcpAwM7NaDhJmZlbLQcLMzGo5SJiZWS0HCTMzq+UgYWZmtRwkzMysloOEmZnVahwk\nJJ0v6W5JP6t5fUzSHyXdWB4nNU3TzMyGY5U+bOPjwAeAT06wznciYr8+pGVmZkPUuCcREdcA965g\nNTVNx8zMhm8Y5yQC2FnSTZIul7TVENI0M7M+6Mdw04r8GJgXEUskPR+4BFjUa8XFixc//P/Y2Bhj\nY2NDyJ6Z2cwwPj7O+Pj4UNNURDTfiLQAuCwitp7Eur8BdoiIe7qej37kxWxlJInslA8lNXwszgyS\niIiBDucPfLhJ0kbKEo6kHcnAdM8K3mZmZi3QeLhJ0oXAbsD6ku4ATgbmAETEucABwFGSHgSWAC9r\nmqaZmQ1HX4ab+sHDTWb1PNxkvawUw01mZjZzOUiYmVktBwkzM6vlIGFmZrUcJMzMrJaDhJmZ1XKQ\nMDOzWg4SZmZWy0HCzMxqOUiYmVktBwkzM6vlIGFmZrUcJMzMrJaDhJmZ1XKQMDOzWg4SZmZWy0HC\nzMxqOUiYmVktBwkzM6vlIGFmZrUcJMzMrJaDhJmZ1XKQMDOzWg4SZmZWy0HCzMxqOUiYmVktBwkz\nM6vlIGFmZrUaBQlJ50u6W9LPJljnLEm3SrpJ0vZN0jMzs+Fq2pP4OLBP3YuS9gW2iIiFwBHAOQ3T\nMzOzIWoUJCLiGuDeCVbZD7igrHstsK6kjZqkaWZmwzPocxKbAndUlu8ENhtwmmZm1ierDCENdS1H\n3YqLFy9++P+xsTHGxsYGkyMzsxlofHyc8fHxoaapiNo6e3IbkBYAl0XE1j1e+zAwHhEXleVfArtF\nxN091o2meTFbWUligvZVv1PDx+LMIImI6G6I99Wgh5suBQ4FkLQTcF+vAGFmZu3UaLhJ0oXAbsD6\nku4ATgbmAETEuRFxuaR9Jd0G/Bk4rGmGzcxseBoPN/WLh5vM6nm4yXpZGYabzMxsBnOQMDOzWg4S\nZmZWy0HCzMxqOUiYmVktBwkzM6vlIGFmZrUcJMzMrJaDhJmZ1XKQMDOzWg4SZmZWy0HCzMxqDeNH\nh2wGyhvKDU+bbyjnz8IezRwkbALDu+to+/mzsEcnDzeZmVktBwkzM6vlIGFmZrUcJMzMrJaDhJmZ\n1fLsJjObUTwlebgcJMxsBvKU5GHxcJOZmdVykDAzs1oOEmZmVstBwszMajlImJlZLQcJMzOr5Smw\nZjZpvkbh0adxT0LSPpJ+KelWSW/t8fqYpD9KurE8Tmqapj16SBrawyYrhvSwNmjUk5A0Gzgb2Av4\nHXCdpEsj4pauVb8TEfs1ScsezYZRYThImPXStCexI3BbRNweEQ8AFwH791jPR6CZ2QzUNEhsCtxR\nWb6zPFcVwM6SbpJ0uaStGqZpZmZD0vTE9WTGAX4MzIuIJZKeD1wCLOq14uLFix/+f2xsjLGxsYbZ\nMzNbeYyPjzM+Pj7UNNVk9oCknYDFEbFPWT4eWBoRp03wnt8AO0TEPV3Ph2cytEeeyB3eTdTqvvvh\n5aMNeajPRxvy0JZ8tCEPbSGJiBjocH7T4abrgYWSFkiaCxwMXFpdQdJGKlNHJO1IBqZ7HrkpMzNr\nm0bDTRHxoKQ3At8EZgPnRcQtko4sr58LHAAcJelBYAnwsoZ5NjOzIWk03NRPHm5ql7Z06T3c1J48\ntCUfbchDW8yE4SYzM1uJOUiYmVktBwkzM6vlIGFmZrUcJMzMrJaDhJmZ1XKQMDOzWg4SZmZWy0HC\nzMxqOUiYmVktBwkzM6vlIGFmZrUcJMzMrJaDhJmZ1XKQMDOzWg4SZmZWy0HCzMxqOUiYmVktBwkz\nM6vlIGFmZrUcJMzMrJaDhJmZ1Vpl1BmwR5I0tLQiYmhpmdnM4yDRWsOovIcXjMxsZnKQMDObhmH2\n+GF0vX4HCTOzaRtWxT26Xr9PXJuZWS0HCTMzq9U4SEjaR9IvJd0q6a0165xVXr9J0vZN0zQzs+Fo\nFCQkzQbOBvYBtgJeLukpXevsC2wREQuBI4BzmqRpZmbD07QnsSNwW0TcHhEPABcB+3etsx9wAUBE\nXAusK2mjhumamdkQNA0SmwJ3VJbvLM+taJ3NGqZrZmZD0HQK7GTnf3XP3+r5vmHNO66bb9yuec9t\nuNCtDXmAduTDeVimDfloQx5g2PkYHx9nfHx8qGmqyQUaknYCFkfEPmX5eGBpRJxWWefDwHhEXFSW\nfwnsFhF3d20rhnWV8cRBYnjznn1LDDNrQhIRMdBI1XS46XpgoaQFkuYCBwOXdq1zKXAoPBxU7usO\nEGZm1k6Nhpsi4kFJbwS+CcwGzouIWyQdWV4/NyIul7SvpNuAPwOHNc61mZkNRaPhpn7ycJOZ2dTM\nhOEmMzNbiTlImJlZLQcJMzOr5SBhZma1HCTMzKyWg4SZmdVykDAzs1r++dJHaMs9YczMRs9BosIX\nt5mZLc/DTWZmVstBwszMajlImJlZLQcJMzOr5SBhZma1HCTMzKyWg4SZmdVykDAzs1oOEmZmVstB\nwszMarXsthy+b5KZWZu0Kkj43klmZu3i4SYzM6vlIGFmZrUcJMzMrJaDhJmZ1XKQMDOzWg4SZmZW\ny0HCzMxqTfs6CUnrAZ8DngDcDhwUEff1WO924H+Ah4AHImLH6aZpZmbD1aQn8Y/AFRGxCPh2We4l\ngLGI2H6QAWJ8fHxQm56SNuSjDXmAduSjDXmAduSjDXmAduSjDXmA9uRjIk2CxH7ABeX/C4AXTbDu\nwO+30ZYPuw35aEMeoB35aEMeoB35aEMeoB35aEMeoD35mEiTILFRRNxd/r8b2KhmvQC+Jel6Sa9r\nkJ6ZmQ3ZhOckJF0BbNzjpROrCxERkupuvLRLRPynpA2AKyT9MiKumV52zcxsmDTdm+pJ+iV5ruEu\nSZsAV0XEk1fwnpOB+yPivT1e8939zMymKCIGOpzf5C6wlwKvAk4rfy/pXkHS6sDsiPiTpDWAvYFT\nem1s0DtqZmZT16QnsR7weWA+lSmwkh4PfDQiXiBpc+BL5S2rAJ+JiHc1z7aZmQ3DtIOEmZmt/HzF\ntZmZ1XKQWIlJGsh5HkmLJB0uac1BbH+KeXncqPMAg/usbeUjaWT1rqSJrmfryUGiAaXZo85HL5Jm\nR5/HEiVtKGkt4EnAs4Fd+rn9KeZlrqRTgUMlrT2qfJS89P2zbmqUFdFMIml2J8AP+jMr9cWsiFg6\nyHRq0p4raVXgAkl7T+W9LkjTJEmRHpK0XpkG3BoR8RCApL+T9MKm25O0EXA88AbgG8C/ATuPYr8l\nzYmI/wN+AGwJbD3sPFRVPusTJe02yryUfKhTEUl6gaSdR52nqmrFXHlu6D0xSU8kJ9yEpNUGXXmX\n+mJpqS8+JGnBINPrkHQisG9E/C95+6QTV/CW5ThITFGn59BpOUp6C1lZnSzp9BHma1a1JSTpyZJ+\nCOwF3NVkuwDl6vrvAZuTFfNXgMcBuzfJ93RExAOSVgG2AhYCz5e0zjDzUO1BStpS0ieBpwB3DjMf\nlTw8XMmWSm8zSccDRwF/HEWe6kTEQyWPO0nac9g9sc5nFRG/AU6UdDZwraSxAaQ1u5qmpEOBjwK/\nj4jb+51eV9qd+uBDwFclrR8R5wBzJB012e04SExRp9UIUFqNT4iILYFrgDdKGnqrthxkS0srZd3y\n9HbAhcCLIuK60hOYyjbV2W7l6R+RleAhEfFz4BZge0lb9WM/JsjLHuWK/c7yQvLzXpe8ueRBwLMG\nmYdupQf5+LK4NXAg8IGI+LcSwIamu5ItFdNi4CXA2yPi5lEPP3U1YNaR9AXgn8l7vr1T0qIh5KFT\npqMSVG8DXgm8MiLG+5zWrEp90SkTT6RyvdggvpdKQ3Zp+Xsv8B7ymjaAE4BjJD12MttzkJgESR+R\ndET5fw1J50jah2xV3y3pQuC1wF9HxM+Gnb9SYc2W9M/AxeXLX5/sRXxL0lnAjyQdqrzAcTLb7Ayl\nzZP0ltI1v4OslDeRtAfwRbLwP0cDODcjaUx5a5hTgA9IOqa8tB7w54g4PiJOBT4D7CFpfr/zUMlL\nr+GQX0jaLyIuBr4AvBwgIh4cVD56qQx3HS3pAPK7Pw34b2DeqMbBu/K4tPIZbgdcFxF7knXQHsAa\nQ8hDp0zPBw4vDY9jgeuBHSHH7pukUemldIaWdpD0KeCE0rh5P3Ar8DedtzRJr1f6lfLwDEnblZfO\nAhZI2qMEw5uY5LCTg8QEKhXfFWQvYQ1gKbBuRHwD+H/A64CvR8TuEXGlpOdI2nLA+ZpVrbTKUMtn\ngbnA4aXl8CHgHcBby2Mx8IyIWDKFdE4ALgPWAf4eeE1EfA/4GdlKvRf4PrBTefSNpG2B15MXZu4K\nfJlshQGsCvxW0lPK8meBA4Ax5cm5fuajM9zWGV7cWlLnfmZvBToXh54NbCHpWWW9gU5oqAxjzFLO\nNrsa2BZ4DDks+Fuy57c9sGlZd2jj/t1plR7uuyXtSfYAD5Z0DRkc9ouIG5WTIgadrxPIodItgXcC\ni4B/AN4iab1yrqvnPkxi20eSZbFz3uV5wHuBjwFrkxX1xuRxebSkVUrQ6ls9XHpJT5R0CfAv5DD4\n30TEr4GvAa8pPd03A6+oBJFaDhI9VLprD5W/XyBb0a8nZ/V0xp2/BPw78FhJT5P0euDDwA4DzNus\nMrQUkjYsT88lx8M/DGwuaX/yRNWPgJ+QB8KLgIckrTKZwi9pHvBf5L5cQ7b2Dpe0BRk4BBwCfBX4\nOnBjP/cT+FfgtRHx+bL8CuBPkp4M/JgsuzsDRMStZMB6OjCpLvSKVIYmllaeewZwKlnxEhHnAg9K\nenP5rK8hW6bLDUsOQqlcNi35m09WCMcCuwL3k5Xv58nA+kzlyf6hjftXgmpnmvQcMljdTZar+4GP\nR8SrI+JuSc8Hntav9LsbUuW5DYC1I2J7snGzG7BFRPwY+Cl5fuJISWdU92ESac0p/34SeKGkrcr3\nvwnZy4Xs1X+f7EVcSk786Az/TPt7qWmMHAZ8vvTUZpNDS7sBHyAbfK+IiDuAjwDzVphIRPhReVCu\nQi//PwN4evn/KeTtR74DnAwsKs8vIGcMfI0ccnjygPI1q/L/RmTr5BvAW8gTyCcDVwPvA84leznz\nyYr8arKHUbuvNWnOLdv/HvAcslV0RnntCOAkYM6Av4/HkuOplwHHAb8jW8zPJA/AS8jhglOBdQaQ\n/ryS7lZl+S0lrS3K8l7kieHVyKnB5wKbDer77yoHvwb+quTptvI9Hd/1vn8o39t6g/yeSlqrdC2/\nmDxJu2lZ/hjZ85pDDnV8q5Sr88je6U79/KzK/1t3tgtsQJ5Hu4ps2OxaWe9x5XP6CrDzNNPdBLgc\n+EZZfj3wGzIobFmemwusRZ5DO4ccrp3wOFzRPpblfYFty/+rkRM6fljSOJPsxcwCDi77v/ak0xp0\nwZmJD7L1dQk5/v5lMvJCdtHuJcfILyNPDJ9cvvTHVr/A6XzxNXlZpWu7q5WD7dVkgPoOyyru6sHx\nBTLIrcnygW929e8K0l6TbG0sLMsfIntOuwBzu9ad1v5O5n3AhpX/jyOH9yC78IcAz6x+Rn0sB4eX\nyuuj5fN8D9lC/wxwcFlnPhmQ3zegsthdGTyu8v87gf3JIYx7gL+qvPZm4AXk0Nzqg8jbBHnei2yx\nzidPTl8ObEgGhLNKGZ4D/G2pwE7tx/dWLdMl/XcDPyd7Ca8t5eUc4MLKepsDR5KV96qTLZddac0l\nz899G3gbsAR4Hssmjzy3rPcUsjG5R4N9VFfa65GB7Xvk8OKu5fnXVuqF55K9t1d1ymzX9ibc16HO\nwmijMqTQPTTQ6a59VtKl5PjhneRJp1eThf5fyA//MRHxpxVsbzr5mh8R/x7lJKik5wKvIX9XfDWy\nu3o+OfZ82rK36VhyfP43wC0RcX9XvgKWO9n5PODWiPh19wnOiLhf0jbAgWUccz3yOokfxLJ5+A8P\nf01jHyf1WUXEf1UWfw18tzz/P8CnOztOFvZ+nqBdCJwQEZeVMfVbyV9h/ALw4vLZrU9OM72886Z+\nnCgu+1OdHYOkVwH/IOn5kcMFc4DHR96u/8PA+yRdBuwDPAB8MXJufF/y1CuP1e9d0q5kA+Y2soV8\nfkScKOk0MrhvCNweEX8pb/lQtQyUMfopn/SvlMGHyue2PRngHxcRTyvnQY4BbiYbfW+X9EayPL8C\n+GAsfy6itlx29rmktRrwMrI83k/OkFoi6XfAhyLiSZK+BiyW9BqyB/yxiLhyMmnVpU0OGz8BOBq4\nDvhWRHxAOR3/QEl3kZMW9i7n7V5CBqfrASLi36d03DaN3jP1wdS7ax8orx0D3DjgvL24pLsDOaZ4\nJvBxlrUSbiDH7LevvOfZZKvgDGDPSaRxENlL+C7w9z1eX6X83YacMncx8MTK69PuKfX47J8HbN7r\ntfLcHLIF/yZyVsZLu17vey+mpPk9YK/KcyeQ4+iQ4+dnAM+u268+lYXu4a6TyLHlvct3/qPKunuR\nwzgvHmT5LGnN7lqeS/a0XlyWX0n2PPcuZfi5wB+AvwCbdH8P/fjsyPNmV5fP6L3AtyuvnUX2+lcn\nz2X9PRnQ5k9y291ldidytOH48rnf2Pkcyt9/BY4p/3emva7btMyW9z6fHGo+p+xvZ3hrA7Lh+Bpg\nM3KyyvXkNOjpf66DLkxte9Csu3ZoWe6MR6v6tw95m1P5st8NvKEsX0iOI25Ulg8Hrqzk/2PlsUb3\nflb3lzIMRraeri/79Wly+GSXzjo98lUdxurnUNqEgaqy3gbAJ4CLgAV9Srt2uK3yeb0F+H7l+cOB\nY2vKVF8+k67tdg93va88vxfZU3x5+f7mTXUfG+SpWhbWJnuta5Tlb1bK7OPI8yHHVsr1y8lrbBod\nMz2O4TmlTN8I7FOe25UMUi8pywuBK8kJHOra3uy6/HSnVZ7bgaycL6k8dyPwpsryp8iZkGtONq1J\n7vsB5MW7p5TlRSXtHcvyweSEhc7ymtW0p5Pmo2p2U1dX8QmS3ktG+G9FxC5ka/lA5XzmXt21GwAi\n4rbSXesM3Ux5qKUmbw+UxZeQ5xv2kvQkskUwi/I74hFxPnCnpM8C48B9wBsj4s9lW528RWV/58Sy\n7uUY2SK+Ang7OQNqv04XtDMrpAwxEcuGlhTTGFrqzBTq5K0sv4KshL9ATgjYQdIunXWq74+I3wMn\nRsTLIuJ29bitwxTy0pnS+vBwm/J3T6rpdi5COh0ISWdUhkxu795e50OeTn5WoDPc9TpyqvUhknaL\niG+RZeIIstf5v1156szV79sMq8rn1ikLu5GzuY4BPqa8juZTwJMkPTYi/kBOx127U64j4sKI+HT5\nf1qfV9cxvFaZ4fUAOeNwLst+bvmXwC/IadEbRM6AuxT4QzXt8v09VJefSlrzJB1XZi7dQFbES7Rs\nuvsR5PTSf5T0JeBXwN6RQ7azKnmvTau6jxM8dynZwJujvIL6V+QQ9Eklv58jG7u/K8v3d46X6ZaH\nR1WQ6Hw5yul255Jdz78lT/BBDumsSZ5gu56swD4F/GdEHBYRN1e21Xh8V9Jqkr4t6ZkREcoL9T5C\ntvA/QwaKQyLiX8mezuFadkX1YeTsiRdExJsj4i/qmg5XOaCPA74k6Qjl/WK+A2xXxkN/TQ4BPJsc\ny4ZydWgsOx/yUknbTefArlSi0w1Uc0pefleWJ3Wg1al8JgeVz/ptZOvy4dfKd9E5X/c3ZNd+Nnmx\n5Jd7bW86Jgp0Zb+fQ54UJyLuI4dQ/rYsX0B+/7vH8uds+tJo6crLrMrn9iJJbyVnl70y8hqWB8jG\n1n+QrfpzJO1OluN/67G96Qb4h8+BSHoD2Wh7m6QzybH588hyvU5pWFxLDlO+DCAizoyIa6rbnMz3\nJ+lw8pzTk4FTSuPy/PLyNsr7Pl1H9vz+SA49vaME8+XK1STS6nmLklImZ0WeO7mMnEnVubvDOcAi\nSQeWdd/TOV7K8rSPl84GHlUPRtBdq8nHquXvYuDL5f+1St46UwZfQF6ktTs5rPQDeneXZ1Ue1ZlM\njyHHqM8lZ1Z8tWzvhcAHgSPLeoeRQzlns/xMor3IbvXxU913HjmGexxZuI+gBD9yGKUztPN3ZCDc\ntyzP6Xr/S4HtpvE5Nxpu67HcaLhgMmWJiYe73tRj/b6fC+l8dpX/Nyrf0VXkbKQ/Ay+vlNPzyKC2\nHhl4L6IM9TTMw1rAs7rK+g7k8Orc8h0uJU9W70SevzusrLsaeZ5io177NIU8vAt4Yfl/XeD35Dmp\ng8oxs33N+yb9vfQoZys6T3cqWXcsKMvbsPwQXN/KxErZk2hbd62XiPjfkqfbyIudDoicJfVz8iIf\nyDHe+eRJwCVkpfp/UUpBxRbAfmTBCEkbl1by1sDjyRk5h5Bd8QvIOeJfJi+y+TrZOv0iOfPpFaUb\nfxF5XubAiHjXZPe9M5wUy1qej1HehXIRWentR07P/CPwfyUNyNkhdwD7StowyhCFpL2UV+YuIsfn\nJ60PvZjui+ka9WI6eYJGw12/7d5m9H/W0nI3sSxOJIPrP0bECeT5hiPLel8jT0q/lJzw8I7IocEv\nde3XdKxD3m14saQPkg2XheTw0kfJk9EviogbyeP6ZvKGj/Mj4i8RcWXkxXoP3y6jx/5OtUd3Bnmu\n5Svk8bWguo8qpvK9xCR6uOX1TjqfJ6fYbljW+WlUrt7ua5noV7Rpy4OJW2idC5L2JoeWdi/L65Bj\nmAcOMF/drf+dyBkQp5BB6naya3wcOb22M5vlPPJcSc8LjciZGndRZjSRrYvzgTeX5fOB/wSOq7yn\nc+J9fuczKMsvJ3st+wLbTHH/Old1d2ZFbUyelN6R7LXsTM6Zv568fmMV8oD/BRm0rqPcJI88ANci\nW6MXUWkJTjIvg+jFbNvn8jDZ2WVPIFuV76Eyu2xIx9LryMCwKTnL6lKyJz6HbMVfzrIZPE8nZ9VU\nr+uZVs+7axurlnTuBU4vz72IbFAc1XU8bUn2eJ4zhbSm26M7rvy/YJr72I8JJZOamdW4HAyz0A10\nR1raXasWhq7nDwLOrCxfUyqz9cjA8f1ScX2uuzCw/DDAk8jewVFkN/wUyhXA5fU3kdP/5pflo8le\nw8Y98jTdg7otgWqQw22rTCUvvb7/6VQGPZb7Mtw1URklK9orS74OJmdSrUP2AN8FPKmsty/Zol+z\nT/nonkXUOX5fRDYejq68diXZm9mODPo3A0dMpax0LT+ivugqS98jexCnlbRe0vX+SX8nLD9DbE7l\n/4+ybHbY5mX/TuvODwO+y8Ej8jvMxIayQytuoXU+8O3Iec47TlR4+piveWSL5ImlsjgeOLXy+q5k\n5T6vsrxn5fWe0yxLRfN7sifSOXj/AOxf/t+CvBHdD8kT1l8Ddujzvo00UNGiXkxdWZpmZdBdaQ5i\nmm21IpxHBulnkD2GVcmK8RfltQXkVORDyItIoVzl3Z33KeZhU5YPUk8t39U4cHZ5bozs/XeuXn5a\n+dy+Uh6hqIihAAAMzElEQVRPn+b+D61HR0vO000534NOYGAZn0ndtbwI6yelojqbnDGziDz/0GlR\nb0J2qc/s8f6HW489Cto2ZK/obErLm7wq/Ndd6y2gMmTVzwqHEQYqWtKL6cpT64e7euR5n/LdHEBW\nvr8mJ0r8U9d6R5KzaaYdPLu2twt5Ff865DDWO8hg/ZLy3KXASWXdk4DTyUbJi8txsV5lW7N6Heed\n8s6IenQMpod7DdOYUDKt72jQCQyoQM+Y7hrZAnttKVT7kF3VH5AXiB1fCsEHyZudvRFYv8c29iav\ng6hLY10yEL2nciDcALyrZv3pDiu1LlDRguG2arkcQGXQaLhrkvk+gAzg7y/La5CBdd/KOm8gh55m\nM4Wbw00i7c4svx3K39NLXjqB/GnkcNdG5Zg+j2wUHNW1nRWeiyz/D61HR0t7uFP+joaVUJ8KVCu7\naysqNDzybqpnsOwk3FPJG7U94vYOZGtnDnAo2dV+aq/PoTy3Ryl4B5blnYDz+vjZtyJQ9dhOG4bb\nWl8Z9CqjVBpNZCB9NyV4kretuK4cY98gh3626i6jfcrbbmVf9y7laLyU5045OgP4Wvl/LSZ5R9vu\nPDLEHh0t7OFO9zEjpsAOeFrlzxvmbTK/zzuXrKxeHRFXk2O9B0vaOyJujoiTIuK7ZebcwxcuRXqA\nvPPqfWQXm+ialln+vZ6cTru/8sdTfhgRr2myb53tl2mAG5NXRT+1PN99VfR9ZEX8GHKoALL1uSE9\nxBSnE1empXaX2bvJA/2rLPt1s+PIioWIuC0iTiMvqHprRLwgIm6Y7gVdPfK1M9na/1NEPChpMdmr\n+lXkb0w8huy53BMRfxV50dWCyAut9iEbC8+I/M2S75PDkruS56teFvnb4k3zuKILtB4gP7/1yd8N\nJyLeR94CfxbwyYgYi4hfVN47pSmWK/i8v0f+RsgYefxeSM6UWr+8/k7y6uZ1gCURcY8muOp+QPXF\n1eX9NzM5d5NT2BdJ2oFs8L2U7C1C3pn2C+WBpKOB0yRtHHljz6sq2/p8RFwVEZdHxE8nmX7/DDsq\nTeVBi1toTH021Q/JlvbbS/p/zfLd4E7voXoCb1WyxfFD8iC+kjK9ryaNbVl2EWDPrnKD/R0jK96T\nerzWSWvt8jl/mj7+fgEt7cWUbbVmuKsPZfRU8rqDzfv5uU30vkq536F8Tq8gK9RvkMOvkx4ablN9\nQQt6uH0rR6POwAQf8ozortGnu6nCI66j2Ia8VUbnauwnkif1zmTZzJLaGwz2em4K+9SKQEWLhtsm\nyGPrK4NJlNEVzfib7l12pxqkjijl+wlkw+CwunLZ470jqS8qZbw15+n6Xn5GnYEJPvxWtdDoz2yq\nR9xNtbtQlMrt42SLbi+ye9tJd4zsnu5fydOsru1u0GQfu5ZHFqi6tjPGiHoxPdJpbWXQpzLa9xl/\nTD5IbU7eufWvp5HG0OsLWtzD7ev3N+oMTPABt6aFRvPZEd0/66jy6H7+aeQtGY4vyxuTXd/OPXJW\nLwf8xd2Fm5w9cxFdra9J7l+bAlUrejFd2219ZdCHMtp4xh/9CVIbdm9zkmkPrb5gBvRw+1q2Rp6B\nFrfQeuSpL7OpqnkkK/69KD9IQgaAy8r/65PTDn9GdtXfRd6VtvrbvGuQdwe9kinOpafdgWrkvZiZ\nUBkMqow2yQd9aEitqJz02O+h1xe0oIc7jMdIZzdJ2pucAUN0zZaIPIt/Onn74UPLDI1PAPdKeldl\nvdsj4odle5OZaTSZfA1ydsTPOnkst/b9Bdn1vUB5e+UjgD0lLYyI/4684eBpJc31gddHud2x8ncv\nPglcGxF7RMRNU9jHzn35H5S0esnjuhHxc+BL5BgvwIPkMMEJyp/rfBv5Y/Lvj4i7yrbWUN4++YNk\n6/njU8kHLHcb950kfZycybUaOTtkdkT8hvwN4U3Jln3n/Z0Wa2d5g+r2miifz0hnl9UZ8Iy/Sd9I\nsfuGcurTbelr0hpZfaHKbfglrSrpfPIeawuBPSQ9p+vziPL3f8gG3FmRs7LUvb3WG0VkoqUtNAY7\nO2LjSjoLyStXzwC2Ls8dSV4otAl5Ada3u/JWbZ11WoVzaHiRVcnv7eSVrV9h2W3JlwALK+sdUj6D\nj7L8L+AtJMd2D5pGGWhFL6ZrO60b7hpiGZ30DB4GexVxr+HZkdQX1X0syyPv4Q77MdrEW9RdYwiz\nI1g2pHRAOUh+y7I70W5GtoQOKMtLgT26P5NeB8Yk92+59zLCQNVVuYxsuK0uT2W5dZXBMMroJPIw\nsiDFEOuLHuVhZOfpRv0YXkLtb6ENdHYE2cL5Sdn2zsD7yVbTOyvrfAJ4Tfl/IFdWMsJA1SMvI+nF\ndO9P13JrK4NBl9FJpD+0IMWI6gta2sMd5WPwCcyAFlrZ7kBmR5T93ZCsfP67HMTPIK8wfX056E8n\nK8wfUCpllp3Y6+ftD0YSqGhRL6YrTzOqMhhUGZ1C+gMPUt3HN0OsL2hhD7cNj8FtuKUttEqBGvjs\niFLQTgM+UJbPJ08071cO5HeQFw79E/lLUzsP6LtoRaCiJb2YtlcGwyyjU8zXwIJUdx4Z7TTskfdw\n2/To/wZb3EJjBPPdgTXJ1vnp5G8BH1sO9t+Sd35dt2v95U4I9mGf2xKoWjHc1pWn1lUGoyijPd4z\nzIbUyOoLWtjDbeOjvxtraQuNEc+mIk/OfbNURG8rzx3eXRlM54CeZPojC1S0oBczEyqDUZfRyraH\nFqTaUl/Qkh5uWx99vU4iOp/YCOf/1+UrRjjfPSL+RB5YkK1nIuL8iDi7a70p3Rl1CunfT15EtS35\nPawZOa/8FOCSyDu4Ag/PHV/a+S6bkLQ6ecXt2yLnpl9KVjKbkHP3NyVvePgXMkgcFxFXljwvrf5t\nonz/SyWtW57aFtiavFtt506jXyOHTnaJiH8Gdpe0R2UbD1Tu0vtQ57ko8/v7lMeRldFR3O23DfVF\n+Y7Hy51a/wN4CPgwsGfJ451l39Ypb9muU0ar+9GPctpWnW7l9N6chbZ6Qc9CspXzZOD8iPiZpCPJ\n6XEnka3nPSJiz8o25sSyC3pmR8RDpbBGkwOws63y/6rkr2ltRbZmVwcWR8TVqtyau/LebckfQ/lR\n56Kz6vYa5OnxwGZlu7NKxfWI9AelHAhvJ38CcvUhpbkm2Tr7L3KcehF5UdxlwK1kC60apGZRjrs+\n52MP4H3kLahXJVumd5HDRyeVdT4BXBMR50naJgZ8W+aWltExYH/gDxHxzq7XOumsTX6OO5C/O33P\nJLfdmvpC0jbk9785OWPqs2Tv5FxySu+zyNt9X0f+tsaJEXHlKI7bUWvUk2hjC61yBW/n4NuGHN54\nbETsxLLbErxE0mNK/tX13psifwuguq+NW/kR8R+Vg7pvLeUppH8DOTNlDJa1Ertbi31OcyS9mMo2\nt5G0IXmeYTPgVcAD5G823AvMk3R6ac1uSf4KGpTfGRnEZ9OWMjrsq4jbUl+0pYc7UzQ+ANrSXasc\nPJ0ubGtu79BtENucQtpDD1QxouG2tlUGbSmjowxSbagvImIJOWFjLUmnk5MPbiQnMWxC9iL+GBFv\nj4iDIuL7KrdBmW6aM9m0g0RbWmilVbFK9UCR9DTyV75+FRGnlDSvJG9ZDPAjcr71K5W/BBWlBbtU\n0lMkdX4UaKU17EA1ol5MKyqDtpTRUQapttQXHaPu4c4oMb0ZEG2ZVtmK2RF+TP97G1J6I5td1oYy\nyoinpbelvqjJ2w6lXCwZZpmcSY9pn7hWS05Ilm0fSP6I+0+BIK/GvAm4kzyYbi3rHUK2HucCb4qI\nP5fnF5JjsZ+LiM/3O382ehrBSfuu9EdSRsuwYqfnsDp5jcr1EXGfpIvJk98vlLQ+OeRzEnn32DGy\nxf+RWDaLaA2yIt8eODamNouoNfVFj7yNdEJJ2zWd3bQW2dL4C1nw3iHpcGD1qIw3qw+zLsp2WjM7\nwmaeYVQGbS2jbWhIDbu+mEb+NIygNNM0ChIwsmmV65aW0AFki+eFwKsj4ipJm5HzrX8UERdLWgrs\nFZWTX90Hsj26DKMyGFUZbWuQqmx7pD06m7rGJ4NiyCck2zA7wma2IQSIkZXRzvvUomnpXfkb+gQG\na6YvX0wMYVpl22ZHmHVrSxlte0NqGPWF9c9AbsvRb2rZfHezbm0oo20JUpPl8f+ZofE5iWFp8+wI\nMxhtGS1B6mTyJPDfKa+eXoU8UXwCcAXwMfJ2Gk8GzoyI7zdN11Z+MyZIQPtnR5iNsoy6IWWDMKOC\nBHh2hLXfKMuoG1LWbzMuSIAvfrH2G2UZdUPK+mlGBokOX/xibTeqMuqGlPXLjA4SZjYxN6SsKQcJ\nMzOr5QvMzMysloOEmZnVcpAwM7NaDhJmZlbLQcLMzGo5SJiZWa3/D+bwtyH0NIFIAAAAAElFTkSu\nQmCC\n",
       "text": [
        "<matplotlib.figure.Figure at 0x104854c10>"
       ]
      }
     ],
     "prompt_number": 56
>>>>>>> instructor/master
    },
    {
     "cell_type": "markdown",
     "metadata": {},
     "source": [
      "## ROC (Receiver Operator Characteristic) Plots"
     ]
    },
    {
     "cell_type": "code",
     "collapsed": false,
     "input": [
      "from sklearn.metrics import roc_curve\n",
      "from sklearn.metrics import auc\n",
      "\n",
      "def plot_roc_curve(target_test, target_predicted_proba):\n",
      "    fpr, tpr, thresholds = roc_curve(target_test, target_predicted_proba[:, 1\n",
      "                                                                         ])\n",
      "    roc_auc = auc(fpr, tpr)\n",
      "    \n",
      "    # Plot ROC curve\n",
      "    plt.plot(fpr, tpr, label='ROC curve (area = %0.3f)' % roc_auc)\n",
      "    plt.plot([0, 1], [0, 1], 'k--')  # random predictions curve\n",
      "    plt.xlim([0.0, 1.0])\n",
      "    plt.ylim([0.0, 1.0])\n",
      "    plt.xlabel('False Positive Rate or (1 - Specifity)')\n",
      "    plt.ylabel('True Positive Rate or (Sensitivity)')\n",
      "    plt.title('Receiver Operating Characteristic')\n",
      "    plt.legend(loc=\"lower right\")"
     ],
     "language": "python",
     "metadata": {},
     "outputs": [],
<<<<<<< HEAD
     "prompt_number": 31
=======
     "prompt_number": 34
>>>>>>> instructor/master
    },
    {
     "cell_type": "code",
     "collapsed": false,
     "input": [
      "from sklearn.cross_validation import train_test_split\n",
      "\n",
      "train_feat, test_feat, train_target, test_target = train_test_split(feat_val, target_val, train_size=0.5)"
     ],
     "language": "python",
     "metadata": {},
     "outputs": [],
<<<<<<< HEAD
     "prompt_number": 32
=======
     "prompt_number": 35
>>>>>>> instructor/master
    },
    {
     "cell_type": "code",
     "collapsed": false,
     "input": [
      "model_lr = LogisticRegression(C=1).fit(train_feat, train_target)\n",
      "target_predicted_proba = model_lr.predict_proba(test_feat)"
     ],
     "language": "python",
     "metadata": {},
     "outputs": [],
<<<<<<< HEAD
     "prompt_number": 33
=======
     "prompt_number": 36
>>>>>>> instructor/master
    },
    {
     "cell_type": "code",
     "collapsed": false,
     "input": [
      "plot_roc_curve(test_target, target_predicted_proba)"
     ],
     "language": "python",
     "metadata": {},
     "outputs": [
      {
       "metadata": {},
       "output_type": "display_data",
<<<<<<< HEAD
       "png": "iVBORw0KGgoAAAANSUhEUgAAAYYAAAEZCAYAAACTsIJzAAAABHNCSVQICAgIfAhkiAAAAAlwSFlz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\n",
       "text": [
        "<matplotlib.figure.Figure at 0x10bb3a510>"
       ]
      }
     ],
     "prompt_number": 36
    },
    {
     "cell_type": "code",
     "collapsed": false,
     "input": [
      "fpr, tpr, thresholds = roc_curve(test_target, target_predicted_proba[:,0])"
     ],
     "language": "python",
     "metadata": {},
     "outputs": [],
     "prompt_number": 38
    },
    {
     "cell_type": "code",
     "collapsed": false,
     "input": [
      "fpr"
     ],
     "language": "python",
     "metadata": {},
     "outputs": [
      {
       "metadata": {},
       "output_type": "pyout",
       "prompt_number": 40,
       "text": [
        "array([ 0.        ,  0.13613324,  0.13902969, ...,  1.        ,\n",
        "        1.        ,  1.        ])"
       ]
      }
     ],
     "prompt_number": 40
    },
    {
     "cell_type": "code",
     "collapsed": false,
     "input": [
      "thresholds[:20]"
     ],
     "language": "python",
     "metadata": {},
     "outputs": [
      {
       "metadata": {},
       "output_type": "pyout",
       "prompt_number": 43,
       "text": [
        "array([ 1.99999992,  0.99999992,  0.99999991,  0.99999988,  0.99999987,\n",
        "        0.99999984,  0.99999981,  0.9999998 ,  0.99999977,  0.99999974,\n",
        "        0.99999969,  0.99999967,  0.99999965,  0.99999963,  0.99999961,\n",
        "        0.99999958,  0.99999955,  0.99999949,  0.99999944,  0.9999994 ])"
       ]
      }
     ],
     "prompt_number": 43
    },
    {
     "cell_type": "code",
     "collapsed": false,
     "input": [
      "proba['class_0_at_80'] = proba[0].apply(lambda x: 0 if x<0.8 else 1)"
     ],
     "language": "python",
     "metadata": {},
     "outputs": [],
     "prompt_number": 49
    },
    {
     "cell_type": "code",
     "collapsed": false,
     "input": [
      "proba = pd.DataFrame(target_predicted_proba[:,0])"
     ],
     "language": "python",
     "metadata": {},
     "outputs": [],
     "prompt_number": 48
    },
    {
     "cell_type": "code",
     "collapsed": false,
     "input": [
      "proba.head()"
     ],
     "language": "python",
     "metadata": {},
     "outputs": [
      {
       "html": [
        "<div style=\"max-height:1000px;max-width:1500px;overflow:auto;\">\n",
        "<table border=\"1\" class=\"dataframe\">\n",
        "  <thead>\n",
        "    <tr style=\"text-align: right;\">\n",
        "      <th></th>\n",
        "      <th>0</th>\n",
        "      <th>class_0_at_80</th>\n",
        "    </tr>\n",
        "  </thead>\n",
        "  <tbody>\n",
        "    <tr>\n",
        "      <th>0</th>\n",
        "      <td> 0.830919</td>\n",
        "      <td> 1</td>\n",
        "    </tr>\n",
        "    <tr>\n",
        "      <th>1</th>\n",
        "      <td> 0.000093</td>\n",
        "      <td> 0</td>\n",
        "    </tr>\n",
        "    <tr>\n",
        "      <th>2</th>\n",
        "      <td> 0.212755</td>\n",
        "      <td> 0</td>\n",
        "    </tr>\n",
        "    <tr>\n",
        "      <th>3</th>\n",
        "      <td> 0.013259</td>\n",
        "      <td> 0</td>\n",
        "    </tr>\n",
        "    <tr>\n",
        "      <th>4</th>\n",
        "      <td> 0.745594</td>\n",
        "      <td> 0</td>\n",
        "    </tr>\n",
        "  </tbody>\n",
        "</table>\n",
        "</div>"
       ],
       "metadata": {},
       "output_type": "pyout",
       "prompt_number": 51,
       "text": [
        "          0  class_0_at_80\n",
        "0  0.830919              1\n",
        "1  0.000093              0\n",
        "2  0.212755              0\n",
        "3  0.013259              0\n",
        "4  0.745594              0"
       ]
      }
     ],
     "prompt_number": 51
    },
    {
     "cell_type": "code",
     "collapsed": false,
     "input": [
      "test_df = pd.DataFrame({'sales':[100,200,300], 'margin':[.3, .2, .15]})\n",
      "test_df"
     ],
     "language": "python",
     "metadata": {},
     "outputs": [
      {
       "html": [
        "<div style=\"max-height:1000px;max-width:1500px;overflow:auto;\">\n",
        "<table border=\"1\" class=\"dataframe\">\n",
        "  <thead>\n",
        "    <tr style=\"text-align: right;\">\n",
        "      <th></th>\n",
        "      <th>margin</th>\n",
        "      <th>sales</th>\n",
        "    </tr>\n",
        "  </thead>\n",
        "  <tbody>\n",
        "    <tr>\n",
        "      <th>0</th>\n",
        "      <td> 0.30</td>\n",
        "      <td> 100</td>\n",
        "    </tr>\n",
        "    <tr>\n",
        "      <th>1</th>\n",
        "      <td> 0.20</td>\n",
        "      <td> 200</td>\n",
        "    </tr>\n",
        "    <tr>\n",
        "      <th>2</th>\n",
        "      <td> 0.15</td>\n",
        "      <td> 300</td>\n",
        "    </tr>\n",
        "  </tbody>\n",
        "</table>\n",
        "</div>"
       ],
       "metadata": {},
       "output_type": "pyout",
       "prompt_number": 54,
       "text": [
        "   margin  sales\n",
        "0    0.30    100\n",
        "1    0.20    200\n",
        "2    0.15    300"
       ]
      }
     ],
     "prompt_number": 54
    },
    {
     "cell_type": "code",
     "collapsed": false,
     "input": [
      "test_df['profit'] = test_df.apply(lambda x: x['sales'] * x['margin'], axis =1)\n"
     ],
     "language": "python",
     "metadata": {},
     "outputs": [],
     "prompt_number": 57
    },
    {
     "cell_type": "code",
     "collapsed": false,
     "input": [
      "test_df"
     ],
     "language": "python",
     "metadata": {},
     "outputs": [
      {
       "html": [
        "<div style=\"max-height:1000px;max-width:1500px;overflow:auto;\">\n",
        "<table border=\"1\" class=\"dataframe\">\n",
        "  <thead>\n",
        "    <tr style=\"text-align: right;\">\n",
        "      <th></th>\n",
        "      <th>margin</th>\n",
        "      <th>sales</th>\n",
        "      <th>profit</th>\n",
        "    </tr>\n",
        "  </thead>\n",
        "  <tbody>\n",
        "    <tr>\n",
        "      <th>0</th>\n",
        "      <td> 0.30</td>\n",
        "      <td> 100</td>\n",
        "      <td> 30</td>\n",
        "    </tr>\n",
        "    <tr>\n",
        "      <th>1</th>\n",
        "      <td> 0.20</td>\n",
        "      <td> 200</td>\n",
        "      <td> 40</td>\n",
        "    </tr>\n",
        "    <tr>\n",
        "      <th>2</th>\n",
        "      <td> 0.15</td>\n",
        "      <td> 300</td>\n",
        "      <td> 45</td>\n",
        "    </tr>\n",
        "  </tbody>\n",
        "</table>\n",
        "</div>"
       ],
       "metadata": {},
       "output_type": "pyout",
       "prompt_number": 59,
       "text": [
        "   margin  sales  profit\n",
        "0    0.30    100      30\n",
        "1    0.20    200      40\n",
        "2    0.15    300      45"
       ]
      }
     ],
     "prompt_number": 59
    },
    {
     "cell_type": "code",
     "collapsed": false,
     "input": [
      "mean, std = [], []\n",
      "for col in test_df.columns:\n",
      "    mean.append(test_df[col].mean())\n",
      "    std.append(test_df[col].std())\n",
      "\n",
      "std"
     ],
     "language": "python",
     "metadata": {},
     "outputs": [
      {
       "metadata": {},
       "output_type": "pyout",
       "prompt_number": 65,
       "text": [
        "[0.076376261582597305, 100.0, 7.6376261582597431]"
       ]
      }
     ],
     "prompt_number": 65
    },
    {
     "cell_type": "code",
     "collapsed": false,
     "input": [
      "test_df.describe().ix['mean']"
     ],
     "language": "python",
     "metadata": {},
     "outputs": [
      {
       "metadata": {},
       "output_type": "pyout",
       "prompt_number": 62,
       "text": [
        "margin      0.216667\n",
        "sales     200.000000\n",
        "profit     38.333333\n",
        "Name: mean, dtype: float64"
       ]
      }
     ],
     "prompt_number": 62
    },
    {
     "cell_type": "code",
     "collapsed": false,
     "input": [],
     "language": "python",
     "metadata": {},
     "outputs": []
=======
       "png": "iVBORw0KGgoAAAANSUhEUgAAAYYAAAEZCAYAAACTsIJzAAAABHNCSVQICAgIfAhkiAAAAAlwSFlz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\nRU5ErkJggg==\n",
       "text": [
        "<matplotlib.figure.Figure at 0x109a54f10>"
       ]
      }
     ],
     "prompt_number": 37
>>>>>>> instructor/master
    }
   ],
   "metadata": {}
  }
 ]
}