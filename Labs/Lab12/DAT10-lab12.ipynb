{
 "metadata": {
  "name": "",
<<<<<<< HEAD
  "signature": "sha256:eaafd2bf2e2022b7767e8cedf0080fed65ecd3b421d6d0a3784e36c46f608fc2"
=======
  "signature": "sha256:f0f6c4b422ad3ae688ab10ad4db6c89c884b8f2023f22dccab1f6bb4ac83fb65"
>>>>>>> instructor/master
 },
 "nbformat": 3,
 "nbformat_minor": 0,
 "worksheets": [
  {
   "cells": [
    {
     "cell_type": "markdown",
     "metadata": {},
     "source": [
      "# GA Data Science 10 (DAT10) - Lab 12\n",
      "\n",
      "### Recommendation Systems\n",
      "\n",
      "Francesco Mosconi\n",
      "\n",
      "### Today\n",
      "\n",
      "1. Simple similarity based recommendation system\n",
      "2. Recsys\n",
      "3. Optional (yhat)"
     ]
    },
    {
     "cell_type": "markdown",
     "metadata": {},
     "source": [
      "## Similarity based Recommendation System: Beers\n",
      "\n",
      "\n",
      "Let's build a recommendation system to recommend types of beers based on user reviews"
     ]
    },
    {
     "cell_type": "markdown",
     "metadata": {},
     "source": [
      "Usual imports (numpy, pandas)"
     ]
    },
    {
     "cell_type": "code",
     "collapsed": false,
     "input": [
      "import pandas as pd\n",
      "import numpy as np"
     ],
     "language": "python",
     "metadata": {},
     "outputs": [],
     "prompt_number": 4
    },
    {
     "cell_type": "markdown",
     "metadata": {},
     "source": [
      "First of all let's get the data"
     ]
    },
    {
     "cell_type": "code",
     "collapsed": false,
     "input": [
      "! curl -O https://s3.amazonaws.com/demo-datasets/beer_reviews.tar.gz"
     ],
     "language": "python",
     "metadata": {},
     "outputs": [
      {
       "output_type": "stream",
       "stream": "stdout",
       "text": [
        "  % Total    % Received % Xferd  Average Speed   Time    Time     Time  Current\r\n",
        "                                 Dload  Upload   Total   Spent    Left  Speed\r\n",
        "\r",
        "  0     0    0     0    0     0      0      0 --:--:-- --:--:-- --:--:--     0"
       ]
      },
      {
       "output_type": "stream",
       "stream": "stdout",
       "text": [
        "\r",
        "  0     0    0     0    0     0      0      0 --:--:--  0:00:01 --:--:--     0"
       ]
      },
      {
       "output_type": "stream",
       "stream": "stdout",
       "text": [
        "\r",
        "  0 27.3M    0 61026    0     0  24741      0  0:19:20  0:00:02  0:19:18 30946"
       ]
      },
      {
       "output_type": "stream",
       "stream": "stdout",
       "text": [
        "\r",
        "  0 27.3M    0 98642    0     0  26250      0  0:18:13  0:00:03  0:18:10 30239"
       ]
      },
      {
       "output_type": "stream",
       "stream": "stdout",
       "text": [
        "\r",
        "  0 27.3M    0 98642    0     0  20728      0  0:23:04  0:00:04  0:23:00 23139"
       ]
      },
      {
       "output_type": "stream",
       "stream": "stdout",
       "text": [
        "\r",
        "  0 27.3M    0  272k    0     0  49350      0  0:09:41  0:00:05  0:09:36 54105"
       ]
      },
      {
       "output_type": "stream",
       "stream": "stdout",
       "text": [
        "\r",
        "  1 27.3M    1  395k    0     0  62538      0  0:07:38  0:00:06  0:07:32 82311"
       ]
      },
      {
       "output_type": "stream",
       "stream": "stdout",
       "text": [
        "\r",
        "  1 27.3M    1  488k    0     0  67144      0  0:07:07  0:00:07  0:07:00 88089"
       ]
      },
      {
       "output_type": "stream",
       "stream": "stdout",
       "text": [
        "\r",
        "  2 27.3M    2  607k    0     0  73612      0  0:06:29  0:00:08  0:06:21  108k"
       ]
      },
      {
       "output_type": "stream",
       "stream": "stdout",
       "text": [
        "\r",
        "  2 27.3M    2  692k    0     0  74802      0  0:06:23  0:00:09  0:06:14  126k"
       ]
      },
      {
       "output_type": "stream",
       "stream": "stdout",
       "text": [
        "\r",
        "  2 27.3M    2  794k    0     0  77867      0  0:06:08  0:00:10  0:05:58  108k"
       ]
      },
      {
       "output_type": "stream",
       "stream": "stdout",
       "text": [
        "\r",
        "  3 27.3M    3  912k    0     0  81382      0  0:05:52  0:00:11  0:05:41  103k"
       ]
      },
      {
       "output_type": "stream",
       "stream": "stdout",
       "text": [
        "\r",
        "  3 27.3M    3 1015k    0     0  83510      0  0:05:43  0:00:12  0:05:31  105k"
       ]
      },
      {
       "output_type": "stream",
       "stream": "stdout",
       "text": [
        "\r",
        "  4 27.3M    4 1133k    0     0  85644      0  0:05:35  0:00:13  0:05:22  103k"
       ]
      },
      {
       "output_type": "stream",
       "stream": "stdout",
       "text": [
        "\r",
        "  4 27.3M    4 1219k    0     0  86427      0  0:05:32  0:00:14  0:05:18  106k"
       ]
      },
      {
       "output_type": "stream",
       "stream": "stdout",
       "text": [
        "\r",
        "  4 27.3M    4 1321k    0     0  87508      0  0:05:28  0:00:15  0:05:13  105k"
       ]
      },
      {
       "output_type": "stream",
       "stream": "stdout",
       "text": [
        "\r",
        "  5 27.3M    5 1423k    0     0  88598      0  0:05:23  0:00:16  0:05:07  102k"
       ]
      },
      {
       "output_type": "stream",
       "stream": "stdout",
       "text": [
        "\r",
        "  5 27.3M    5 1491k    0     0  87519      0  0:05:27  0:00:17  0:05:10 97504"
       ]
      },
      {
       "output_type": "stream",
       "stream": "stdout",
       "text": [
        "\r",
        "  5 27.3M    5 1593k    0     0  88423      0  0:05:24  0:00:18  0:05:06 96091"
       ]
      },
      {
       "output_type": "stream",
       "stream": "stdout",
       "text": [
        "\r",
        "  5 27.3M    5 1678k    0     0  88336      0  0:05:24  0:00:19  0:05:05 93853"
       ]
      },
      {
       "output_type": "stream",
       "stream": "stdout",
       "text": [
        "\r",
        "  6 27.3M    6 1796k    0     0  89941      0  0:05:19  0:00:20  0:04:59 97474"
       ]
      },
      {
       "output_type": "stream",
       "stream": "stdout",
       "text": [
        "\r",
        "  6 27.3M    6 1899k    0     0  90682      0  0:05:16  0:00:21  0:04:55 97543"
       ]
      },
      {
       "output_type": "stream",
       "stream": "stdout",
       "text": [
        "\r",
        "  7 27.3M    7 2001k    0     0  91128      0  0:05:14  0:00:22  0:04:52  101k"
       ]
      },
      {
       "output_type": "stream",
       "stream": "stdout",
       "text": [
        "\r",
        "  7 27.3M    7 2069k    0     0  90295      0  0:05:17  0:00:23  0:04:54 97193"
       ]
      },
      {
       "output_type": "stream",
       "stream": "stdout",
       "text": [
        "\r",
        "  7 27.3M    7 2137k    0     0  89345      0  0:05:21  0:00:24  0:04:57 93257"
       ]
      },
      {
       "output_type": "stream",
       "stream": "stdout",
       "text": [
        "\r",
        "  7 27.3M    7 2239k    0     0  90109      0  0:05:18  0:00:25  0:04:53 90780"
       ]
      },
      {
       "output_type": "stream",
       "stream": "stdout",
       "text": [
        "\r",
        "  8 27.3M    8 2341k    0     0  90648      0  0:05:16  0:00:26  0:04:50 90521"
       ]
      },
      {
       "output_type": "stream",
       "stream": "stdout",
       "text": [
        "\r",
        "  8 27.3M    8 2443k    0     0  91110      0  0:05:15  0:00:27  0:04:48 91013"
       ]
      },
      {
       "output_type": "stream",
       "stream": "stdout",
       "text": [
        "\r",
        "  9 27.3M    9 2545k    0     0  91300      0  0:05:14  0:00:28  0:04:46 95949"
       ]
      },
      {
       "output_type": "stream",
       "stream": "stdout",
       "text": [
        "\r",
        "  9 27.3M    9 2647k    0     0  92023      0  0:05:11  0:00:29  0:04:42  102k"
       ]
      },
      {
       "output_type": "stream",
       "stream": "stdout",
       "text": [
        "\r",
        "  9 27.3M    9 2749k    0     0  92437      0  0:05:10  0:00:30  0:04:40  101k"
       ]
      },
      {
       "output_type": "stream",
       "stream": "stdout",
       "text": [
        "\r",
        " 10 27.3M   10 2834k    0     0  92289      0  0:05:11  0:00:31  0:04:40   98k"
       ]
      },
      {
       "output_type": "stream",
       "stream": "stdout",
       "text": [
        "\r",
        " 10 27.3M   10 2902k    0     0  91587      0  0:05:13  0:00:32  0:04:41 94210"
       ]
      },
      {
       "output_type": "stream",
       "stream": "stdout",
       "text": [
        "\r",
        " 10 27.3M   10 3004k    0     0  91972      0  0:05:12  0:00:33  0:04:39 95882"
       ]
      },
      {
       "output_type": "stream",
       "stream": "stdout",
       "text": [
        "\r",
        " 10 27.3M   10 3072k    0     0  91213      0  0:05:14  0:00:34  0:04:40 86486"
       ]
      },
      {
       "output_type": "stream",
       "stream": "stdout",
       "text": [
        "\r",
        " 11 27.3M   11 3140k    0     0  90660      0  0:05:16  0:00:35  0:04:41 79869"
       ]
      },
      {
       "output_type": "stream",
       "stream": "stdout",
       "text": [
        "\r",
        " 11 27.3M   11 3224k    0     0  90561      0  0:05:16  0:00:36  0:04:40 79712"
       ]
      },
      {
       "output_type": "stream",
       "stream": "stdout",
       "text": [
        "\r",
        " 11 27.3M   11 3309k    0     0  90396      0  0:05:17  0:00:37  0:04:40 82724"
       ]
      },
      {
       "output_type": "stream",
       "stream": "stdout",
       "text": [
        "\r",
        " 11 27.3M   11 3361k    0     0  89477      0  0:05:20  0:00:38  0:04:42 72851"
       ]
      },
      {
       "output_type": "stream",
       "stream": "stdout",
       "text": [
        "\r",
        " 12 27.3M   12 3480k    0     0  90321      0  0:05:17  0:00:39  0:04:38 84113"
       ]
      },
      {
       "output_type": "stream",
       "stream": "stdout",
       "text": [
        "\r",
        " 12 27.3M   12 3565k    0     0  90256      0  0:05:18  0:00:40  0:04:38 87372"
       ]
      },
      {
       "output_type": "stream",
       "stream": "stdout",
       "text": [
        "\r",
        " 12 27.3M   12 3633k    0     0  89744      0  0:05:19  0:00:41  0:04:38 83779"
       ]
      },
      {
       "output_type": "stream",
       "stream": "stdout",
       "text": [
        "\r",
        " 13 27.3M   13 3684k    0     0  88878      0  0:05:22  0:00:42  0:04:40 77403"
       ]
      },
      {
       "output_type": "stream",
       "stream": "stdout",
       "text": [
        "\r",
        " 13 27.3M   13 3769k    0     0  88761      0  0:05:23  0:00:43  0:04:40 83275"
       ]
      },
      {
       "output_type": "stream",
       "stream": "stdout",
       "text": [
        "\r",
        " 13 27.3M   13 3854k    0     0  88626      0  0:05:23  0:00:44  0:04:39 75448"
       ]
      },
      {
       "output_type": "stream",
       "stream": "stdout",
       "text": [
        "\r",
        " 14 27.3M   14 3939k    0     0  88758      0  0:05:23  0:00:45  0:04:38 76625"
       ]
      },
      {
       "output_type": "stream",
       "stream": "stdout",
       "text": [
        "\r",
        " 14 27.3M   14 4024k    0     0  88722      0  0:05:23  0:00:46  0:04:37 80221"
       ]
      },
      {
       "output_type": "stream",
       "stream": "stdout",
       "text": [
        "\r",
        " 14 27.3M   14 4126k    0     0  89029      0  0:05:22  0:00:47  0:04:35 90322"
       ]
      },
      {
       "output_type": "stream",
       "stream": "stdout",
       "text": [
        "\r",
        " 15 27.3M   15 4227k    0     0  89351      0  0:05:21  0:00:48  0:04:33 94516"
       ]
      },
      {
       "output_type": "stream",
       "stream": "stdout",
       "text": [
        "\r",
        " 15 27.3M   15 4330k    0     0  89585      0  0:05:20  0:00:49  0:04:31 98191"
       ]
      },
      {
       "output_type": "stream",
       "stream": "stdout",
       "text": [
        "\r",
        " 15 27.3M   15 4381k    0     0  88928      0  0:05:22  0:00:50  0:04:32 90485"
       ]
      },
      {
       "output_type": "stream",
       "stream": "stdout",
       "text": [
        "\r",
        " 15 27.3M   15 4482k    0     0  87647      0  0:05:27  0:00:52  0:04:35 79221"
       ]
      },
      {
       "output_type": "stream",
       "stream": "stdout",
       "text": [
        "\r",
        " 16 27.3M   16 4500k    0     0  86349      0  0:05:32  0:00:53  0:04:39 64823"
       ]
      },
      {
       "output_type": "stream",
       "stream": "stdout",
       "text": [
        "\r",
        " 16 27.3M   16 4500k    0     0  85981      0  0:05:33  0:00:53  0:04:40 54281"
       ]
      },
      {
       "output_type": "stream",
       "stream": "stdout",
       "text": [
        "\r",
        " 16 27.3M   16 4551k    0     0  85551      0  0:05:35  0:00:54  0:04:41 45442"
       ]
      },
      {
       "output_type": "stream",
       "stream": "stdout",
       "text": [
        "\r",
        " 16 27.3M   16 4584k    0     0  84633      0  0:05:39  0:00:55  0:04:44 41441"
       ]
      },
      {
       "output_type": "stream",
       "stream": "stdout",
       "text": [
        "\r",
        " 16 27.3M   16 4653k    0     0  84402      0  0:05:40  0:00:56  0:04:44 42833"
       ]
      },
      {
       "output_type": "stream",
       "stream": "stdout",
       "text": [
        "\r",
        " 16 27.3M   16 4738k    0     0  84457      0  0:05:39  0:00:57  0:04:42 59718"
       ]
      },
      {
       "output_type": "stream",
       "stream": "stdout",
       "text": [
        "\r",
        " 17 27.3M   17 4822k    0     0  84481      0  0:05:39  0:00:58  0:04:41 67915"
       ]
      },
      {
       "output_type": "stream",
       "stream": "stdout",
       "text": [
        "\r",
        " 17 27.3M   17 4908k    0     0  84533      0  0:05:39  0:00:59  0:04:40 73392"
       ]
      },
      {
       "output_type": "stream",
       "stream": "stdout",
       "text": [
        "\r",
        " 17 27.3M   17 4993k    0     0  84586      0  0:05:39  0:01:00  0:04:39 84048"
       ]
      },
      {
       "output_type": "stream",
       "stream": "stdout",
       "text": [
        "\r",
        " 18 27.3M   18 5095k    0     0  84896      0  0:05:38  0:01:01  0:04:37 90485"
       ]
      },
      {
       "output_type": "stream",
       "stream": "stdout",
       "text": [
        "\r",
        " 18 27.3M   18 5196k    0     0  85139      0  0:05:37  0:01:02  0:04:35 92906"
       ]
      },
      {
       "output_type": "stream",
       "stream": "stdout",
       "text": [
        "\r",
        " 18 27.3M   18 5299k    0     0  85526      0  0:05:35  0:01:03  0:04:32 97748"
       ]
      },
      {
       "output_type": "stream",
       "stream": "stdout",
       "text": [
        "\r",
        " 19 27.3M   19 5417k    0     0  85638      0  0:05:35  0:01:04  0:04:31 97991"
       ]
      },
      {
       "output_type": "stream",
       "stream": "stdout",
       "text": [
        "\r",
        " 19 27.3M   19 5503k    0     0  86099      0  0:05:33  0:01:05  0:04:28  101k"
       ]
      },
      {
       "output_type": "stream",
       "stream": "stdout",
       "text": [
        "\r",
        " 19 27.3M   19 5587k    0     0  86001      0  0:05:33  0:01:06  0:04:27 99409"
       ]
      },
      {
       "output_type": "stream",
       "stream": "stdout",
       "text": [
        "\r",
        " 20 27.3M   20 5638k    0     0  85588      0  0:05:35  0:01:07  0:04:28 91233"
       ]
      },
      {
       "output_type": "stream",
       "stream": "stdout",
       "text": [
        "\r",
        " 20 27.3M   20 5707k    0     0  85372      0  0:05:36  0:01:08  0:04:28 83424"
       ]
      },
      {
       "output_type": "stream",
       "stream": "stdout",
       "text": [
        "\r",
        " 20 27.3M   20 5775k    0     0  85134      0  0:05:37  0:01:09  0:04:28 78164"
       ]
      },
      {
       "output_type": "stream",
       "stream": "stdout",
       "text": [
        "\r",
        " 20 27.3M   20 5843k    0     0  84861      0  0:05:38  0:01:10  0:04:28 68847"
       ]
      },
      {
       "output_type": "stream",
       "stream": "stdout",
       "text": [
        "\r",
        " 21 27.3M   21 5928k    0     0  84928      0  0:05:37  0:01:11  0:04:26 70513"
       ]
      },
      {
       "output_type": "stream",
       "stream": "stdout",
       "text": [
        "\r",
        " 21 27.3M   21 5996k    0     0  84755      0  0:05:38  0:01:12  0:04:26 73480"
       ]
      },
      {
       "output_type": "stream",
       "stream": "stdout",
       "text": [
        "\r",
        " 21 27.3M   21 6080k    0     0  84703      0  0:05:38  0:01:13  0:04:25 75649"
       ]
      },
      {
       "output_type": "stream",
       "stream": "stdout",
       "text": [
        "\r",
        " 21 27.3M   21 6149k    0     0  84308      0  0:05:40  0:01:14  0:04:26 73338"
       ]
      },
      {
       "output_type": "stream",
       "stream": "stdout",
       "text": [
        "\r",
        " 22 27.3M   22 6233k    0     0  84565      0  0:05:39  0:01:15  0:04:24 80354"
       ]
      },
      {
       "output_type": "stream",
       "stream": "stdout",
       "text": [
        "\r",
        " 22 27.3M   22 6319k    0     0  84646      0  0:05:39  0:01:16  0:04:23 80576"
       ]
      },
      {
       "output_type": "stream",
       "stream": "stdout",
       "text": [
        "\r",
        " 22 27.3M   22 6387k    0     0  84374      0  0:05:40  0:01:17  0:04:23 78940"
       ]
      },
      {
       "output_type": "stream",
       "stream": "stdout",
       "text": [
        "\r",
        " 23 27.3M   23 6472k    0     0  84438      0  0:05:39  0:01:18  0:04:21 80523"
       ]
      },
      {
       "output_type": "stream",
       "stream": "stdout",
       "text": [
        "\r",
        " 23 27.3M   23 6540k    0     0  84300      0  0:05:40  0:01:19  0:04:21 84167"
       ]
      },
      {
       "output_type": "stream",
       "stream": "stdout",
       "text": [
        "\r",
        " 23 27.3M   23 6625k    0     0  84332      0  0:05:40  0:01:20  0:04:20 80782"
       ]
      },
      {
       "output_type": "stream",
       "stream": "stdout",
       "text": [
        "\r",
        " 24 27.3M   24 6727k    0     0  84577      0  0:05:39  0:01:21  0:04:18 83541"
       ]
      },
      {
       "output_type": "stream",
       "stream": "stdout",
       "text": [
        "\r",
        " 24 27.3M   24 6846k    0     0  85010      0  0:05:37  0:01:22  0:04:15 94952"
       ]
      },
      {
       "output_type": "stream",
       "stream": "stdout",
       "text": [
        "\r",
        " 24 27.3M   24 6930k    0     0  84969      0  0:05:37  0:01:23  0:04:14 93257"
       ]
      },
      {
       "output_type": "stream",
       "stream": "stdout",
       "text": [
        "\r",
        " 24 27.3M   24 6965k    0     0  84459      0  0:05:39  0:01:24  0:04:15 86987"
       ]
      },
      {
       "output_type": "stream",
       "stream": "stdout",
       "text": [
        "\r",
        " 25 27.3M   25 7033k    0     0  84273      0  0:05:40  0:01:25  0:04:15 83341"
       ]
      },
      {
       "output_type": "stream",
       "stream": "stdout",
       "text": [
        "\r",
        " 25 27.3M   25 7101k    0     0  84116      0  0:05:41  0:01:26  0:04:15 76595"
       ]
      },
      {
       "output_type": "stream",
       "stream": "stdout",
       "text": [
        "\r",
        " 25 27.3M   25 7169k    0     0  83816      0  0:05:42  0:01:27  0:04:15 64600"
       ]
      },
      {
       "output_type": "stream",
       "stream": "stdout",
       "text": [
        "\r",
        " 25 27.3M   25 7254k    0     0  83921      0  0:05:42  0:01:28  0:04:14 66395"
       ]
      },
      {
       "output_type": "stream",
       "stream": "stdout",
       "text": [
        "\r",
        " 26 27.3M   26 7305k    0     0  83623      0  0:05:43  0:01:29  0:04:14 69520"
       ]
      },
      {
       "output_type": "stream",
       "stream": "stdout",
       "text": [
        "\r",
        " 26 27.3M   26 7339k    0     0  83014      0  0:05:45  0:01:30  0:04:15 61791"
       ]
      },
      {
       "output_type": "stream",
       "stream": "stdout",
       "text": [
        "\r",
        " 26 27.3M   26 7355k    0     0  82345      0  0:05:48  0:01:31  0:04:17 51842"
       ]
      },
      {
       "output_type": "stream",
       "stream": "stdout",
       "text": [
        "\r",
        " 26 27.3M   26 7389k    0     0  81820      0  0:05:50  0:01:32  0:04:18 46069"
       ]
      },
      {
       "output_type": "stream",
       "stream": "stdout",
       "text": [
        "\r",
        " 26 27.3M   26 7441k    0     0  81532      0  0:05:52  0:01:33  0:04:19 38739"
       ]
      },
      {
       "output_type": "stream",
       "stream": "stdout",
       "text": [
        "\r",
        " 26 27.3M   26 7491k    0     0  80908      0  0:05:54  0:01:34  0:04:20 35560"
       ]
      },
      {
       "output_type": "stream",
       "stream": "stdout",
       "text": [
        "\r",
        " 26 27.3M   26 7509k    0     0  80563      0  0:05:56  0:01:35  0:04:21 35418"
       ]
      },
      {
       "output_type": "stream",
       "stream": "stdout",
       "text": [
        "\r",
        " 26 27.3M   26 7560k    0     0  80254      0  0:05:57  0:01:36  0:04:21 41984"
       ]
      },
      {
       "output_type": "stream",
       "stream": "stdout",
       "text": [
        "\r",
        " 27 27.3M   27 7645k    0     0  80288      0  0:05:57  0:01:37  0:04:20 52116"
       ]
      },
      {
       "output_type": "stream",
       "stream": "stdout",
       "text": [
        "\r",
        " 27 27.3M   27 7730k    0     0  80407      0  0:05:56  0:01:38  0:04:18 59317"
       ]
      },
      {
       "output_type": "stream",
       "stream": "stdout",
       "text": [
        "\r",
        " 27 27.3M   27 7815k    0     0  80470      0  0:05:56  0:01:39  0:04:17 71518"
       ]
      },
      {
       "output_type": "stream",
       "stream": "stdout",
       "text": [
        "\r",
        " 28 27.3M   28 7917k    0     0  80712      0  0:05:55  0:01:40  0:04:15 83558"
       ]
      },
      {
       "output_type": "stream",
       "stream": "stdout",
       "text": [
        "\r",
        " 28 27.3M   28 8036k    0     0  81102      0  0:05:53  0:01:41  0:04:12 97465"
       ]
      },
      {
       "output_type": "stream",
       "stream": "stdout",
       "text": [
        "\r",
        " 28 27.3M   28 8087k    0     0  80828      0  0:05:55  0:01:42  0:04:13 91454"
       ]
      },
      {
       "output_type": "stream",
       "stream": "stdout",
       "text": [
        "\r",
        " 29 27.3M   29 8189k    0     0  81056      0  0:05:54  0:01:43  0:04:11 93815"
       ]
      },
      {
       "output_type": "stream",
       "stream": "stdout",
       "text": [
        "\r",
        " 29 27.3M   29 8291k    0     0  80531      0  0:05:56  0:01:45  0:04:11 81549"
       ]
      },
      {
       "output_type": "stream",
       "stream": "stdout",
       "text": [
        "\r",
        " 29 27.3M   29 8291k    0     0  80506      0  0:05:56  0:01:45  0:04:11 76381"
       ]
      },
      {
       "output_type": "stream",
       "stream": "stdout",
       "text": [
        "\r",
        " 29 27.3M   29 8359k    0     0  80415      0  0:05:56  0:01:46  0:04:10 66402"
       ]
      },
      {
       "output_type": "stream",
       "stream": "stdout",
       "text": [
        "\r",
        " 29 27.3M   29 8393k    0     0  79851      0  0:05:59  0:01:47  0:04:12 60526"
       ]
      },
      {
       "output_type": "stream",
       "stream": "stdout",
       "text": [
        "\r",
        " 30 27.3M   30 8426k    0     0  79470      0  0:06:01  0:01:48  0:04:13 47418"
       ]
      },
      {
       "output_type": "stream",
       "stream": "stdout",
       "text": [
        "\r",
        " 30 27.3M   30 8494k    0     0  79472      0  0:06:01  0:01:49  0:04:12 51683"
       ]
      },
      {
       "output_type": "stream",
       "stream": "stdout",
       "text": [
        "\r",
        " 30 27.3M   30 8563k    0     0  79392      0  0:06:01  0:01:50  0:04:11 55828"
       ]
      },
      {
       "output_type": "stream",
       "stream": "stdout",
       "text": [
        "\r",
        " 30 27.3M   30 8614k    0     0  79140      0  0:06:02  0:01:51  0:04:11 52088"
       ]
      },
      {
       "output_type": "stream",
       "stream": "stdout",
       "text": [
        "\r",
        " 30 27.3M   30 8648k    0     0  78735      0  0:06:04  0:01:52  0:04:12 53928"
       ]
      },
      {
       "output_type": "stream",
       "stream": "stdout",
       "text": [
        "\r",
        " 30 27.3M   30 8665k    0     0  78205      0  0:06:07  0:01:53  0:04:14 50078"
       ]
      },
      {
       "output_type": "stream",
       "stream": "stdout",
       "text": [
        "\r",
        " 31 27.3M   31 8699k    0     0  77830      0  0:06:08  0:01:54  0:04:14 41933"
       ]
      },
      {
       "output_type": "stream",
       "stream": "stdout",
       "text": [
        "\r",
        " 31 27.3M   31 8732k    0     0  77455      0  0:06:10  0:01:55  0:04:15 34631"
       ]
      },
      {
       "output_type": "stream",
       "stream": "stdout",
       "text": [
        "\r",
        " 31 27.3M   31 8767k    0     0  77097      0  0:06:12  0:01:56  0:04:16 31416"
       ]
      },
      {
       "output_type": "stream",
       "stream": "stdout",
       "text": [
        "\r",
        " 31 27.3M   31 8885k    0     0  77449      0  0:06:10  0:01:57  0:04:13 48537"
       ]
      },
      {
       "output_type": "stream",
       "stream": "stdout",
       "text": [
        "\r",
        " 32 27.3M   32 8970k    0     0  77349      0  0:06:11  0:01:58  0:04:13 59017"
       ]
      },
      {
       "output_type": "stream",
       "stream": "stdout",
       "text": [
        "\r",
        " 32 27.3M   32 9039k    0     0  77450      0  0:06:10  0:01:59  0:04:11 68860"
       ]
      },
      {
       "output_type": "stream",
       "stream": "stdout",
       "text": [
        "\r",
        " 32 27.3M   32 9124k    0     0  77567      0  0:06:10  0:02:00  0:04:10 80153"
       ]
      },
      {
       "output_type": "stream",
       "stream": "stdout",
       "text": [
        "\r",
        " 32 27.3M   32 9174k    0     0  77178      0  0:06:11  0:02:01  0:04:10 78963"
       ]
      },
      {
       "output_type": "stream",
       "stream": "stdout",
       "text": [
        "\r",
        " 32 27.3M   32 9192k    0     0  76854      0  0:06:13  0:02:02  0:04:11 62873"
       ]
      },
      {
       "output_type": "stream",
       "stream": "stdout",
       "text": [
        "\r",
        " 32 27.3M   32 9243k    0     0  76659      0  0:06:14  0:02:03  0:04:11 59277"
       ]
      },
      {
       "output_type": "stream",
       "stream": "stdout",
       "text": [
        "\r",
        " 33 27.3M   33 9311k    0     0  76617      0  0:06:14  0:02:04  0:04:10 56427"
       ]
      },
      {
       "output_type": "stream",
       "stream": "stdout",
       "text": [
        "\r",
        " 33 27.3M   33 9379k    0     0  76440      0  0:06:15  0:02:05  0:04:10 50312"
       ]
      },
      {
       "output_type": "stream",
       "stream": "stdout",
       "text": [
        "\r",
        " 33 27.3M   33 9396k    0     0  76016      0  0:06:17  0:02:06  0:04:11 46862"
       ]
      },
      {
       "output_type": "stream",
       "stream": "stdout",
       "text": [
        "\r",
        " 33 27.3M   33 9430k    0     0  75741      0  0:06:18  0:02:07  0:04:11 48586"
       ]
      },
      {
       "output_type": "stream",
       "stream": "stdout",
       "text": [
        "\r",
        " 33 27.3M   33 9481k    0     0  75587      0  0:06:19  0:02:08  0:04:11 48967"
       ]
      },
      {
       "output_type": "stream",
       "stream": "stdout",
       "text": [
        "\r",
        " 33 27.3M   33 9515k    0     0  74952      0  0:06:22  0:02:10  0:04:12 37638"
       ]
      },
      {
       "output_type": "stream",
       "stream": "stdout",
       "text": [
        "\r",
        " 34 27.3M   34 9549k    0     0  74954      0  0:06:22  0:02:10  0:04:12 36146"
       ]
      },
      {
       "output_type": "stream",
       "stream": "stdout",
       "text": [
        "\r",
        " 34 27.3M   34 9600k    0     0  74742      0  0:06:24  0:02:11  0:04:13 42167"
       ]
      },
      {
       "output_type": "stream",
       "stream": "stdout",
       "text": [
        "\r",
        " 34 27.3M   34 9634k    0     0  74353      0  0:06:26  0:02:12  0:04:14 40249"
       ]
      },
      {
       "output_type": "stream",
       "stream": "stdout",
       "text": [
        "\r",
        " 34 27.3M   34 9651k    0     0  74060      0  0:06:27  0:02:13  0:04:14 34816"
       ]
      },
      {
       "output_type": "stream",
       "stream": "stdout",
       "text": [
        "\r",
        " 34 27.3M   34 9719k    0     0  74025      0  0:06:27  0:02:14  0:04:13 46932"
       ]
      },
      {
       "output_type": "stream",
       "stream": "stdout",
       "text": [
        "\r",
        " 35 27.3M   35 9821k    0     0  74250      0  0:06:26  0:02:15  0:04:11 55839"
       ]
      },
      {
       "output_type": "stream",
       "stream": "stdout",
       "text": [
        "\r",
        " 35 27.3M   35 9923k    0     0  74467      0  0:06:25  0:02:16  0:04:09 67116"
       ]
      },
      {
       "output_type": "stream",
       "stream": "stdout",
       "text": [
        "\r",
        " 35 27.3M   35  9.7M    0     0  74690      0  0:06:24  0:02:17  0:04:07 84078"
       ]
      },
      {
       "output_type": "stream",
       "stream": "stdout",
       "text": [
        "\r",
        " 36 27.3M   36  9.8M    0     0  74751      0  0:06:24  0:02:18  0:04:06 93072"
       ]
      },
      {
       "output_type": "stream",
       "stream": "stdout",
       "text": [
        "\r",
        " 36 27.3M   36  9.9M    0     0  74436      0  0:06:25  0:02:19  0:04:06 85316"
       ]
      },
      {
       "output_type": "stream",
       "stream": "stdout",
       "text": [
        "\r",
        " 36 27.3M   36  9.9M    0     0  74200      0  0:06:26  0:02:20  0:04:06 72851"
       ]
      },
      {
       "output_type": "stream",
       "stream": "stdout",
       "text": [
        "\r",
        " 36 27.3M   36 10.0M    0     0  74178      0  0:06:26  0:02:21  0:04:05 66269"
       ]
      },
      {
       "output_type": "stream",
       "stream": "stdout",
       "text": [
        "\r",
        " 36 27.3M   36 10.0M    0     0  74140      0  0:06:27  0:02:22  0:04:05 59057"
       ]
      },
      {
       "output_type": "stream",
       "stream": "stdout",
       "text": [
        "\r",
        " 36 27.3M   36 10.1M    0     0  73941      0  0:06:28  0:02:23  0:04:05 51796"
       ]
      },
      {
       "output_type": "stream",
       "stream": "stdout",
       "text": [
        "\r",
        " 37 27.3M   37 10.1M    0     0  73886      0  0:06:28  0:02:24  0:04:04 58682"
       ]
      },
      {
       "output_type": "stream",
       "stream": "stdout",
       "text": [
        "\r",
        " 37 27.3M   37 10.2M    0     0  73912      0  0:06:28  0:02:25  0:04:03 65847"
       ]
      },
      {
       "output_type": "stream",
       "stream": "stdout",
       "text": [
        "\r",
        " 37 27.3M   37 10.3M    0     0  74123      0  0:06:27  0:02:26  0:04:01 72603"
       ]
      },
      {
       "output_type": "stream",
       "stream": "stdout",
       "text": [
        "\r",
        " 38 27.3M   38 10.4M    0     0  74347      0  0:06:26  0:02:27  0:03:59 80253"
       ]
      },
      {
       "output_type": "stream",
       "stream": "stdout",
       "text": [
        "\r",
        " 38 27.3M   38 10.5M    0     0  74253      0  0:06:26  0:02:28  0:03:58 83170"
       ]
      },
      {
       "output_type": "stream",
       "stream": "stdout",
       "text": [
        "\r",
        " 38 27.3M   38 10.5M    0     0  74154      0  0:06:27  0:02:29  0:03:58 82037"
       ]
      },
      {
       "output_type": "stream",
       "stream": "stdout",
       "text": [
        "\r",
        " 38 27.3M   38 10.6M    0     0  74015      0  0:06:27  0:02:30  0:03:57 77042"
       ]
      },
      {
       "output_type": "stream",
       "stream": "stdout",
       "text": [
        "\r",
        " 39 27.3M   39 10.7M    0     0  74221      0  0:06:26  0:02:31  0:03:55 77077"
       ]
      },
      {
       "output_type": "stream",
       "stream": "stdout",
       "text": [
        "\r",
        " 39 27.3M   39 10.7M    0     0  74192      0  0:06:26  0:02:32  0:03:54 69632"
       ]
      },
      {
       "output_type": "stream",
       "stream": "stdout",
       "text": [
        "\r",
        " 39 27.3M   39 10.8M    0     0  74382      0  0:06:25  0:02:33  0:03:52 78287"
       ]
      },
      {
       "output_type": "stream",
       "stream": "stdout",
       "text": [
        "\r",
        " 39 27.3M   39 10.9M    0     0  74238      0  0:06:26  0:02:34  0:03:52 76764"
       ]
      },
      {
       "output_type": "stream",
       "stream": "stdout",
       "text": [
        "\r",
        " 40 27.3M   40 11.0M    0     0  74440      0  0:06:25  0:02:35  0:03:50 87266"
       ]
      },
      {
       "output_type": "stream",
       "stream": "stdout",
       "text": [
        "\r",
        " 40 27.3M   40 11.1M    0     0  74742      0  0:06:24  0:02:36  0:03:48 90521"
       ]
      },
      {
       "output_type": "stream",
       "stream": "stdout",
       "text": [
        "\r",
        " 41 27.3M   41 11.2M    0     0  74820      0  0:06:23  0:02:37  0:03:46 93965"
       ]
      },
      {
       "output_type": "stream",
       "stream": "stdout",
       "text": [
        "\r",
        " 41 27.3M   41 11.3M    0     0  75111      0  0:06:22  0:02:38  0:03:44 97504"
       ]
      },
      {
       "output_type": "stream",
       "stream": "stdout",
       "text": [
        "\r",
        " 41 27.3M   41 11.4M    0     0  75176      0  0:06:21  0:02:39  0:03:42  101k"
       ]
      },
      {
       "output_type": "stream",
       "stream": "stdout",
       "text": [
        "\r",
        " 42 27.3M   42 11.5M    0     0  75359      0  0:06:20  0:02:40  0:03:40  101k"
       ]
      },
      {
       "output_type": "stream",
       "stream": "stdout",
       "text": [
        "\r",
        " 42 27.3M   42 11.5M    0     0  75224      0  0:06:21  0:02:41  0:03:40 90316"
       ]
      },
      {
       "output_type": "stream",
       "stream": "stdout",
       "text": [
        "\r",
        " 42 27.3M   42 11.6M    0     0  75403      0  0:06:20  0:02:42  0:03:38 93740"
       ]
      },
      {
       "output_type": "stream",
       "stream": "stdout",
       "text": [
        "\r",
        " 43 27.3M   43 11.7M    0     0  75695      0  0:06:19  0:02:43  0:03:36 94248"
       ]
      },
      {
       "output_type": "stream",
       "stream": "stdout",
       "text": [
        "\r",
        " 43 27.3M   43 11.8M    0     0  75764      0  0:06:18  0:02:44  0:03:34 94605"
       ]
      },
      {
       "output_type": "stream",
       "stream": "stdout",
       "text": [
        "\r",
        " 43 27.3M   43 11.9M    0     0  75939      0  0:06:17  0:02:45  0:03:32 94684"
       ]
      },
      {
       "output_type": "stream",
       "stream": "stdout",
       "text": [
        "\r",
        " 44 27.3M   44 12.0M    0     0  75799      0  0:06:18  0:02:46  0:03:32 93645"
       ]
      },
      {
       "output_type": "stream",
       "stream": "stdout",
       "text": [
        "\r",
        " 44 27.3M   44 12.0M    0     0  75655      0  0:06:19  0:02:47  0:03:32 83843"
       ]
      },
      {
       "output_type": "stream",
       "stream": "stdout",
       "text": [
        "\r",
        " 44 27.3M   44 12.1M    0     0  75720      0  0:06:19  0:02:48  0:03:31 76533"
       ]
      },
      {
       "output_type": "stream",
       "stream": "stdout",
       "text": [
        "\r",
        " 44 27.3M   44 12.2M    0     0  75989      0  0:06:17  0:02:49  0:03:28 83358"
       ]
      },
      {
       "output_type": "stream",
       "stream": "stdout",
       "text": [
        "\r",
        " 45 27.3M   45 12.3M    0     0  76059      0  0:06:17  0:02:50  0:03:27 80044"
       ]
      },
      {
       "output_type": "stream",
       "stream": "stdout",
       "text": [
        "\r",
        " 45 27.3M   45 12.4M    0     0  76323      0  0:06:16  0:02:51  0:03:25 94546"
       ]
      },
      {
       "output_type": "stream",
       "stream": "stdout",
       "text": [
        "\r",
        " 46 27.3M   46 12.5M    0     0  76590      0  0:06:14  0:02:52  0:03:22  105k"
       ]
      },
      {
       "output_type": "stream",
       "stream": "stdout",
       "text": [
        "\r",
        " 46 27.3M   46 12.7M    0     0  76851      0  0:06:13  0:02:53  0:03:20  112k"
       ]
      },
      {
       "output_type": "stream",
       "stream": "stdout",
       "text": [
        "\r",
        " 46 27.3M   46 12.8M    0     0  77009      0  0:06:12  0:02:54  0:03:18  109k"
       ]
      },
      {
       "output_type": "stream",
       "stream": "stdout",
       "text": [
        "\r",
        " 46 27.3M   46 12.8M    0     0  76791      0  0:06:13  0:02:55  0:03:18   98k"
       ]
      },
      {
       "output_type": "stream",
       "stream": "stdout",
       "text": [
        "\r",
        " 47 27.3M   47 12.8M    0     0  76622      0  0:06:14  0:02:56  0:03:18 86848"
       ]
      },
      {
       "output_type": "stream",
       "stream": "stdout",
       "text": [
        "\r",
        " 47 27.3M   47 12.9M    0     0  76364      0  0:06:15  0:02:57  0:03:18 68657"
       ]
      },
      {
       "output_type": "stream",
       "stream": "stdout",
       "text": [
        "\r",
        " 47 27.3M   47 12.9M    0     0  76008      0  0:06:17  0:02:58  0:03:19 47497"
       ]
      },
      {
       "output_type": "stream",
       "stream": "stdout",
       "text": [
        "\r",
        " 47 27.3M   47 12.9M    0     0  75674      0  0:06:19  0:02:59  0:03:20 30427"
       ]
      },
      {
       "output_type": "stream",
       "stream": "stdout",
       "text": [
        "\r",
        " 47 27.3M   47 12.9M    0     0  75363      0  0:06:20  0:03:00  0:03:20 24499"
       ]
      },
      {
       "output_type": "stream",
       "stream": "stdout",
       "text": [
        "\r",
        " 47 27.3M   47 12.9M    0     0  75033      0  0:06:22  0:03:01  0:03:21 20368"
       ]
      },
      {
       "output_type": "stream",
       "stream": "stdout",
       "text": [
        "\r",
        " 47 27.3M   47 12.9M    0     0  74630      0  0:06:24  0:03:02  0:03:22 13772"
       ]
      },
      {
       "output_type": "stream",
       "stream": "stdout",
       "text": [
        "\r",
        " 47 27.3M   47 13.0M    0     0  74465      0  0:06:25  0:03:03  0:03:22 17880"
       ]
      },
      {
       "output_type": "stream",
       "stream": "stdout",
       "text": [
        "\r",
        " 47 27.3M   47 13.0M    0     0  74133      0  0:06:27  0:03:04  0:03:23 20320"
       ]
      },
      {
       "output_type": "stream",
       "stream": "stdout",
       "text": [
        "\r",
        " 47 27.3M   47 13.0M    0     0  73971      0  0:06:28  0:03:05  0:03:23 24158"
       ]
      },
      {
       "output_type": "stream",
       "stream": "stdout",
       "text": [
        "\r",
        " 47 27.3M   47 13.1M    0     0  73753      0  0:06:29  0:03:06  0:03:23 27499"
       ]
      },
      {
       "output_type": "stream",
       "stream": "stdout",
       "text": [
        "\r",
        " 48 27.3M   48 13.1M    0     0  73507      0  0:06:30  0:03:07  0:03:23 31837"
       ]
      },
      {
       "output_type": "stream",
       "stream": "stdout",
       "text": [
        "\r",
        " 48 27.3M   48 13.1M    0     0  73312      0  0:06:31  0:03:08  0:03:23 31184"
       ]
      },
      {
       "output_type": "stream",
       "stream": "stdout",
       "text": [
        "\r",
        " 48 27.3M   48 13.2M    0     0  73185      0  0:06:32  0:03:09  0:03:23 36356"
       ]
      },
      {
       "output_type": "stream",
       "stream": "stdout",
       "text": [
        "\r",
        " 48 27.3M   48 13.2M    0     0  73099      0  0:06:32  0:03:10  0:03:22 39709"
       ]
      },
      {
       "output_type": "stream",
       "stream": "stdout",
       "text": [
        "\r",
        " 48 27.3M   48 13.3M    0     0  72980      0  0:06:33  0:03:11  0:03:22 43246"
       ]
      },
      {
       "output_type": "stream",
       "stream": "stdout",
       "text": [
        "\r",
        " 49 27.3M   49 13.4M    0     0  73155      0  0:06:32  0:03:12  0:03:20 59797"
       ]
      },
      {
       "output_type": "stream",
       "stream": "stdout",
       "text": [
        "\r",
        " 49 27.3M   49 13.5M    0     0  73312      0  0:06:31  0:03:13  0:03:18 73333"
       ]
      },
      {
       "output_type": "stream",
       "stream": "stdout",
       "text": [
        "\r",
        " 49 27.3M   49 13.6M    0     0  73544      0  0:06:30  0:03:14  0:03:16 87179"
       ]
      },
      {
       "output_type": "stream",
       "stream": "stdout",
       "text": [
        "\r",
        " 50 27.3M   50 13.6M    0     0  73448      0  0:06:30  0:03:15  0:03:15 86727"
       ]
      },
      {
       "output_type": "stream",
       "stream": "stdout",
       "text": [
        "\r",
        " 50 27.3M   50 13.8M    0     0  73703      0  0:06:29  0:03:16  0:03:13   99k"
       ]
      },
      {
       "output_type": "stream",
       "stream": "stdout",
       "text": [
        "\r",
        " 50 27.3M   50 13.8M    0     0  73763      0  0:06:29  0:03:17  0:03:12 97115"
       ]
      },
      {
       "output_type": "stream",
       "stream": "stdout",
       "text": [
        "\r",
        " 51 27.3M   51 13.9M    0     0  73831      0  0:06:28  0:03:18  0:03:10 93911"
       ]
      },
      {
       "output_type": "stream",
       "stream": "stdout",
       "text": [
        "\r",
        " 51 27.3M   51 14.0M    0     0  73900      0  0:06:28  0:03:19  0:03:09 87806"
       ]
      },
      {
       "output_type": "stream",
       "stream": "stdout",
       "text": [
        "\r",
        " 51 27.3M   51 14.1M    0     0  73960      0  0:06:28  0:03:20  0:03:08 93946"
       ]
      },
      {
       "output_type": "stream",
       "stream": "stdout",
       "text": [
        "\r",
        " 51 27.3M   51 14.2M    0     0  73943      0  0:06:28  0:03:21  0:03:07 83358"
       ]
      },
      {
       "output_type": "stream",
       "stream": "stdout",
       "text": [
        "\r",
        " 52 27.3M   52 14.3M    0     0  74080      0  0:06:27  0:03:22  0:03:05 86575"
       ]
      },
      {
       "output_type": "stream",
       "stream": "stdout",
       "text": [
        "\r",
        " 52 27.3M   52 14.4M    0     0  74248      0  0:06:26  0:03:23  0:03:03 90799"
       ]
      },
      {
       "output_type": "stream",
       "stream": "stdout",
       "text": [
        "\r",
        " 53 27.3M   53 14.5M    0     0  74736      0  0:06:24  0:03:24  0:03:00  105k"
       ]
      },
      {
       "output_type": "stream",
       "stream": "stdout",
       "text": [
        "\r",
        " 53 27.3M   53 14.7M    0     0  75129      0  0:06:22  0:03:25  0:02:57  119k"
       ]
      },
      {
       "output_type": "stream",
       "stream": "stdout",
       "text": [
        "\r",
        " 54 27.3M   54 14.8M    0     0  75571      0  0:06:19  0:03:26  0:02:53  136k"
       ]
      },
      {
       "output_type": "stream",
       "stream": "stdout",
       "text": [
        "\r",
        " 54 27.3M   54 15.0M    0     0  75998      0  0:06:17  0:03:27  0:02:50  150k"
       ]
      },
      {
       "output_type": "stream",
       "stream": "stdout",
       "text": [
        "\r",
        " 55 27.3M   55 15.1M    0     0  76391      0  0:06:15  0:03:28  0:02:47  159k"
       ]
      },
      {
       "output_type": "stream",
       "stream": "stdout",
       "text": [
        "\r",
        " 55 27.3M   55 15.3M    0     0  76680      0  0:06:14  0:03:29  0:02:45  152k"
       ]
      },
      {
       "output_type": "stream",
       "stream": "stdout",
       "text": [
        "\r",
        " 56 27.3M   56 15.3M    0     0  76658      0  0:06:14  0:03:30  0:02:44  136k"
       ]
      },
      {
       "output_type": "stream",
       "stream": "stdout",
       "text": [
        "\r",
        " 56 27.3M   56 15.5M    0     0  76954      0  0:06:13  0:03:31  0:02:42  132k"
       ]
      },
      {
       "output_type": "stream",
       "stream": "stdout",
       "text": [
        "\r",
        " 57 27.3M   57 15.6M    0     0  77410      0  0:06:10  0:03:32  0:02:38  132k"
       ]
      },
      {
       "output_type": "stream",
       "stream": "stdout",
       "text": [
        "\r",
        " 57 27.3M   57 15.8M    0     0  77698      0  0:06:09  0:03:33  0:02:36  129k"
       ]
      },
      {
       "output_type": "stream",
       "stream": "stdout",
       "text": [
        "\r",
        " 58 27.3M   58 15.9M    0     0  77822      0  0:06:08  0:03:34  0:02:34  122k"
       ]
      },
      {
       "output_type": "stream",
       "stream": "stdout",
       "text": [
        "\r",
        " 58 27.3M   58 16.0M    0     0  78180      0  0:06:07  0:03:35  0:02:32  138k"
       ]
      },
      {
       "output_type": "stream",
       "stream": "stdout",
       "text": [
        "\r",
        " 58 27.3M   58 16.1M    0     0  78220      0  0:06:06  0:03:36  0:02:30  128k"
       ]
      },
      {
       "output_type": "stream",
       "stream": "stdout",
       "text": [
        "\r",
        " 59 27.3M   59 16.2M    0     0  78430      0  0:06:05  0:03:37  0:02:28  118k"
       ]
      },
      {
       "output_type": "stream",
       "stream": "stdout",
       "text": [
        "\r",
        " 59 27.3M   59 16.3M    0     0  78711      0  0:06:04  0:03:38  0:02:26  119k"
       ]
      },
      {
       "output_type": "stream",
       "stream": "stdout",
       "text": [
        "\r",
        " 60 27.3M   60 16.5M    0     0  79051      0  0:06:03  0:03:39  0:02:24  128k"
       ]
      },
      {
       "output_type": "stream",
       "stream": "stdout",
       "text": [
        "\r",
        " 60 27.3M   60 16.6M    0     0  79339      0  0:06:01  0:03:40  0:02:21  126k"
       ]
      },
      {
       "output_type": "stream",
       "stream": "stdout",
       "text": [
        "\r",
        " 61 27.3M   61 16.8M    0     0  79669      0  0:06:00  0:03:41  0:02:19  138k"
       ]
      },
      {
       "output_type": "stream",
       "stream": "stdout",
       "text": [
        "\r",
        " 61 27.3M   61 16.9M    0     0  79878      0  0:05:59  0:03:42  0:02:17  139k"
       ]
      },
      {
       "output_type": "stream",
       "stream": "stdout",
       "text": [
        "\r",
        " 62 27.3M   62 17.0M    0     0  80123      0  0:05:58  0:03:43  0:02:15  137k"
       ]
      },
      {
       "output_type": "stream",
       "stream": "stdout",
       "text": [
        "\r",
        " 62 27.3M   62 17.1M    0     0  80327      0  0:05:57  0:03:44  0:02:13  133k"
       ]
      },
      {
       "output_type": "stream",
       "stream": "stdout",
       "text": [
        "\r",
        " 63 27.3M   63 17.3M    0     0  80590      0  0:05:56  0:03:45  0:02:11  132k"
       ]
      },
      {
       "output_type": "stream",
       "stream": "stdout",
       "text": [
        "\r",
        " 63 27.3M   63 17.4M    0     0  80928      0  0:05:54  0:03:46  0:02:08  133k"
       ]
      },
      {
       "output_type": "stream",
       "stream": "stdout",
       "text": [
        "\r",
        " 64 27.3M   64 17.5M    0     0  80799      0  0:05:55  0:03:47  0:02:08  115k"
       ]
      },
      {
       "output_type": "stream",
       "stream": "stdout",
       "text": [
        "\r",
        " 64 27.3M   64 17.6M    0     0  81002      0  0:05:54  0:03:48  0:02:06  116k"
       ]
      },
      {
       "output_type": "stream",
       "stream": "stdout",
       "text": [
        "\r",
        " 64 27.3M   64 17.7M    0     0  80986      0  0:05:54  0:03:49  0:02:05  107k"
       ]
      },
      {
       "output_type": "stream",
       "stream": "stdout",
       "text": [
        "\r",
        " 64 27.3M   64 17.7M    0     0  80803      0  0:05:55  0:03:50  0:02:05 90389"
       ]
      },
      {
       "output_type": "stream",
       "stream": "stdout",
       "text": [
        "\r",
        " 65 27.3M   65 17.8M    0     0  80752      0  0:05:55  0:03:51  0:02:04 72836"
       ]
      },
      {
       "output_type": "stream",
       "stream": "stdout",
       "text": [
        "\r",
        " 65 27.3M   65 17.9M    0     0  80775      0  0:05:55  0:03:52  0:02:03 79594"
       ]
      },
      {
       "output_type": "stream",
       "stream": "stdout",
       "text": [
        "\r",
        " 65 27.3M   65 17.9M    0     0  80494      0  0:05:56  0:03:53  0:02:03 56796"
       ]
      },
      {
       "output_type": "stream",
       "stream": "stdout",
       "text": [
        "\r",
        " 65 27.3M   65 17.9M    0     0  80387      0  0:05:57  0:03:54  0:02:03 52645"
       ]
      },
      {
       "output_type": "stream",
       "stream": "stdout",
       "text": [
        "\r",
        " 65 27.3M   65 18.0M    0     0  80198      0  0:05:57  0:03:55  0:02:02 52355"
       ]
      },
      {
       "output_type": "stream",
       "stream": "stdout",
       "text": [
        "\r",
        " 66 27.3M   66 18.0M    0     0  80149      0  0:05:58  0:03:56  0:02:02 52224"
       ]
      },
      {
       "output_type": "stream",
       "stream": "stdout",
       "text": [
        "\r",
        " 66 27.3M   66 18.1M    0     0  80011      0  0:05:58  0:03:57  0:02:01 46377"
       ]
      },
      {
       "output_type": "stream",
       "stream": "stdout",
       "text": [
        "\r",
        " 66 27.3M   66 18.2M    0     0  80267      0  0:05:57  0:03:58  0:01:59 69632"
       ]
      },
      {
       "output_type": "stream",
       "stream": "stdout",
       "text": [
        "\r",
        " 67 27.3M   67 18.3M    0     0  80531      0  0:05:56  0:03:59  0:01:57 87319"
       ]
      },
      {
       "output_type": "stream",
       "stream": "stdout",
       "text": [
        "\r",
        " 67 27.3M   67 18.5M    0     0  80776      0  0:05:55  0:04:00  0:01:55  105k"
       ]
      },
      {
       "output_type": "stream",
       "stream": "stdout",
       "text": [
        "\r",
        " 68 27.3M   68 18.6M    0     0  81091      0  0:05:53  0:04:01  0:01:52  122k"
       ]
      },
      {
       "output_type": "stream",
       "stream": "stdout",
       "text": [
        "\r",
        " 68 27.3M   68 18.8M    0     0  81328      0  0:05:52  0:04:02  0:01:50  144k"
       ]
      },
      {
       "output_type": "stream",
       "stream": "stdout",
       "text": [
        "\r",
        " 69 27.3M   69 18.9M    0     0  81568      0  0:05:51  0:04:03  0:01:48  140k"
       ]
      },
      {
       "output_type": "stream",
       "stream": "stdout",
       "text": [
        "\r",
        " 69 27.3M   69 19.0M    0     0  81803      0  0:05:50  0:04:04  0:01:46  139k"
       ]
      },
      {
       "output_type": "stream",
       "stream": "stdout",
       "text": [
        "\r",
        " 70 27.3M   70 19.2M    0     0  82025      0  0:05:49  0:04:05  0:01:44  138k"
       ]
      },
      {
       "output_type": "stream",
       "stream": "stdout",
       "text": [
        "\r",
        " 70 27.3M   70 19.3M    0     0  82270      0  0:05:48  0:04:06  0:01:42  135k"
       ]
      },
      {
       "output_type": "stream",
       "stream": "stdout",
       "text": [
        "\r",
        " 71 27.3M   71 19.4M    0     0  82501      0  0:05:47  0:04:07  0:01:40  136k"
       ]
      },
      {
       "output_type": "stream",
       "stream": "stdout",
       "text": [
        "\r",
        " 71 27.3M   71 19.6M    0     0  82786      0  0:05:46  0:04:08  0:01:38  138k"
       ]
      },
      {
       "output_type": "stream",
       "stream": "stdout",
       "text": [
        "\r",
        " 72 27.3M   72 19.7M    0     0  83027      0  0:05:45  0:04:09  0:01:36  139k"
       ]
      },
      {
       "output_type": "stream",
       "stream": "stdout",
       "text": [
        "\r",
        " 72 27.3M   72 19.9M    0     0  83307      0  0:05:44  0:04:10  0:01:34  142k"
       ]
      },
      {
       "output_type": "stream",
       "stream": "stdout",
       "text": [
        "\r",
        " 73 27.3M   73 20.0M    0     0  83612      0  0:05:43  0:04:11  0:01:32  146k"
       ]
      },
      {
       "output_type": "stream",
       "stream": "stdout",
       "text": [
        "\r",
        " 73 27.3M   73 20.1M    0     0  83747      0  0:05:42  0:04:12  0:01:30  141k"
       ]
      },
      {
       "output_type": "stream",
       "stream": "stdout",
       "text": [
        "\r",
        " 74 27.3M   74 20.3M    0     0  84048      0  0:05:41  0:04:13  0:01:28  143k"
       ]
      },
      {
       "output_type": "stream",
       "stream": "stdout",
       "text": [
        "\r",
        " 74 27.3M   74 20.4M    0     0  84401      0  0:05:40  0:04:14  0:01:26  149k"
       ]
      },
      {
       "output_type": "stream",
       "stream": "stdout",
       "text": [
        "\r",
        " 75 27.3M   75 20.6M    0     0  84616      0  0:05:39  0:04:15  0:01:24  147k"
       ]
      },
      {
       "output_type": "stream",
       "stream": "stdout",
       "text": [
        "\r",
        " 75 27.3M   75 20.7M    0     0  84833      0  0:05:38  0:04:16  0:01:22  142k"
       ]
      },
      {
       "output_type": "stream",
       "stream": "stdout",
       "text": [
        "\r",
        " 76 27.3M   76 20.8M    0     0  85099      0  0:05:37  0:04:17  0:01:20  150k"
       ]
      },
      {
       "output_type": "stream",
       "stream": "stdout",
       "text": [
        "\r",
        " 76 27.3M   76 21.0M    0     0  85321      0  0:05:36  0:04:18  0:01:18  146k"
       ]
      },
      {
       "output_type": "stream",
       "stream": "stdout",
       "text": [
        "\r",
        " 77 27.3M   77 21.1M    0     0  85585      0  0:05:35  0:04:19  0:01:16  142k"
       ]
      },
      {
       "output_type": "stream",
       "stream": "stdout",
       "text": [
        "\r",
        " 77 27.3M   77 21.2M    0     0  85599      0  0:05:35  0:04:20  0:01:15  132k"
       ]
      },
      {
       "output_type": "stream",
       "stream": "stdout",
       "text": [
        "\r",
        " 78 27.3M   78 21.3M    0     0  85663      0  0:05:35  0:04:21  0:01:14  125k"
       ]
      },
      {
       "output_type": "stream",
       "stream": "stdout",
       "text": [
        "\r",
        " 78 27.3M   78 21.4M    0     0  85603      0  0:05:35  0:04:22  0:01:13  107k"
       ]
      },
      {
       "output_type": "stream",
       "stream": "stdout",
       "text": [
        "\r",
        " 78 27.3M   78 21.5M    0     0  85812      0  0:05:34  0:04:23  0:01:11  108k"
       ]
      },
      {
       "output_type": "stream",
       "stream": "stdout",
       "text": [
        "\r",
        " 78 27.3M   78 21.6M    0     0  85679      0  0:05:35  0:04:24  0:01:11 90539"
       ]
      },
      {
       "output_type": "stream",
       "stream": "stdout",
       "text": [
        "\r",
        " 79 27.3M   79 21.7M    0     0  85759      0  0:05:34  0:04:25  0:01:09 94097"
       ]
      },
      {
       "output_type": "stream",
       "stream": "stdout",
       "text": [
        "\r",
        " 79 27.3M   79 21.8M    0     0  85831      0  0:05:34  0:04:26  0:01:08 94643"
       ]
      },
      {
       "output_type": "stream",
       "stream": "stdout",
       "text": [
        "\r",
        " 80 27.3M   80 21.9M    0     0  85957      0  0:05:33  0:04:27  0:01:06  102k"
       ]
      },
      {
       "output_type": "stream",
       "stream": "stdout",
       "text": [
        "\r",
        " 80 27.3M   80 22.0M    0     0  85967      0  0:05:33  0:04:28  0:01:05 94116"
       ]
      },
      {
       "output_type": "stream",
       "stream": "stdout",
       "text": [
        "\r",
        " 80 27.3M   80 22.0M    0     0  85966      0  0:05:33  0:04:29  0:01:04   98k"
       ]
      },
      {
       "output_type": "stream",
       "stream": "stdout",
       "text": [
        "\r",
        " 81 27.3M   81 22.1M    0     0  86036      0  0:05:33  0:04:30  0:01:03   98k"
       ]
      },
      {
       "output_type": "stream",
       "stream": "stdout",
       "text": [
        "\r",
        " 81 27.3M   81 22.2M    0     0  86106      0  0:05:33  0:04:31  0:01:02   98k"
       ]
      },
      {
       "output_type": "stream",
       "stream": "stdout",
       "text": [
        "\r",
        " 81 27.3M   81 22.4M    0     0  86360      0  0:05:32  0:04:32  0:01:00  105k"
       ]
      },
      {
       "output_type": "stream",
       "stream": "stdout",
       "text": [
        "\r",
        " 82 27.3M   82 22.5M    0     0  86604      0  0:05:31  0:04:33  0:00:58  117k"
       ]
      },
      {
       "output_type": "stream",
       "stream": "stdout",
       "text": [
        "\r",
        " 82 27.3M   82 22.6M    0     0  86604      0  0:05:31  0:04:34  0:00:57  117k"
       ]
      },
      {
       "output_type": "stream",
       "stream": "stdout",
       "text": [
        "\r",
        " 83 27.3M   83 22.7M    0     0  86481      0  0:05:31  0:04:35  0:00:56  107k"
       ]
      },
      {
       "output_type": "stream",
       "stream": "stdout",
       "text": [
        "\r",
        " 83 27.3M   83 22.8M    0     0  86688      0  0:05:31  0:04:36  0:00:55  115k"
       ]
      },
      {
       "output_type": "stream",
       "stream": "stdout",
       "text": [
        "\r",
        " 83 27.3M   83 22.9M    0     0  86815      0  0:05:30  0:04:37  0:00:53  109k"
       ]
      },
      {
       "output_type": "stream",
       "stream": "stdout",
       "text": [
        "\r",
        " 84 27.3M   84 23.0M    0     0  86936      0  0:05:30  0:04:38  0:00:52  102k"
       ]
      },
      {
       "output_type": "stream",
       "stream": "stdout",
       "text": [
        "\r",
        " 84 27.3M   84 23.2M    0     0  87067      0  0:05:29  0:04:39  0:00:50  110k"
       ]
      },
      {
       "output_type": "stream",
       "stream": "stdout",
       "text": [
        "\r",
        " 85 27.3M   85 23.2M    0     0  87069      0  0:05:29  0:04:40  0:00:49  117k"
       ]
      },
      {
       "output_type": "stream",
       "stream": "stdout",
       "text": [
        "\r",
        " 85 27.3M   85 23.4M    0     0  87245      0  0:05:29  0:04:41  0:00:48  115k"
       ]
      },
      {
       "output_type": "stream",
       "stream": "stdout",
       "text": [
        "\r",
        " 85 27.3M   85 23.5M    0     0  87316      0  0:05:28  0:04:42  0:00:46  112k"
       ]
      },
      {
       "output_type": "stream",
       "stream": "stdout",
       "text": [
        "\r",
        " 86 27.3M   86 23.6M    0     0  87369      0  0:05:28  0:04:43  0:00:45  108k"
       ]
      },
      {
       "output_type": "stream",
       "stream": "stdout",
       "text": [
        "\r",
        " 86 27.3M   86 23.7M    0     0  87497      0  0:05:28  0:04:44  0:00:44  108k"
       ]
      },
      {
       "output_type": "stream",
       "stream": "stdout",
       "text": [
        "\r",
        " 87 27.3M   87 23.8M    0     0  87674      0  0:05:27  0:04:45  0:00:42  118k"
       ]
      },
      {
       "output_type": "stream",
       "stream": "stdout",
       "text": [
        "\r",
        " 87 27.3M   87 23.9M    0     0  87673      0  0:05:27  0:04:46  0:00:41  109k"
       ]
      },
      {
       "output_type": "stream",
       "stream": "stdout",
       "text": [
        "\r",
        " 87 27.3M   87 24.0M    0     0  87793      0  0:05:26  0:04:47  0:00:39  112k"
       ]
      },
      {
       "output_type": "stream",
       "stream": "stdout",
       "text": [
        "\r",
        " 88 27.3M   88 24.1M    0     0  87849      0  0:05:26  0:04:48  0:00:38  112k"
       ]
      },
      {
       "output_type": "stream",
       "stream": "stdout",
       "text": [
        "\r",
        " 88 27.3M   88 24.2M    0     0  87772      0  0:05:27  0:04:49  0:00:38  100k"
       ]
      },
      {
       "output_type": "stream",
       "stream": "stdout",
       "text": [
        "\r",
        " 88 27.3M   88 24.2M    0     0  87596      0  0:05:27  0:04:50  0:00:37 83203"
       ]
      },
      {
       "output_type": "stream",
       "stream": "stdout",
       "text": [
        "\r",
        " 88 27.3M   88 24.3M    0     0  87582      0  0:05:27  0:04:51  0:00:36 82446"
       ]
      },
      {
       "output_type": "stream",
       "stream": "stdout",
       "text": [
        "\r",
        " 89 27.3M   89 24.4M    0     0  87486      0  0:05:28  0:04:52  0:00:36 69757"
       ]
      },
      {
       "output_type": "stream",
       "stream": "stdout",
       "text": [
        "\r",
        " 89 27.3M   89 24.4M    0     0  87540      0  0:05:27  0:04:53  0:00:34 69608"
       ]
      },
      {
       "output_type": "stream",
       "stream": "stdout",
       "text": [
        "\r",
        " 89 27.3M   89 24.5M    0     0  87478      0  0:05:28  0:04:54  0:00:34 70314"
       ]
      },
      {
       "output_type": "stream",
       "stream": "stdout",
       "text": [
        "\r",
        " 90 27.3M   90 24.6M    0     0  87480      0  0:05:28  0:04:55  0:00:33 80717"
       ]
      },
      {
       "output_type": "stream",
       "stream": "stdout",
       "text": [
        "\r",
        " 90 27.3M   90 24.7M    0     0  87421      0  0:05:28  0:04:56  0:00:32 77874"
       ]
      },
      {
       "output_type": "stream",
       "stream": "stdout",
       "text": [
        "\r",
        " 90 27.3M   90 24.7M    0     0  87418      0  0:05:28  0:04:57  0:00:31 83474"
       ]
      },
      {
       "output_type": "stream",
       "stream": "stdout",
       "text": [
        "\r",
        " 91 27.3M   91 24.9M    0     0  87435      0  0:05:28  0:04:58  0:00:30 81666"
       ]
      },
      {
       "output_type": "stream",
       "stream": "stdout",
       "text": [
        "\r",
        " 91 27.3M   91 24.9M    0     0  87414      0  0:05:28  0:04:59  0:00:29 83642"
       ]
      },
      {
       "output_type": "stream",
       "stream": "stdout",
       "text": [
        "\r",
        " 91 27.3M   91 25.0M    0     0  87470      0  0:05:28  0:05:00  0:00:28 86883"
       ]
      },
      {
       "output_type": "stream",
       "stream": "stdout",
       "text": [
        "\r",
        " 91 27.3M   91 25.1M    0     0  87472      0  0:05:28  0:05:01  0:00:27 90503"
       ]
      },
      {
       "output_type": "stream",
       "stream": "stdout",
       "text": [
        "\r",
        " 92 27.3M   92 25.2M    0     0  87582      0  0:05:27  0:05:02  0:00:25 97348"
       ]
      },
      {
       "output_type": "stream",
       "stream": "stdout",
       "text": [
        "\r",
        " 92 27.3M   92 25.3M    0     0  87524      0  0:05:27  0:05:03  0:00:24 93210"
       ]
      },
      {
       "output_type": "stream",
       "stream": "stdout",
       "text": [
        "\r",
        " 92 27.3M   92 25.3M    0     0  87391      0  0:05:28  0:05:04  0:00:24 86024"
       ]
      },
      {
       "output_type": "stream",
       "stream": "stdout",
       "text": [
        "\r",
        " 93 27.3M   93 25.4M    0     0  87467      0  0:05:28  0:05:05  0:00:23 87231"
       ]
      },
      {
       "output_type": "stream",
       "stream": "stdout",
       "text": [
        "\r",
        " 93 27.3M   93 25.6M    0     0  87630      0  0:05:27  0:05:06  0:00:21 97154"
       ]
      },
      {
       "output_type": "stream",
       "stream": "stdout",
       "text": [
        "\r",
        " 94 27.3M   94 25.8M    0     0  88027      0  0:05:26  0:05:07  0:00:19  112k"
       ]
      },
      {
       "output_type": "stream",
       "stream": "stdout",
       "text": [
        "\r",
        " 95 27.3M   95 26.0M    0     0  88478      0  0:05:24  0:05:08  0:00:16  143k"
       ]
      },
      {
       "output_type": "stream",
       "stream": "stdout",
       "text": [
        "\r",
        " 95 27.3M   95 26.1M    0     0  88755      0  0:05:23  0:05:09  0:00:14  168k"
       ]
      },
      {
       "output_type": "stream",
       "stream": "stdout",
       "text": [
        "\r",
        " 95 27.3M   95 26.2M    0     0  88690      0  0:05:23  0:05:10  0:00:13  159k"
       ]
      },
      {
       "output_type": "stream",
       "stream": "stdout",
       "text": [
        "\r",
        " 96 27.3M   96 26.3M    0     0  88730      0  0:05:23  0:05:11  0:00:12  152k"
       ]
      },
      {
       "output_type": "stream",
       "stream": "stdout",
       "text": [
        "\r",
        " 96 27.3M   96 26.5M    0     0  89013      0  0:05:22  0:05:12  0:00:10  146k"
       ]
      },
      {
       "output_type": "stream",
       "stream": "stdout",
       "text": [
        "\r",
        " 97 27.3M   97 26.6M    0     0  89176      0  0:05:21  0:05:13  0:00:08  129k"
       ]
      },
      {
       "output_type": "stream",
       "stream": "stdout",
       "text": [
        "\r",
        " 97 27.3M   97 26.8M    0     0  89438      0  0:05:20  0:05:14  0:00:06  128k"
       ]
      },
      {
       "output_type": "stream",
       "stream": "stdout",
       "text": [
        "\r",
        " 98 27.3M   98 26.9M    0     0  89660      0  0:05:20  0:05:15  0:00:05  146k"
       ]
      },
      {
       "output_type": "stream",
       "stream": "stdout",
       "text": [
        "\r",
        " 99 27.3M   99 27.1M    0     0  90083      0  0:05:18  0:05:16  0:00:02  170k"
       ]
      },
      {
       "output_type": "stream",
       "stream": "stdout",
       "text": [
        "\r",
        "100 27.3M  100 27.3M    0     0  90451      0  0:05:17  0:05:17 --:--:--  178k\r\n"
       ]
      }
     ],
     "prompt_number": 2
    },
    {
     "cell_type": "markdown",
     "metadata": {},
     "source": [
      "Import data in a pandas dataframe called \"allbeers\". Use the compression keyword"
     ]
    },
    {
     "cell_type": "code",
     "collapsed": false,
<<<<<<< HEAD
     "input": [
      "allbeers = pd.read_csv(\"beer_reviews.tar.gz\", compression='gzip')"
     ],
=======
     "input": [],
>>>>>>> instructor/master
     "language": "python",
     "metadata": {},
     "outputs": [],
     "prompt_number": 6
    },
    {
     "cell_type": "markdown",
     "metadata": {},
     "source": [
      "Let's look at the data"
     ]
    },
    {
     "cell_type": "code",
     "collapsed": false,
     "input": [
      "allbeers.head()"
     ],
     "language": "python",
     "metadata": {},
     "outputs": [
      {
       "html": [
        "<div style=\"max-height:1000px;max-width:1500px;overflow:auto;\">\n",
        "<table border=\"1\" class=\"dataframe\">\n",
        "  <thead>\n",
        "    <tr style=\"text-align: right;\">\n",
        "      <th></th>\n",
        "      <th>beer_reviews/</th>\n",
        "      <th>brewery_name</th>\n",
        "      <th>review_time</th>\n",
        "      <th>review_overall</th>\n",
        "      <th>review_aroma</th>\n",
        "      <th>review_appearance</th>\n",
        "      <th>review_profilename</th>\n",
        "      <th>beer_style</th>\n",
        "      <th>review_palate</th>\n",
        "      <th>review_taste</th>\n",
        "      <th>beer_name</th>\n",
        "      <th>beer_abv</th>\n",
        "      <th>beer_beerid</th>\n",
        "    </tr>\n",
        "  </thead>\n",
        "  <tbody>\n",
        "    <tr>\n",
        "      <th>0</th>\n",
        "      <td> 10325</td>\n",
        "      <td>         Vecchio Birraio</td>\n",
        "      <td> 1234817823</td>\n",
        "      <td> 1.5</td>\n",
        "      <td> 2.0</td>\n",
        "      <td> 2.5</td>\n",
        "      <td>        stcules</td>\n",
        "      <td>                     Hefeweizen</td>\n",
        "      <td> 1.5</td>\n",
        "      <td> 1.5</td>\n",
        "      <td>           Sausa Weizen</td>\n",
        "      <td> 5.0</td>\n",
        "      <td> 47986</td>\n",
        "    </tr>\n",
        "    <tr>\n",
        "      <th>1</th>\n",
        "      <td> 10325</td>\n",
        "      <td>         Vecchio Birraio</td>\n",
        "      <td> 1235915097</td>\n",
        "      <td> 3.0</td>\n",
        "      <td> 2.5</td>\n",
        "      <td> 3.0</td>\n",
        "      <td>        stcules</td>\n",
        "      <td>             English Strong Ale</td>\n",
        "      <td> 3.0</td>\n",
        "      <td> 3.0</td>\n",
        "      <td>               Red Moon</td>\n",
        "      <td> 6.2</td>\n",
        "      <td> 48213</td>\n",
        "    </tr>\n",
        "    <tr>\n",
        "      <th>2</th>\n",
        "      <td> 10325</td>\n",
        "      <td>         Vecchio Birraio</td>\n",
        "      <td> 1235916604</td>\n",
        "      <td> 3.0</td>\n",
        "      <td> 2.5</td>\n",
        "      <td> 3.0</td>\n",
        "      <td>        stcules</td>\n",
        "      <td>         Foreign / Export Stout</td>\n",
        "      <td> 3.0</td>\n",
        "      <td> 3.0</td>\n",
        "      <td> Black Horse Black Beer</td>\n",
        "      <td> 6.5</td>\n",
        "      <td> 48215</td>\n",
        "    </tr>\n",
        "    <tr>\n",
        "      <th>3</th>\n",
        "      <td> 10325</td>\n",
        "      <td>         Vecchio Birraio</td>\n",
        "      <td> 1234725145</td>\n",
        "      <td> 3.0</td>\n",
        "      <td> 3.0</td>\n",
        "      <td> 3.5</td>\n",
        "      <td>        stcules</td>\n",
        "      <td>                German Pilsener</td>\n",
        "      <td> 2.5</td>\n",
        "      <td> 3.0</td>\n",
        "      <td>             Sausa Pils</td>\n",
        "      <td> 5.0</td>\n",
        "      <td> 47969</td>\n",
        "    </tr>\n",
        "    <tr>\n",
        "      <th>4</th>\n",
        "      <td>  1075</td>\n",
        "      <td> Caldera Brewing Company</td>\n",
        "      <td> 1293735206</td>\n",
        "      <td> 4.0</td>\n",
        "      <td> 4.5</td>\n",
        "      <td> 4.0</td>\n",
        "      <td> johnmichaelsen</td>\n",
        "      <td> American Double / Imperial IPA</td>\n",
        "      <td> 4.0</td>\n",
        "      <td> 4.5</td>\n",
        "      <td>          Cauldron DIPA</td>\n",
        "      <td> 7.7</td>\n",
        "      <td> 64883</td>\n",
        "    </tr>\n",
        "  </tbody>\n",
        "</table>\n",
        "</div>"
       ],
       "metadata": {},
       "output_type": "pyout",
       "prompt_number": 7,
       "text": [
        "  beer_reviews/             brewery_name  review_time  review_overall  \\\n",
        "0         10325          Vecchio Birraio   1234817823             1.5   \n",
        "1         10325          Vecchio Birraio   1235915097             3.0   \n",
        "2         10325          Vecchio Birraio   1235916604             3.0   \n",
        "3         10325          Vecchio Birraio   1234725145             3.0   \n",
        "4          1075  Caldera Brewing Company   1293735206             4.0   \n",
        "\n",
        "   review_aroma  review_appearance review_profilename  \\\n",
        "0           2.0                2.5            stcules   \n",
        "1           2.5                3.0            stcules   \n",
        "2           2.5                3.0            stcules   \n",
        "3           3.0                3.5            stcules   \n",
        "4           4.5                4.0     johnmichaelsen   \n",
        "\n",
        "                       beer_style  review_palate  review_taste  \\\n",
        "0                      Hefeweizen            1.5           1.5   \n",
        "1              English Strong Ale            3.0           3.0   \n",
        "2          Foreign / Export Stout            3.0           3.0   \n",
        "3                 German Pilsener            2.5           3.0   \n",
        "4  American Double / Imperial IPA            4.0           4.5   \n",
        "\n",
        "                beer_name  beer_abv  beer_beerid  \n",
        "0            Sausa Weizen       5.0        47986  \n",
        "1                Red Moon       6.2        48213  \n",
        "2  Black Horse Black Beer       6.5        48215  \n",
        "3              Sausa Pils       5.0        47969  \n",
        "4           Cauldron DIPA       7.7        64883  "
       ]
      }
     ],
     "prompt_number": 7
    },
    {
     "cell_type": "markdown",
     "metadata": {},
     "source": [
      "Let's restrict this to the top 250 beers. Use the value_counts() method select the top 250 beers.\n",
      "Assign the selected beers to a dataset called df"
     ]
    },
    {
     "cell_type": "code",
     "collapsed": false,
     "input": [
      "n = 250\n",
      "top_n = allbeers.beer_name.value_counts().index[:n]\n",
      "df = allbeers[allbeers.beer_name.isin(top_n)]\n",
      "df.head()"
     ],
     "language": "python",
     "metadata": {},
     "outputs": [
      {
       "html": [
        "<div style=\"max-height:1000px;max-width:1500px;overflow:auto;\">\n",
        "<table border=\"1\" class=\"dataframe\">\n",
        "  <thead>\n",
        "    <tr style=\"text-align: right;\">\n",
        "      <th></th>\n",
        "      <th>beer_reviews/</th>\n",
        "      <th>brewery_name</th>\n",
        "      <th>review_time</th>\n",
        "      <th>review_overall</th>\n",
        "      <th>review_aroma</th>\n",
        "      <th>review_appearance</th>\n",
        "      <th>review_profilename</th>\n",
        "      <th>beer_style</th>\n",
        "      <th>review_palate</th>\n",
        "      <th>review_taste</th>\n",
        "      <th>beer_name</th>\n",
        "      <th>beer_abv</th>\n",
        "      <th>beer_beerid</th>\n",
        "    </tr>\n",
        "  </thead>\n",
        "  <tbody>\n",
        "    <tr>\n",
        "      <th>798 </th>\n",
        "      <td>  1075</td>\n",
        "      <td> Caldera Brewing Company</td>\n",
        "      <td> 1212201268</td>\n",
        "      <td> 4.5</td>\n",
        "      <td> 4.5</td>\n",
        "      <td> 4</td>\n",
        "      <td>          grumpy</td>\n",
        "      <td> American Double / Imperial Stout</td>\n",
        "      <td> 4.0</td>\n",
        "      <td> 4.5</td>\n",
        "      <td> Imperial Stout</td>\n",
        "      <td> NaN</td>\n",
        "      <td> 42964</td>\n",
        "    </tr>\n",
        "    <tr>\n",
        "      <th>1559</th>\n",
        "      <td> 11715</td>\n",
        "      <td> Destiny Brewing Company</td>\n",
        "      <td> 1137124057</td>\n",
        "      <td> 4.0</td>\n",
        "      <td> 3.5</td>\n",
        "      <td> 4</td>\n",
        "      <td> blitheringidiot</td>\n",
        "      <td>          American Pale Ale (APA)</td>\n",
        "      <td> 3.5</td>\n",
        "      <td> 3.5</td>\n",
        "      <td>       Pale Ale</td>\n",
        "      <td> 4.5</td>\n",
        "      <td> 26420</td>\n",
        "    </tr>\n",
        "    <tr>\n",
        "      <th>1560</th>\n",
        "      <td> 11715</td>\n",
        "      <td> Destiny Brewing Company</td>\n",
        "      <td> 1129504403</td>\n",
        "      <td> 4.0</td>\n",
        "      <td> 2.5</td>\n",
        "      <td> 4</td>\n",
        "      <td>     NeroFiddled</td>\n",
        "      <td>          American Pale Ale (APA)</td>\n",
        "      <td> 4.0</td>\n",
        "      <td> 3.5</td>\n",
        "      <td>       Pale Ale</td>\n",
        "      <td> 4.5</td>\n",
        "      <td> 26420</td>\n",
        "    </tr>\n",
        "    <tr>\n",
        "      <th>1563</th>\n",
        "      <td> 11715</td>\n",
        "      <td> Destiny Brewing Company</td>\n",
        "      <td> 1137125989</td>\n",
        "      <td> 3.5</td>\n",
        "      <td> 3.0</td>\n",
        "      <td> 4</td>\n",
        "      <td> blitheringidiot</td>\n",
        "      <td>                     American IPA</td>\n",
        "      <td> 4.0</td>\n",
        "      <td> 4.0</td>\n",
        "      <td>            IPA</td>\n",
        "      <td> NaN</td>\n",
        "      <td> 26132</td>\n",
        "    </tr>\n",
        "    <tr>\n",
        "      <th>1564</th>\n",
        "      <td> 11715</td>\n",
        "      <td> Destiny Brewing Company</td>\n",
        "      <td> 1130936611</td>\n",
        "      <td> 3.0</td>\n",
        "      <td> 3.0</td>\n",
        "      <td> 3</td>\n",
        "      <td>          Gavage</td>\n",
        "      <td>                     American IPA</td>\n",
        "      <td> 4.0</td>\n",
        "      <td> 3.5</td>\n",
        "      <td>            IPA</td>\n",
        "      <td> NaN</td>\n",
        "      <td> 26132</td>\n",
        "    </tr>\n",
        "  </tbody>\n",
        "</table>\n",
        "</div>"
       ],
       "metadata": {},
       "output_type": "pyout",
       "prompt_number": 8,
       "text": [
        "     beer_reviews/             brewery_name  review_time  review_overall  \\\n",
        "798           1075  Caldera Brewing Company   1212201268             4.5   \n",
        "1559         11715  Destiny Brewing Company   1137124057             4.0   \n",
        "1560         11715  Destiny Brewing Company   1129504403             4.0   \n",
        "1563         11715  Destiny Brewing Company   1137125989             3.5   \n",
        "1564         11715  Destiny Brewing Company   1130936611             3.0   \n",
        "\n",
        "      review_aroma  review_appearance review_profilename  \\\n",
        "798            4.5                  4             grumpy   \n",
        "1559           3.5                  4    blitheringidiot   \n",
        "1560           2.5                  4        NeroFiddled   \n",
        "1563           3.0                  4    blitheringidiot   \n",
        "1564           3.0                  3             Gavage   \n",
        "\n",
        "                            beer_style  review_palate  review_taste  \\\n",
        "798   American Double / Imperial Stout            4.0           4.5   \n",
        "1559           American Pale Ale (APA)            3.5           3.5   \n",
        "1560           American Pale Ale (APA)            4.0           3.5   \n",
        "1563                      American IPA            4.0           4.0   \n",
        "1564                      American IPA            4.0           3.5   \n",
        "\n",
        "           beer_name  beer_abv  beer_beerid  \n",
        "798   Imperial Stout       NaN        42964  \n",
        "1559        Pale Ale       4.5        26420  \n",
        "1560        Pale Ale       4.5        26420  \n",
        "1563             IPA       NaN        26132  \n",
        "1564             IPA       NaN        26132  "
       ]
      }
     ],
     "prompt_number": 8
    },
    {
     "cell_type": "markdown",
     "metadata": {},
     "source": [
      "How big is this dataset?"
     ]
    },
    {
     "cell_type": "code",
     "collapsed": false,
     "input": [
      "df.info()"
     ],
     "language": "python",
     "metadata": {},
     "outputs": [
      {
       "output_type": "stream",
       "stream": "stdout",
       "text": [
        "<class 'pandas.core.frame.DataFrame'>\n",
        "Int64Index: 355275 entries, 798 to 1586564\n",
        "Data columns (total 13 columns):\n",
        "beer_reviews/         355275 non-null object\n",
        "brewery_name          355275 non-null object\n",
        "review_time           355275 non-null float64\n",
        "review_overall        355275 non-null float64\n",
        "review_aroma          355275 non-null float64\n",
        "review_appearance     355275 non-null float64\n",
        "review_profilename    355175 non-null object\n",
        "beer_style            355275 non-null object\n",
        "review_palate         355275 non-null float64\n",
        "review_taste          355275 non-null float64\n",
        "beer_name             355275 non-null object\n",
        "beer_abv              353477 non-null float64\n",
        "beer_beerid           355275 non-null float64\n",
        "dtypes: float64(8), object(5)"
       ]
      }
     ],
     "prompt_number": 9
    },
    {
     "cell_type": "markdown",
     "metadata": {},
     "source": [
      "### Pivot Table"
     ]
    },
    {
     "cell_type": "markdown",
     "metadata": {},
     "source": [
      "Aggregate the data in a pivot table using the pivot_table method. Display the mean review_overall for each beer_name aggregating the review_overall values by review_profilename. Use the mean as aggregator."
     ]
    },
    {
     "cell_type": "code",
     "collapsed": false,
     "input": [
      "df_wide = pd.pivot_table(df, values = [\"review_overall\"], index = [\"beer_name\", \"review_profilename\"], aggfunc = np.mean).unstack()\n",
      "df_wide.shape"
     ],
     "language": "python",
     "metadata": {},
     "outputs": [
      {
       "metadata": {},
       "output_type": "pyout",
       "prompt_number": 12,
       "text": [
        "(250, 22140)"
       ]
      }
     ],
     "prompt_number": 12
    },
    {
     "cell_type": "markdown",
     "metadata": {},
     "source": [
      "Display the head of the pivot table, but only for 5 users (columns are users)"
     ]
    },
    {
     "cell_type": "code",
     "collapsed": false,
     "input": [
      "df_wide.ix[0:5, 0:5]"
     ],
     "language": "python",
     "metadata": {},
     "outputs": [
      {
       "html": [
        "<div style=\"max-height:1000px;max-width:1500px;overflow:auto;\">\n",
        "<table border=\"1\" class=\"dataframe\">\n",
        "  <thead>\n",
        "    <tr>\n",
        "      <th></th>\n",
        "      <th colspan=\"5\" halign=\"left\">review_overall</th>\n",
        "    </tr>\n",
        "    <tr>\n",
        "      <th>review_profilename</th>\n",
        "      <th>0110x011</th>\n",
        "      <th>02maxima</th>\n",
        "      <th>03SVTCobra</th>\n",
        "      <th>05Harley</th>\n",
        "      <th>0Naught0</th>\n",
        "    </tr>\n",
        "    <tr>\n",
        "      <th>beer_name</th>\n",
        "      <th></th>\n",
        "      <th></th>\n",
        "      <th></th>\n",
        "      <th></th>\n",
        "      <th></th>\n",
        "    </tr>\n",
        "  </thead>\n",
        "  <tbody>\n",
        "    <tr>\n",
        "      <th>#9</th>\n",
        "      <td>NaN</td>\n",
        "      <td>NaN</td>\n",
        "      <td>NaN</td>\n",
        "      <td>NaN</td>\n",
        "      <td>NaN</td>\n",
        "    </tr>\n",
        "    <tr>\n",
        "      <th>120 Minute IPA</th>\n",
        "      <td>NaN</td>\n",
        "      <td>NaN</td>\n",
        "      <td>NaN</td>\n",
        "      <td>  4</td>\n",
        "      <td>NaN</td>\n",
        "    </tr>\n",
        "    <tr>\n",
        "      <th>1554 Enlightened Black Ale</th>\n",
        "      <td>NaN</td>\n",
        "      <td>NaN</td>\n",
        "      <td>NaN</td>\n",
        "      <td>NaN</td>\n",
        "      <td>NaN</td>\n",
        "    </tr>\n",
        "    <tr>\n",
        "      <th>60 Minute IPA</th>\n",
        "      <td>NaN</td>\n",
        "      <td>NaN</td>\n",
        "      <td>NaN</td>\n",
        "      <td>NaN</td>\n",
        "      <td>NaN</td>\n",
        "    </tr>\n",
        "    <tr>\n",
        "      <th>90 Minute IPA</th>\n",
        "      <td>  5</td>\n",
        "      <td>NaN</td>\n",
        "      <td>NaN</td>\n",
        "      <td>  4</td>\n",
        "      <td>NaN</td>\n",
        "    </tr>\n",
        "  </tbody>\n",
        "</table>\n",
        "</div>"
       ],
       "metadata": {},
       "output_type": "pyout",
       "prompt_number": 13,
       "text": [
        "                            review_overall                                  \\\n",
        "review_profilename                0110x011  02maxima  03SVTCobra  05Harley   \n",
        "beer_name                                                                    \n",
        "#9                                     NaN       NaN         NaN       NaN   \n",
        "120 Minute IPA                         NaN       NaN         NaN         4   \n",
        "1554 Enlightened Black Ale             NaN       NaN         NaN       NaN   \n",
        "60 Minute IPA                          NaN       NaN         NaN       NaN   \n",
        "90 Minute IPA                            5       NaN         NaN         4   \n",
        "\n",
        "                                      \n",
        "review_profilename          0Naught0  \n",
        "beer_name                             \n",
        "#9                               NaN  \n",
        "120 Minute IPA                   NaN  \n",
        "1554 Enlightened Black Ale       NaN  \n",
        "60 Minute IPA                    NaN  \n",
        "90 Minute IPA                    NaN  "
       ]
      }
     ],
     "prompt_number": 13
    },
    {
     "cell_type": "markdown",
     "metadata": {},
     "source": [
      "### Discussion: what do you notice in this table?"
     ]
    },
    {
     "cell_type": "markdown",
     "metadata": {},
     "source": [
      "#### Data munging\n",
      "Set Nans to zero"
     ]
    },
    {
     "cell_type": "code",
     "collapsed": false,
     "input": [
      "df_wide = df_wide.fillna(0)"
     ],
     "language": "python",
     "metadata": {},
     "outputs": [],
     "prompt_number": 14
    },
    {
     "cell_type": "markdown",
     "metadata": {},
     "source": [
      "Check that columns are users"
     ]
    },
    {
     "cell_type": "code",
     "collapsed": false,
     "input": [
      "df_wide.columns[:10]"
     ],
     "language": "python",
     "metadata": {},
     "outputs": [
      {
       "metadata": {},
       "output_type": "pyout",
       "prompt_number": 15,
       "text": [
        "MultiIndex(levels=[[u'review_overall'], [u'0110x011', u'02maxima', u'03SVTCobra', u'05Harley', u'0Naught0', u'0beerguy0', u'0runkp0s', u'0tt0', u'1000Bottles', u'1001111.0', u'100floods', u'100proof', u'1050Sudz', u'108Dragons', u'1099.0', u'1100.0', u'1121987.0', u'11millsown113', u'11osixBrew', u'11thFloorBrewing', u'1229design', u'12NattiBottles', u'12ouncecurls', u'12percent', u'12vUnion', u'130guy', u'13smurrf', u'160Shillings', u'1759Girl', u'1759dallas', u'17Guinness59', u'18alpha', u'196osh', u'1993Heel', u'1996StrokerKid', u'1Adam12', u'1MiltonWaddams', u'1PA', u'1after909', u'1brbn1sctch1beer', u'1fastz28', u'1morebeer', u'1noa', u'1quiks10', u'1santore', u'1thinmint', u'1whiskey', u'20ozmonkey', u'21mmer', u'220emaple', u'22ozStone', u'2369.0', u'2378GCGTG', u'23fyerfyter', u'2408bwk', u'245Trioxin', u'24Beer92', u'25santurce', u'28Rock', u'2BDChicago', u'2Cruzy', u'2DaMtns', u'2KHokie', u'2LBrew', u'2Shay', u'2Stout4u', u'2beerdogs', u'2cansam', u'2girls1hop', u'2heartedMIKE', u'2late2brew', u'2melow', u'2ndloveofmylife', u'2ndstage', u'2oose', u'2roosters', u'2stepZ', u'2wheeledpirate', u'2xHops', u'311kevin', u'31thadrty1', u'321jeff', u'322wingedfoot', u'32hoss32', u'33nickadams', u'3FaveryRogue', u'3HovsepiansBrews', u'3Vandoo', u'3dudesbeerblog', u'3frog', u'3leggeddub', u'3m3rson', u'3nlightenedfool', u'3rdRowTailgater', u'4000qtrap', u'404UGA', u'40oztofreedom89', u'420.0', u'44ouncer', u'454onbeerss', ...]],\n",
        "           labels=[[0, 0, 0, 0, 0, 0, 0, 0, 0, 0], [0, 1, 2, 3, 4, 5, 6, 7, 8, 9]],\n",
        "           names=[None, u'review_profilename'])"
       ]
      }
     ],
     "prompt_number": 15
    },
    {
     "cell_type": "markdown",
     "metadata": {},
     "source": [
      "Check that rows are beers"
     ]
    },
    {
     "cell_type": "code",
     "collapsed": false,
     "input": [
      "pd.Series(df_wide.index[:10])"
     ],
     "language": "python",
     "metadata": {},
     "outputs": [
      {
       "metadata": {},
       "output_type": "pyout",
       "prompt_number": 16,
       "text": [
        "0                                    #9\n",
        "1                        120 Minute IPA\n",
        "2            1554 Enlightened Black Ale\n",
        "3                         60 Minute IPA\n",
        "4                         90 Minute IPA\n",
        "5    Aecht Schlenkerla Rauchbier M\u00e4rzen\n",
        "6                          AleSmith IPA\n",
        "7               AleSmith Speedway Stout\n",
        "8                        Allagash White\n",
        "9                   Alpha King Pale Ale\n",
        "Name: beer_name, dtype: object"
       ]
      }
     ],
     "prompt_number": 16
    },
    {
     "cell_type": "markdown",
     "metadata": {},
     "source": [
      "### Calculate distance between beers\n",
      "\n",
      "We're going to use cosine_similarity from scikit-learn to compute the distance between all beers"
     ]
    },
    {
     "cell_type": "markdown",
     "metadata": {},
     "source": [
      "Imports"
     ]
    },
    {
     "cell_type": "code",
     "collapsed": false,
     "input": [
      "from sklearn.metrics.pairwise import cosine_similarity\n",
      "from sklearn.metrics.pairwise import manhattan_distances\n",
      "from sklearn.metrics.pairwise import euclidean_distances"
     ],
     "language": "python",
     "metadata": {},
     "outputs": [],
     "prompt_number": 17
    },
    {
     "cell_type": "markdown",
     "metadata": {},
     "source": [
      "Apply cosine similarity to df_wide to calculate pairwise distances"
     ]
    },
    {
     "cell_type": "code",
     "collapsed": false,
     "input": [
      "dists = cosine_similarity(df_wide)\n",
      "dists.shape"
     ],
     "language": "python",
     "metadata": {},
     "outputs": [
      {
       "metadata": {},
       "output_type": "pyout",
       "prompt_number": 22,
       "text": [
        "(250, 250)"
       ]
      }
     ],
     "prompt_number": 22
    },
    {
     "cell_type": "markdown",
     "metadata": {},
     "source": [
      "### Discussion: what type of object is dists?"
     ]
    },
    {
     "cell_type": "markdown",
     "metadata": {},
     "source": [
      "Convert dists to a Pandas DataFrame, use the index as column index as well (distances are a square matrix)."
     ]
    },
    {
     "cell_type": "code",
     "collapsed": false,
     "input": [
      "dists = pd.DataFrame(dists, columns = df_wide.index, index = df_wide.index)\n",
      "\n",
      "#dists.index = dists.columns\n",
      "dists.ix[0:10, 0:10]"
     ],
     "language": "python",
     "metadata": {},
     "outputs": [
      {
       "html": [
        "<div style=\"max-height:1000px;max-width:1500px;overflow:auto;\">\n",
        "<table border=\"1\" class=\"dataframe\">\n",
        "  <thead>\n",
        "    <tr style=\"text-align: right;\">\n",
        "      <th>beer_name</th>\n",
        "      <th>#9</th>\n",
        "      <th>120 Minute IPA</th>\n",
        "      <th>1554 Enlightened Black Ale</th>\n",
        "      <th>60 Minute IPA</th>\n",
        "      <th>90 Minute IPA</th>\n",
        "      <th>Aecht Schlenkerla Rauchbier M\u00e4rzen</th>\n",
        "      <th>AleSmith IPA</th>\n",
        "      <th>AleSmith Speedway Stout</th>\n",
        "      <th>Allagash White</th>\n",
        "      <th>Alpha King Pale Ale</th>\n",
        "    </tr>\n",
        "    <tr>\n",
        "      <th>beer_name</th>\n",
        "      <th></th>\n",
        "      <th></th>\n",
        "      <th></th>\n",
        "      <th></th>\n",
        "      <th></th>\n",
        "      <th></th>\n",
        "      <th></th>\n",
        "      <th></th>\n",
        "      <th></th>\n",
        "      <th></th>\n",
        "    </tr>\n",
        "  </thead>\n",
        "  <tbody>\n",
        "    <tr>\n",
        "      <th>#9</th>\n",
        "      <td> 1.000000</td>\n",
        "      <td> 0.275405</td>\n",
        "      <td> 0.274103</td>\n",
        "      <td> 0.388364</td>\n",
        "      <td> 0.365175</td>\n",
        "      <td> 0.253841</td>\n",
        "      <td> 0.228479</td>\n",
        "      <td> 0.227612</td>\n",
        "      <td> 0.340681</td>\n",
        "      <td> 0.293315</td>\n",
        "    </tr>\n",
        "    <tr>\n",
        "      <th>120 Minute IPA</th>\n",
        "      <td> 0.275405</td>\n",
        "      <td> 1.000000</td>\n",
        "      <td> 0.251519</td>\n",
        "      <td> 0.378258</td>\n",
        "      <td> 0.410366</td>\n",
        "      <td> 0.262425</td>\n",
        "      <td> 0.315971</td>\n",
        "      <td> 0.337541</td>\n",
        "      <td> 0.282273</td>\n",
        "      <td> 0.336796</td>\n",
        "    </tr>\n",
        "    <tr>\n",
        "      <th>1554 Enlightened Black Ale</th>\n",
        "      <td> 0.274103</td>\n",
        "      <td> 0.251519</td>\n",
        "      <td> 1.000000</td>\n",
        "      <td> 0.319887</td>\n",
        "      <td> 0.314028</td>\n",
        "      <td> 0.252486</td>\n",
        "      <td> 0.266866</td>\n",
        "      <td> 0.261761</td>\n",
        "      <td> 0.260275</td>\n",
        "      <td> 0.307296</td>\n",
        "    </tr>\n",
        "    <tr>\n",
        "      <th>60 Minute IPA</th>\n",
        "      <td> 0.388364</td>\n",
        "      <td> 0.378258</td>\n",
        "      <td> 0.319887</td>\n",
        "      <td> 1.000000</td>\n",
        "      <td> 0.533042</td>\n",
        "      <td> 0.316928</td>\n",
        "      <td> 0.312343</td>\n",
        "      <td> 0.307627</td>\n",
        "      <td> 0.360975</td>\n",
        "      <td> 0.385249</td>\n",
        "    </tr>\n",
        "    <tr>\n",
        "      <th>90 Minute IPA</th>\n",
        "      <td> 0.365175</td>\n",
        "      <td> 0.410366</td>\n",
        "      <td> 0.314028</td>\n",
        "      <td> 0.533042</td>\n",
        "      <td> 1.000000</td>\n",
        "      <td> 0.312861</td>\n",
        "      <td> 0.344218</td>\n",
        "      <td> 0.358754</td>\n",
        "      <td> 0.356804</td>\n",
        "      <td> 0.418582</td>\n",
        "    </tr>\n",
        "    <tr>\n",
        "      <th>Aecht Schlenkerla Rauchbier M\u00e4rzen</th>\n",
        "      <td> 0.253841</td>\n",
        "      <td> 0.262425</td>\n",
        "      <td> 0.252486</td>\n",
        "      <td> 0.316928</td>\n",
        "      <td> 0.312861</td>\n",
        "      <td> 1.000000</td>\n",
        "      <td> 0.244490</td>\n",
        "      <td> 0.246063</td>\n",
        "      <td> 0.297672</td>\n",
        "      <td> 0.263248</td>\n",
        "    </tr>\n",
        "    <tr>\n",
        "      <th>AleSmith IPA</th>\n",
        "      <td> 0.228479</td>\n",
        "      <td> 0.315971</td>\n",
        "      <td> 0.266866</td>\n",
        "      <td> 0.312343</td>\n",
        "      <td> 0.344218</td>\n",
        "      <td> 0.244490</td>\n",
        "      <td> 1.000000</td>\n",
        "      <td> 0.521889</td>\n",
        "      <td> 0.277409</td>\n",
        "      <td> 0.400741</td>\n",
        "    </tr>\n",
        "    <tr>\n",
        "      <th>AleSmith Speedway Stout</th>\n",
        "      <td> 0.227612</td>\n",
        "      <td> 0.337541</td>\n",
        "      <td> 0.261761</td>\n",
        "      <td> 0.307627</td>\n",
        "      <td> 0.358754</td>\n",
        "      <td> 0.246063</td>\n",
        "      <td> 0.521889</td>\n",
        "      <td> 1.000000</td>\n",
        "      <td> 0.273930</td>\n",
        "      <td> 0.420247</td>\n",
        "    </tr>\n",
        "    <tr>\n",
        "      <th>Allagash White</th>\n",
        "      <td> 0.340681</td>\n",
        "      <td> 0.282273</td>\n",
        "      <td> 0.260275</td>\n",
        "      <td> 0.360975</td>\n",
        "      <td> 0.356804</td>\n",
        "      <td> 0.297672</td>\n",
        "      <td> 0.277409</td>\n",
        "      <td> 0.273930</td>\n",
        "      <td> 1.000000</td>\n",
        "      <td> 0.295666</td>\n",
        "    </tr>\n",
        "    <tr>\n",
        "      <th>Alpha King Pale Ale</th>\n",
        "      <td> 0.293315</td>\n",
        "      <td> 0.336796</td>\n",
        "      <td> 0.307296</td>\n",
        "      <td> 0.385249</td>\n",
        "      <td> 0.418582</td>\n",
        "      <td> 0.263248</td>\n",
        "      <td> 0.400741</td>\n",
        "      <td> 0.420247</td>\n",
        "      <td> 0.295666</td>\n",
        "      <td> 1.000000</td>\n",
        "    </tr>\n",
        "  </tbody>\n",
        "</table>\n",
        "</div>"
       ],
       "metadata": {},
       "output_type": "pyout",
       "prompt_number": 23,
       "text": [
        "beer_name                                 #9  120 Minute IPA  \\\n",
        "beer_name                                                      \n",
        "#9                                  1.000000        0.275405   \n",
        "120 Minute IPA                      0.275405        1.000000   \n",
        "1554 Enlightened Black Ale          0.274103        0.251519   \n",
        "60 Minute IPA                       0.388364        0.378258   \n",
        "90 Minute IPA                       0.365175        0.410366   \n",
        "Aecht Schlenkerla Rauchbier M\u00e4rzen  0.253841        0.262425   \n",
        "AleSmith IPA                        0.228479        0.315971   \n",
        "AleSmith Speedway Stout             0.227612        0.337541   \n",
        "Allagash White                      0.340681        0.282273   \n",
        "Alpha King Pale Ale                 0.293315        0.336796   \n",
        "\n",
        "beer_name                           1554 Enlightened Black Ale  60 Minute IPA  \\\n",
        "beer_name                                                                       \n",
        "#9                                                    0.274103       0.388364   \n",
        "120 Minute IPA                                        0.251519       0.378258   \n",
        "1554 Enlightened Black Ale                            1.000000       0.319887   \n",
        "60 Minute IPA                                         0.319887       1.000000   \n",
        "90 Minute IPA                                         0.314028       0.533042   \n",
        "Aecht Schlenkerla Rauchbier M\u00e4rzen                    0.252486       0.316928   \n",
        "AleSmith IPA                                          0.266866       0.312343   \n",
        "AleSmith Speedway Stout                               0.261761       0.307627   \n",
        "Allagash White                                        0.260275       0.360975   \n",
        "Alpha King Pale Ale                                   0.307296       0.385249   \n",
        "\n",
        "beer_name                           90 Minute IPA  \\\n",
        "beer_name                                           \n",
        "#9                                       0.365175   \n",
        "120 Minute IPA                           0.410366   \n",
        "1554 Enlightened Black Ale               0.314028   \n",
        "60 Minute IPA                            0.533042   \n",
        "90 Minute IPA                            1.000000   \n",
        "Aecht Schlenkerla Rauchbier M\u00e4rzen       0.312861   \n",
        "AleSmith IPA                             0.344218   \n",
        "AleSmith Speedway Stout                  0.358754   \n",
        "Allagash White                           0.356804   \n",
        "Alpha King Pale Ale                      0.418582   \n",
        "\n",
        "beer_name                           Aecht Schlenkerla Rauchbier M\u00e4rzen  \\\n",
        "beer_name                                                                \n",
        "#9                                                            0.253841   \n",
        "120 Minute IPA                                                0.262425   \n",
        "1554 Enlightened Black Ale                                    0.252486   \n",
        "60 Minute IPA                                                 0.316928   \n",
        "90 Minute IPA                                                 0.312861   \n",
        "Aecht Schlenkerla Rauchbier M\u00e4rzen                            1.000000   \n",
        "AleSmith IPA                                                  0.244490   \n",
        "AleSmith Speedway Stout                                       0.246063   \n",
        "Allagash White                                                0.297672   \n",
        "Alpha King Pale Ale                                           0.263248   \n",
        "\n",
        "beer_name                           AleSmith IPA  AleSmith Speedway Stout  \\\n",
        "beer_name                                                                   \n",
        "#9                                      0.228479                 0.227612   \n",
        "120 Minute IPA                          0.315971                 0.337541   \n",
        "1554 Enlightened Black Ale              0.266866                 0.261761   \n",
        "60 Minute IPA                           0.312343                 0.307627   \n",
        "90 Minute IPA                           0.344218                 0.358754   \n",
        "Aecht Schlenkerla Rauchbier M\u00e4rzen      0.244490                 0.246063   \n",
        "AleSmith IPA                            1.000000                 0.521889   \n",
        "AleSmith Speedway Stout                 0.521889                 1.000000   \n",
        "Allagash White                          0.277409                 0.273930   \n",
        "Alpha King Pale Ale                     0.400741                 0.420247   \n",
        "\n",
        "beer_name                           Allagash White  Alpha King Pale Ale  \n",
        "beer_name                                                                \n",
        "#9                                        0.340681             0.293315  \n",
        "120 Minute IPA                            0.282273             0.336796  \n",
        "1554 Enlightened Black Ale                0.260275             0.307296  \n",
        "60 Minute IPA                             0.360975             0.385249  \n",
        "90 Minute IPA                             0.356804             0.418582  \n",
        "Aecht Schlenkerla Rauchbier M\u00e4rzen        0.297672             0.263248  \n",
        "AleSmith IPA                              0.277409             0.400741  \n",
        "AleSmith Speedway Stout                   0.273930             0.420247  \n",
        "Allagash White                            1.000000             0.295666  \n",
        "Alpha King Pale Ale                       0.295666             1.000000  "
       ]
      }
     ],
     "prompt_number": 23
    },
    {
     "cell_type": "markdown",
     "metadata": {},
     "source": [
      "Select some beers and look their distances to other beers"
     ]
    },
    {
     "cell_type": "code",
     "collapsed": false,
     "input": [
      "beers_i_like = ['Sierra Nevada Pale Ale', '120 Minute IPA', 'Lagunitas IPA', 'Allagash White']\n",
      "dists[beers_i_like].head()"
     ],
     "language": "python",
     "metadata": {},
     "outputs": [
      {
       "html": [
        "<div style=\"max-height:1000px;max-width:1500px;overflow:auto;\">\n",
        "<table border=\"1\" class=\"dataframe\">\n",
        "  <thead>\n",
        "    <tr style=\"text-align: right;\">\n",
        "      <th>beer_name</th>\n",
        "      <th>Sierra Nevada Pale Ale</th>\n",
        "      <th>120 Minute IPA</th>\n",
        "      <th>Lagunitas IPA</th>\n",
        "      <th>Allagash White</th>\n",
        "    </tr>\n",
        "    <tr>\n",
        "      <th>beer_name</th>\n",
        "      <th></th>\n",
        "      <th></th>\n",
        "      <th></th>\n",
        "      <th></th>\n",
        "    </tr>\n",
        "  </thead>\n",
        "  <tbody>\n",
        "    <tr>\n",
        "      <th>#9</th>\n",
        "      <td> 0.373968</td>\n",
        "      <td> 0.275405</td>\n",
        "      <td> 0.266500</td>\n",
        "      <td> 0.340681</td>\n",
        "    </tr>\n",
        "    <tr>\n",
        "      <th>120 Minute IPA</th>\n",
        "      <td> 0.301693</td>\n",
        "      <td> 1.000000</td>\n",
        "      <td> 0.269256</td>\n",
        "      <td> 0.282273</td>\n",
        "    </tr>\n",
        "    <tr>\n",
        "      <th>1554 Enlightened Black Ale</th>\n",
        "      <td> 0.330033</td>\n",
        "      <td> 0.251519</td>\n",
        "      <td> 0.309986</td>\n",
        "      <td> 0.260275</td>\n",
        "    </tr>\n",
        "    <tr>\n",
        "      <th>60 Minute IPA</th>\n",
        "      <td> 0.459641</td>\n",
        "      <td> 0.378258</td>\n",
        "      <td> 0.383417</td>\n",
        "      <td> 0.360975</td>\n",
        "    </tr>\n",
        "    <tr>\n",
        "      <th>90 Minute IPA</th>\n",
        "      <td> 0.441189</td>\n",
        "      <td> 0.410366</td>\n",
        "      <td> 0.376069</td>\n",
        "      <td> 0.356804</td>\n",
        "    </tr>\n",
        "  </tbody>\n",
        "</table>\n",
        "</div>"
       ],
       "metadata": {},
       "output_type": "pyout",
       "prompt_number": 24,
       "text": [
        "beer_name                   Sierra Nevada Pale Ale  120 Minute IPA  \\\n",
        "beer_name                                                            \n",
        "#9                                        0.373968        0.275405   \n",
        "120 Minute IPA                            0.301693        1.000000   \n",
        "1554 Enlightened Black Ale                0.330033        0.251519   \n",
        "60 Minute IPA                             0.459641        0.378258   \n",
        "90 Minute IPA                             0.441189        0.410366   \n",
        "\n",
        "beer_name                   Lagunitas IPA  Allagash White  \n",
        "beer_name                                                  \n",
        "#9                               0.266500        0.340681  \n",
        "120 Minute IPA                   0.269256        0.282273  \n",
        "1554 Enlightened Black Ale       0.309986        0.260275  \n",
        "60 Minute IPA                    0.383417        0.360975  \n",
        "90 Minute IPA                    0.376069        0.356804  "
       ]
      }
     ],
     "prompt_number": 24
    },
    {
     "cell_type": "markdown",
     "metadata": {},
     "source": [
      "Sum the distances of my favourite beers by row, to have one distance from each beer in the sample"
     ]
    },
    {
     "cell_type": "code",
     "collapsed": false,
     "input": [
      "beers_summed = dists[beers_i_like].apply(lambda row: np.sum(row), axis = 1)\n",
      "#beers_summed = np.sum(dists[beers_i_like], axis = 1)"
     ],
     "language": "python",
     "metadata": {},
     "outputs": [],
     "prompt_number": 26
    },
    {
     "cell_type": "markdown",
     "metadata": {},
     "source": [
      "#### Performance"
     ]
    },
    {
     "cell_type": "markdown",
     "metadata": {},
     "source": [
      "Optional: which one is faster? use ```%timeit``` to check"
     ]
    },
    {
     "cell_type": "code",
     "collapsed": false,
     "input": [
      "%timeit beers_summed = dists[beers_i_like].apply(lambda row: np.sum(row), axis = 1)"
     ],
     "language": "python",
     "metadata": {},
     "outputs": [
      {
       "output_type": "stream",
       "stream": "stdout",
       "text": [
        "100 loops, best of 3: 14.6 ms per loop\n"
       ]
      }
     ],
     "prompt_number": 27
    },
    {
     "cell_type": "code",
     "collapsed": false,
     "input": [],
     "language": "python",
     "metadata": {},
     "outputs": []
    },
    {
     "cell_type": "markdown",
     "metadata": {},
     "source": [
      "#### Ranking"
     ]
    },
    {
<<<<<<< HEAD
     "cell_type": "code",
     "collapsed": false,
     "input": [
      "%timeit beers_summed = np.sum(dists[beers_i_like], axis = 1)"
     ],
     "language": "python",
     "metadata": {},
     "outputs": [
      {
       "output_type": "stream",
       "stream": "stdout",
       "text": [
        "1000 loops, best of 3: 507 \u00b5s per loop\n"
       ]
      }
     ],
     "prompt_number": 30
    },
    {
     "cell_type": "code",
     "collapsed": false,
     "input": [
      "%timeit dists[beers_i_like].sum(axis=1)"
     ],
     "language": "python",
     "metadata": {},
     "outputs": [
      {
       "output_type": "stream",
       "stream": "stdout",
       "text": [
        "1000 loops, best of 3: 497 \u00b5s per loop\n"
       ]
      }
     ],
     "prompt_number": 31
=======
     "cell_type": "markdown",
     "metadata": {},
     "source": [
      "Sort summed beers from best to worse"
     ]
>>>>>>> instructor/master
    },
    {
     "cell_type": "code",
     "collapsed": false,
     "input": [],
     "language": "python",
     "metadata": {},
     "outputs": [
      {
       "metadata": {},
       "output_type": "pyout",
       "prompt_number": 29,
       "text": [
        "beer_name\n",
        "Sierra Nevada Pale Ale                        2.007172\n",
        "Allagash White                                1.930195\n",
        "Lagunitas IPA                                 1.917634\n",
        "120 Minute IPA                                1.853222\n",
        "HopDevil Ale                                  1.608584\n",
        "Sierra Nevada Celebration Ale                 1.600733\n",
        "Stone IPA (India Pale Ale)                    1.599425\n",
        "90 Minute IPA                                 1.584428\n",
        "Stone Ruination IPA                           1.582338\n",
        "60 Minute IPA                                 1.582291\n",
        "Arrogant Bastard Ale                          1.554436\n",
        "Storm King Stout                              1.546928\n",
        "Prima Pils                                    1.538378\n",
        "Sierra Nevada Bigfoot Barleywine Style Ale    1.537370\n",
        "Hop Rod Rye                                   1.526885\n",
        "...\n",
        "Pabst Blue Ribbon (PBR)                     0.998152\n",
        "Supplication                                0.997084\n",
        "New Holland Dragon's Milk Oak Barrel Ale    0.987673\n",
        "Hobgoblin                                   0.987305\n",
        "Budweiser                                   0.985397\n",
        "Shiner Bock                                 0.982459\n",
        "Terrapin Coffee Oatmeal Imperial Stout      0.982172\n",
        "The Abyss                                   0.957559\n",
        "Miller Lite                                 0.928842\n",
        "Leinenkugel's Sunset Wheat                  0.921990\n",
        "Bud Light                                   0.919501\n",
        "Corona Extra                                0.888863\n",
        "Miller High Life                            0.886910\n",
        "Vanilla Porter                              0.865797\n",
        "Coors Light                                 0.861536\n",
        "Length: 250, dtype: float64"
       ]
      }
     ],
     "prompt_number": 29
    },
    {
     "cell_type": "markdown",
     "metadata": {},
     "source": [
      "Filter out the beers used as input and transform to list"
     ]
    },
    {
     "cell_type": "code",
     "collapsed": false,
     "input": [],
     "language": "python",
     "metadata": {},
     "outputs": [
      {
       "metadata": {},
       "output_type": "pyout",
       "prompt_number": 32,
       "text": [
        "['HopDevil Ale',\n",
        " 'Sierra Nevada Celebration Ale',\n",
        " 'Stone IPA (India Pale Ale)',\n",
        " '90 Minute IPA',\n",
        " 'Stone Ruination IPA']"
       ]
      }
     ],
     "prompt_number": 32
    },
    {
     "cell_type": "markdown",
     "metadata": {},
     "source": [
      "Define a function that does what we just did for an arbitrary input list of beers. it should also receive the maximum number of beers requested n as optional parameter."
     ]
    },
    {
     "cell_type": "code",
     "collapsed": false,
     "input": [
      "def get_similar(beers, n=None):\n",
      "    beers = [beer for beer in beers if beer in dists.columns]\n",
      "    beers_summed = dists[beers].apply(lambda row: np.sum(row), axis = 1)\n",
      "    beers_summed = beers_summed.order(ascending = False)\n",
      "    ranked_beers = beers_summed.index[beers_summed.index.isin(beers) == False]\n",
      "    ranked_beers = ranked_beers.tolist()\n",
      "    if n is None:\n",
      "        return ranked_beers\n",
      "    else:\n",
      "        return ranked_beers[:n]"
     ],
     "language": "python",
     "metadata": {},
     "outputs": [],
     "prompt_number": 33
    },
    {
     "cell_type": "markdown",
     "metadata": {},
     "source": [
      "Test your function. Find the 10 beers most similar to \"120 Minute IPA\""
     ]
    },
    {
     "cell_type": "code",
     "collapsed": false,
     "input": [],
     "language": "python",
     "metadata": {},
     "outputs": [
      {
       "output_type": "stream",
       "stream": "stdout",
       "text": [
        "World Wide Stout\n",
        "90 Minute IPA\n",
        "Double Bastard Ale\n",
        "Stone Ruination IPA\n",
        "Stone Imperial Russian Stout\n",
        "Storm King Stout\n",
        "60 Minute IPA\n",
        "Oaked Arrogant Bastard Ale\n",
        "Sierra Nevada Bigfoot Barleywine Style Ale\n",
        "Brooklyn Black Chocolate Stout\n"
       ]
      }
     ],
     "prompt_number": 36
    },
    {
     "cell_type": "code",
     "collapsed": false,
     "input": [
      "for beer in get_similar([\"Hobgoblin\"], 10):\n",
      "    print beer"
     ],
     "language": "python",
     "metadata": {},
     "outputs": [
      {
       "output_type": "stream",
       "stream": "stdout",
       "text": [
        "Fuller's London Porter\n",
        "Fuller's ESB\n",
        "Anchor Liberty Ale\n",
        "Samuel Smith's Nut Brown Ale\n",
        "Fuller's London Pride\n",
        "Young's Double Chocolate Stout\n",
        "Samuel Smith's Winter Welcome Ale\n",
        "Anchor Steam Beer\n",
        "Samuel Smith's Imperial Stout\n",
        "Samuel Smith's, The Famous Taddy Porter\n"
       ]
      }
     ],
     "prompt_number": 39
    },
    {
     "cell_type": "markdown",
     "metadata": {},
     "source": [
      "Cool, let's try again with the 10 beers most similar to [\"Coors Light\", \"Bud Light\", \"Amstel Light\"]"
     ]
    },
    {
     "cell_type": "code",
     "collapsed": false,
     "input": [],
     "language": "python",
     "metadata": {},
     "outputs": [
      {
       "output_type": "stream",
       "stream": "stdout",
       "text": [
        "1) Miller Lite\n",
        "2) Budweiser\n",
        "3) Corona Extra\n",
        "4) Samuel Adams Boston Lager\n",
        "5) Heineken Lager Beer\n",
        "6) Blue Moon Belgian White\n",
        "7) Guinness Draught\n",
        "8) Miller High Life\n",
        "9) Samuel Adams Summer Ale\n",
        "10) Sierra Nevada Pale Ale\n"
       ]
      }
     ],
     "prompt_number": 38
    },
    {
     "cell_type": "markdown",
     "metadata": {},
     "source": [
      "Optional: register an account on yhat and deploy your model following the instructions [here](https://docs.yhathq.com/python/examples/beer-recommender) and [here](http://nbviewer.ipython.org/gist/glamp/20a18d52c539b87de2af)"
     ]
    },
    {
     "cell_type": "markdown",
     "metadata": {},
     "source": [
      "## Recsys\n",
      "\n",
      "A python library for implementing a recommender system"
     ]
    },
    {
     "cell_type": "code",
     "collapsed": false,
     "input": [
      "\"\"\"\n",
      "##install python-recsys\n",
      "\n",
      "### first install dependencies\n",
      "\n",
      "pip install csc-pysparse networkx divisi2\n",
      "\n",
      "### then install recsys\n",
      "git clone https://github.com/python-recsys/python-recsys.git\n",
      "cd python-recsys/\n",
      "\n",
      "python setup.py install\n",
      "\"\"\""
     ],
     "language": "python",
     "metadata": {},
     "outputs": []
    },
    {
     "cell_type": "markdown",
     "metadata": {},
     "source": [
      "Load recsys.algotihm, set VERBOSE = True import SVD class"
     ]
    },
    {
     "cell_type": "code",
     "collapsed": false,
     "input": [
      "import recsys.algorithm\n",
      "recsys.algorithm.VERBOSE = True\n",
      "from recsys.algorithm.factorize import SVD"
     ],
     "language": "python",
     "metadata": {},
     "outputs": [],
     "prompt_number": 1
    },
    {
     "cell_type": "markdown",
     "metadata": {},
     "source": [
      "Let's look at the files"
     ]
    },
    {
     "cell_type": "code",
     "collapsed": false,
     "input": [
      "! ls movielens"
     ],
     "language": "python",
     "metadata": {},
     "outputs": [
      {
       "output_type": "stream",
       "stream": "stdout",
       "text": [
        "README      movies.dat  ratings.dat users.dat\r\n"
       ]
      }
     ],
     "prompt_number": 2
    },
    {
     "cell_type": "markdown",
     "metadata": {},
     "source": [
      "Import 'movies.dat' to a 'movies' pandas dataframe. Make sure you name the columns, use the correct separator and define the index."
     ]
    },
    {
     "cell_type": "code",
     "collapsed": false,
     "input": [],
     "language": "python",
     "metadata": {},
     "outputs": [],
     "prompt_number": 7
    },
    {
     "cell_type": "code",
     "collapsed": false,
     "input": [
      "movies.head()"
     ],
     "language": "python",
     "metadata": {},
     "outputs": [
      {
       "html": [
        "<div style=\"max-height:1000px;max-width:1500px;overflow:auto;\">\n",
        "<table border=\"1\" class=\"dataframe\">\n",
        "  <thead>\n",
        "    <tr style=\"text-align: right;\">\n",
        "      <th></th>\n",
        "      <th>Title</th>\n",
        "      <th>Genres</th>\n",
        "    </tr>\n",
        "    <tr>\n",
        "      <th>ITEMID</th>\n",
        "      <th></th>\n",
        "      <th></th>\n",
        "    </tr>\n",
        "  </thead>\n",
        "  <tbody>\n",
        "    <tr>\n",
        "      <th>1</th>\n",
        "      <td>                   Toy Story (1995)</td>\n",
        "      <td>  Animation|Children's|Comedy</td>\n",
        "    </tr>\n",
        "    <tr>\n",
        "      <th>2</th>\n",
        "      <td>                     Jumanji (1995)</td>\n",
        "      <td> Adventure|Children's|Fantasy</td>\n",
        "    </tr>\n",
        "    <tr>\n",
        "      <th>3</th>\n",
        "      <td>            Grumpier Old Men (1995)</td>\n",
        "      <td>               Comedy|Romance</td>\n",
        "    </tr>\n",
        "    <tr>\n",
        "      <th>4</th>\n",
        "      <td>           Waiting to Exhale (1995)</td>\n",
        "      <td>                 Comedy|Drama</td>\n",
        "    </tr>\n",
        "    <tr>\n",
        "      <th>5</th>\n",
        "      <td> Father of the Bride Part II (1995)</td>\n",
        "      <td>                       Comedy</td>\n",
        "    </tr>\n",
        "  </tbody>\n",
        "</table>\n",
        "</div>"
       ],
       "metadata": {},
       "output_type": "pyout",
       "prompt_number": 6,
       "text": [
        "                                     Title                        Genres\n",
        "ITEMID                                                                  \n",
        "1                         Toy Story (1995)   Animation|Children's|Comedy\n",
        "2                           Jumanji (1995)  Adventure|Children's|Fantasy\n",
        "3                  Grumpier Old Men (1995)                Comedy|Romance\n",
        "4                 Waiting to Exhale (1995)                  Comedy|Drama\n",
        "5       Father of the Bride Part II (1995)                        Comedy"
       ]
      }
     ],
     "prompt_number": 6
    },
    {
     "cell_type": "markdown",
     "metadata": {},
     "source": [
      "Import 'ratings.dat' to a 'ratings' pandas dataframe. Make sure you name the columns, use the correct separator."
     ]
    },
    {
     "cell_type": "code",
     "collapsed": false,
     "input": [],
     "language": "python",
     "metadata": {},
     "outputs": [],
     "prompt_number": 8
    },
    {
     "cell_type": "code",
     "collapsed": false,
     "input": [
      "ratings.head()"
     ],
     "language": "python",
     "metadata": {},
     "outputs": [
      {
       "html": [
        "<div style=\"max-height:1000px;max-width:1500px;overflow:auto;\">\n",
        "<table border=\"1\" class=\"dataframe\">\n",
        "  <thead>\n",
        "    <tr style=\"text-align: right;\">\n",
        "      <th></th>\n",
        "      <th>UserID</th>\n",
        "      <th>MovieID</th>\n",
        "      <th>Rating</th>\n",
        "      <th>Timestamp</th>\n",
        "    </tr>\n",
        "  </thead>\n",
        "  <tbody>\n",
        "    <tr>\n",
        "      <th>0</th>\n",
        "      <td> 1</td>\n",
        "      <td> 1193</td>\n",
        "      <td> 5</td>\n",
        "      <td> 978300760</td>\n",
        "    </tr>\n",
        "    <tr>\n",
        "      <th>1</th>\n",
        "      <td> 1</td>\n",
        "      <td>  661</td>\n",
        "      <td> 3</td>\n",
        "      <td> 978302109</td>\n",
        "    </tr>\n",
        "    <tr>\n",
        "      <th>2</th>\n",
        "      <td> 1</td>\n",
        "      <td>  914</td>\n",
        "      <td> 3</td>\n",
        "      <td> 978301968</td>\n",
        "    </tr>\n",
        "    <tr>\n",
        "      <th>3</th>\n",
        "      <td> 1</td>\n",
        "      <td> 3408</td>\n",
        "      <td> 4</td>\n",
        "      <td> 978300275</td>\n",
        "    </tr>\n",
        "    <tr>\n",
        "      <th>4</th>\n",
        "      <td> 1</td>\n",
        "      <td> 2355</td>\n",
        "      <td> 5</td>\n",
        "      <td> 978824291</td>\n",
        "    </tr>\n",
        "  </tbody>\n",
        "</table>\n",
        "</div>"
       ],
       "metadata": {},
       "output_type": "pyout",
       "prompt_number": 9,
       "text": [
        "   UserID  MovieID  Rating  Timestamp\n",
        "0       1     1193       5  978300760\n",
        "1       1      661       3  978302109\n",
        "2       1      914       3  978301968\n",
        "3       1     3408       4  978300275\n",
        "4       1     2355       5  978824291"
       ]
      }
     ],
     "prompt_number": 9
    },
    {
     "cell_type": "markdown",
     "metadata": {},
     "source": [
      "Initialize an SVD instance"
     ]
    },
    {
     "cell_type": "code",
     "collapsed": false,
     "input": [
      "svd = SVD()"
     ],
     "language": "python",
     "metadata": {},
     "outputs": [],
     "prompt_number": 10
    },
    {
     "cell_type": "markdown",
     "metadata": {},
     "source": [
      "Populate it with the data from the ratings dataset, using the built in load_data method"
     ]
    },
    {
     "cell_type": "code",
     "collapsed": false,
     "input": [],
     "language": "python",
     "metadata": {},
     "outputs": [
      {
       "output_type": "stream",
       "stream": "stdout",
       "text": [
        "Loading ./movielens/ratings.dat\n",
        "."
       ]
      },
      {
       "output_type": "stream",
       "stream": "stdout",
       "text": [
        ".."
       ]
      },
      {
       "output_type": "stream",
       "stream": "stdout",
       "text": [
        ".."
       ]
      },
      {
       "output_type": "stream",
       "stream": "stdout",
       "text": [
        ".."
       ]
      },
      {
       "output_type": "stream",
       "stream": "stdout",
       "text": [
        ".."
       ]
      },
      {
       "output_type": "stream",
       "stream": "stdout",
       "text": [
        ".|\n"
       ]
      }
     ],
     "prompt_number": 11
    },
    {
     "cell_type": "markdown",
     "metadata": {},
     "source": [
      "Compute SVD\n",
      "\n",
      "$M=U \\Sigma V^T$:"
     ]
    },
    {
     "cell_type": "code",
     "collapsed": false,
     "input": [
      "k = 100\n"
     ],
     "language": "python",
     "metadata": {},
     "outputs": [
      {
       "output_type": "stream",
       "stream": "stdout",
       "text": [
        "Creating matrix (1000209 tuples)\n",
        "Matrix density is: 4.4684%\n"
       ]
      },
      {
       "output_type": "stream",
       "stream": "stdout",
       "text": [
        "Updating matrix: squish to at least 10 values\n",
        "Computing svd k=100, min_values=10, pre_normalize=None, mean_center=True, post_normalize=True\n"
       ]
      },
      {
       "output_type": "stream",
       "stream": "stdout",
       "text": [
        "[WARNING] mean_center is True. svd.similar(...) might return nan's. If so, then do svd.compute(..., mean_center=False)\n"
       ]
      }
     ],
     "prompt_number": 12
    },
    {
     "cell_type": "markdown",
     "metadata": {},
     "source": [
      "you can also save the output SVD model (in a zip file)"
     ]
    },
    {
     "cell_type": "code",
     "collapsed": false,
     "input": [
      "svd.compute(k=k, min_values=10, pre_normalize=None, mean_center=True, post_normalize=True, savefile='/tmp/movielens')"
     ],
     "language": "python",
     "metadata": {},
     "outputs": [
      {
       "output_type": "stream",
       "stream": "stdout",
       "text": [
        "Creating matrix (1000209 tuples)\n",
        "Matrix density is: 4.4684%\n"
       ]
      },
      {
       "output_type": "stream",
       "stream": "stdout",
       "text": [
        "Updating matrix: squish to at least 10 values\n",
        "Computing svd k=100, min_values=10, pre_normalize=None, mean_center=True, post_normalize=True\n"
       ]
      },
      {
       "output_type": "stream",
       "stream": "stdout",
       "text": [
        "[WARNING] mean_center is True. svd.similar(...) might return nan's. If so, then do svd.compute(..., mean_center=False)\n",
        "Saving svd model to /tmp/movielens\n"
       ]
      }
     ],
     "prompt_number": 13
    },
    {
     "cell_type": "markdown",
     "metadata": {},
     "source": [
      "Reload a saved model:"
     ]
    },
    {
     "cell_type": "code",
     "collapsed": false,
     "input": [
      "svd2 = SVD(filename='/tmp/movielens')"
     ],
     "language": "python",
     "metadata": {},
     "outputs": [],
     "prompt_number": 14
    },
    {
     "cell_type": "markdown",
     "metadata": {},
     "source": [
      "Find the ITEMID number for \"Toy Story (1995)\""
     ]
    },
    {
     "cell_type": "code",
     "collapsed": false,
     "input": [],
     "language": "python",
     "metadata": {},
     "outputs": [
      {
       "html": [
        "<div style=\"max-height:1000px;max-width:1500px;overflow:auto;\">\n",
        "<table border=\"1\" class=\"dataframe\">\n",
        "  <thead>\n",
        "    <tr style=\"text-align: right;\">\n",
        "      <th></th>\n",
        "      <th>Title</th>\n",
        "      <th>Genres</th>\n",
        "    </tr>\n",
        "    <tr>\n",
        "      <th>ITEMID</th>\n",
        "      <th></th>\n",
        "      <th></th>\n",
        "    </tr>\n",
        "  </thead>\n",
        "  <tbody>\n",
        "    <tr>\n",
        "      <th>1</th>\n",
        "      <td> Toy Story (1995)</td>\n",
        "      <td> Animation|Children's|Comedy</td>\n",
        "    </tr>\n",
        "  </tbody>\n",
        "</table>\n",
        "</div>"
       ],
       "metadata": {},
       "output_type": "pyout",
       "prompt_number": 15,
       "text": [
        "                   Title                       Genres\n",
        "ITEMID                                               \n",
        "1       Toy Story (1995)  Animation|Children's|Comedy"
       ]
      }
     ],
     "prompt_number": 15
    },
    {
     "cell_type": "markdown",
     "metadata": {},
     "source": [
      "Find the ITEMID number for \"Bug's Life, A (1998)\""
     ]
    },
    {
     "cell_type": "code",
     "collapsed": false,
     "input": [],
     "language": "python",
     "metadata": {},
     "outputs": [
      {
       "html": [
        "<div style=\"max-height:1000px;max-width:1500px;overflow:auto;\">\n",
        "<table border=\"1\" class=\"dataframe\">\n",
        "  <thead>\n",
        "    <tr style=\"text-align: right;\">\n",
        "      <th></th>\n",
        "      <th>Title</th>\n",
        "      <th>Genres</th>\n",
        "    </tr>\n",
        "    <tr>\n",
        "      <th>ITEMID</th>\n",
        "      <th></th>\n",
        "      <th></th>\n",
        "    </tr>\n",
        "  </thead>\n",
        "  <tbody>\n",
        "    <tr>\n",
        "      <th>2355</th>\n",
        "      <td> Bug's Life, A (1998)</td>\n",
        "      <td> Animation|Children's|Comedy</td>\n",
        "    </tr>\n",
        "  </tbody>\n",
        "</table>\n",
        "</div>"
       ],
       "metadata": {},
       "output_type": "pyout",
       "prompt_number": 16,
       "text": [
        "                       Title                       Genres\n",
        "ITEMID                                                   \n",
        "2355    Bug's Life, A (1998)  Animation|Children's|Comedy"
       ]
      }
     ],
     "prompt_number": 16
    },
    {
     "cell_type": "markdown",
     "metadata": {},
     "source": [
      "Compute similarity between the two movies"
     ]
    },
    {
     "cell_type": "code",
     "collapsed": false,
     "input": [],
     "language": "python",
     "metadata": {},
     "outputs": [
      {
       "output_type": "stream",
       "stream": "stdout",
       "text": [
        "0.677069366773\n"
       ]
      }
     ],
     "prompt_number": 17
    },
    {
     "cell_type": "markdown",
     "metadata": {},
     "source": [
      "Get movies similar to Toy Story"
     ]
    },
    {
     "cell_type": "code",
     "collapsed": false,
<<<<<<< HEAD
     "input": [
      "similar_to_toy_story = svd.similar(ITEMID1)\n",
      "similar_to_toy_story"
     ],
     "language": "python",
     "metadata": {},
     "outputs": [
      {
       "metadata": {},
       "output_type": "pyout",
       "prompt_number": 28,
       "text": [
        "[(1, 0.99999999999999978),\n",
        " (3114, 0.87060391051017305),\n",
        " (2355, 0.67706936677314977),\n",
        " (588, 0.58073514967544992),\n",
        " (595, 0.46031829709744226),\n",
        " (1907, 0.44589398718134982),\n",
        " (364, 0.42908159895577563),\n",
        " (2081, 0.42566581277822413),\n",
        " (3396, 0.42474056361934953),\n",
        " (2761, 0.40439361857576017)]"
       ]
      }
     ],
     "prompt_number": 28
    },
    {
     "cell_type": "code",
     "collapsed": false,
     "input": [
      "similar_to_toy_story_array = np.array(similar_to_toy_story)[:,0].astype(int)"
     ],
     "language": "python",
     "metadata": {},
     "outputs": [],
     "prompt_number": 29
    },
    {
     "cell_type": "code",
     "collapsed": false,
     "input": [
      "#Zip * takes the outer square brackets and the zip \n",
      "movies[movies.index.isin(zip(*similar_to_toy_story)[0])]"
     ],
     "language": "python",
     "metadata": {},
     "outputs": [
      {
       "html": [
        "<div style=\"max-height:1000px;max-width:1500px;overflow:auto;\">\n",
        "<table border=\"1\" class=\"dataframe\">\n",
        "  <thead>\n",
        "    <tr style=\"text-align: right;\">\n",
        "      <th></th>\n",
        "      <th>Title</th>\n",
        "      <th>Genres</th>\n",
        "    </tr>\n",
        "    <tr>\n",
        "      <th>ITEMID</th>\n",
        "      <th></th>\n",
        "      <th></th>\n",
        "    </tr>\n",
        "  </thead>\n",
        "  <tbody>\n",
        "    <tr>\n",
        "      <th>1   </th>\n",
        "      <td>            Toy Story (1995)</td>\n",
        "      <td>                 Animation|Children's|Comedy</td>\n",
        "    </tr>\n",
        "    <tr>\n",
        "      <th>364 </th>\n",
        "      <td>       Lion King, The (1994)</td>\n",
        "      <td>                Animation|Children's|Musical</td>\n",
        "    </tr>\n",
        "    <tr>\n",
        "      <th>588 </th>\n",
        "      <td>              Aladdin (1992)</td>\n",
        "      <td>         Animation|Children's|Comedy|Musical</td>\n",
        "    </tr>\n",
        "    <tr>\n",
        "      <th>595 </th>\n",
        "      <td> Beauty and the Beast (1991)</td>\n",
        "      <td>                Animation|Children's|Musical</td>\n",
        "    </tr>\n",
        "    <tr>\n",
        "      <th>1907</th>\n",
        "      <td>                Mulan (1998)</td>\n",
        "      <td>                        Animation|Children's</td>\n",
        "    </tr>\n",
        "    <tr>\n",
        "      <th>2081</th>\n",
        "      <td>  Little Mermaid, The (1989)</td>\n",
        "      <td> Animation|Children's|Comedy|Musical|Romance</td>\n",
        "    </tr>\n",
        "    <tr>\n",
        "      <th>2355</th>\n",
        "      <td>        Bug's Life, A (1998)</td>\n",
        "      <td>                 Animation|Children's|Comedy</td>\n",
        "    </tr>\n",
        "    <tr>\n",
        "      <th>2761</th>\n",
        "      <td>      Iron Giant, The (1999)</td>\n",
        "      <td>                        Animation|Children's</td>\n",
        "    </tr>\n",
        "    <tr>\n",
        "      <th>3114</th>\n",
        "      <td>          Toy Story 2 (1999)</td>\n",
        "      <td>                 Animation|Children's|Comedy</td>\n",
        "    </tr>\n",
        "    <tr>\n",
        "      <th>3396</th>\n",
        "      <td>    Muppet Movie, The (1979)</td>\n",
        "      <td>                           Children's|Comedy</td>\n",
        "    </tr>\n",
        "  </tbody>\n",
        "</table>\n",
        "</div>"
       ],
       "metadata": {},
       "output_type": "pyout",
       "prompt_number": 31,
       "text": [
        "                              Title  \\\n",
        "ITEMID                                \n",
        "1                  Toy Story (1995)   \n",
        "364           Lion King, The (1994)   \n",
        "588                  Aladdin (1992)   \n",
        "595     Beauty and the Beast (1991)   \n",
        "1907                   Mulan (1998)   \n",
        "2081     Little Mermaid, The (1989)   \n",
        "2355           Bug's Life, A (1998)   \n",
        "2761         Iron Giant, The (1999)   \n",
        "3114             Toy Story 2 (1999)   \n",
        "3396       Muppet Movie, The (1979)   \n",
        "\n",
        "                                             Genres  \n",
        "ITEMID                                               \n",
        "1                       Animation|Children's|Comedy  \n",
        "364                    Animation|Children's|Musical  \n",
        "588             Animation|Children's|Comedy|Musical  \n",
        "595                    Animation|Children's|Musical  \n",
        "1907                           Animation|Children's  \n",
        "2081    Animation|Children's|Comedy|Musical|Romance  \n",
        "2355                    Animation|Children's|Comedy  \n",
        "2761                           Animation|Children's  \n",
        "3114                    Animation|Children's|Comedy  \n",
        "3396                              Children's|Comedy  "
       ]
      }
     ],
     "prompt_number": 31
    },
    {
     "cell_type": "code",
     "collapsed": false,
=======
>>>>>>> instructor/master
     "input": [],
     "language": "python",
     "metadata": {},
     "outputs": []
    },
    {
     "cell_type": "markdown",
     "metadata": {},
     "source": [
      "Predict rating for a given user and movie, $\\hat{r}_{ui}$"
     ]
    },
    {
     "cell_type": "code",
     "collapsed": false,
<<<<<<< HEAD
     "input": [
      "MIN_RATING = 1.0\n",
      "MAX_RATING = 5.0\n",
      "ITEMID = 1\n",
      "USERID = 1\n",
      "svd.predict(ITEMID, USERID, MIN_RATING, MAX_RATING)"
     ],
=======
     "input": [],
>>>>>>> instructor/master
     "language": "python",
     "metadata": {},
     "outputs": [
      {
       "metadata": {},
       "output_type": "pyout",
       "prompt_number": 35,
       "text": [
        "5.0"
       ]
      }
     ],
     "prompt_number": 35
    },
    {
     "cell_type": "code",
     "collapsed": false,
     "input": [],
     "language": "python",
     "metadata": {},
     "outputs": [
      {
       "metadata": {},
       "output_type": "pyout",
       "prompt_number": 36,
       "text": [
        "5.0"
       ]
      }
     ],
     "prompt_number": 36
    },
    {
     "cell_type": "markdown",
     "metadata": {},
     "source": [
      "Recommend non rated movies to a user"
     ]
    },
    {
     "cell_type": "code",
     "collapsed": false,
<<<<<<< HEAD
     "input": [
      "svd.recommend(1, is_row=False)"
     ],
=======
     "input": [],
>>>>>>> instructor/master
     "language": "python",
     "metadata": {},
     "outputs": [
      {
       "metadata": {},
       "output_type": "pyout",
       "prompt_number": 37,
       "text": [
        "[(2028, 5.4018452642332546),\n",
        " (527, 5.3498144196809516),\n",
        " (2905, 5.2133848204673132),\n",
        " (318, 5.2052108435955446),\n",
        " (1193, 5.1942189963876562),\n",
        " (3114, 5.1753939214583697),\n",
        " (1, 5.1714259073839521),\n",
        " (2019, 5.1037438278754719),\n",
        " (1178, 5.0962756861446641),\n",
        " (1207, 5.090305272922329)]"
       ]
      }
     ],
     "prompt_number": 37
    },
    {
     "cell_type": "markdown",
     "metadata": {},
     "source": [
      "Which users should see Toy Story? (e.g. which users -that have not rated Toy Story- would give it a high rating?)"
     ]
    },
    {
     "cell_type": "code",
     "collapsed": false,
     "input": [],
     "language": "python",
     "metadata": {},
     "outputs": [
      {
       "metadata": {},
       "output_type": "pyout",
       "prompt_number": 22,
       "text": [
        "[(869, 6.8215500393190904),\n",
        " (4086, 6.2667649038936908),\n",
        " (549, 6.2394061595542869),\n",
        " (1343, 6.2163075783431427),\n",
        " (1586, 6.039893928886932),\n",
        " (840, 5.9616632765170472),\n",
        " (1676, 5.896233772781037),\n",
        " (4595, 5.88945710113423),\n",
        " (2691, 5.8735094161364714),\n",
        " (2665, 5.8498694241604259)]"
       ]
      }
     ],
     "prompt_number": 22
    },
    {
     "cell_type": "markdown",
     "metadata": {},
     "source": [
      "Find out more here: [https://github.com/ocelma/python-recsys](https://github.com/ocelma/python-recsys)"
     ]
    }
   ],
   "metadata": {}
  }
 ]
}