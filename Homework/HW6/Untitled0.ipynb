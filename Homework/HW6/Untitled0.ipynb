{
 "metadata": {
  "name": "",
  "signature": "sha256:99cb3dd1e439a3309a5476824c04fcb6dc74a9e41526b9b71063ace511be6631"
 },
 "nbformat": 3,
 "nbformat_minor": 0,
 "worksheets": []
}