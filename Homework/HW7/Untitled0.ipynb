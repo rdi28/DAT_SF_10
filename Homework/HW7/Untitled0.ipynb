{
 "metadata": {
  "name": "",
  "signature": "sha256:b4f557b4ffe46e0d1181501f5ee28488cd5925ee8fe64fff5ba0c8b3efbc1a5e"
 },
 "nbformat": 3,
 "nbformat_minor": 0,
 "worksheets": [
  {
   "cells": [
    {
     "cell_type": "code",
     "collapsed": false,
     "input": [
      "import pandas as pd\n",
      "%pylab inline\n",
      "import numpy as np\n",
      "from matplotlib import pyplot as plt\n",
      "\n",
      "from sklearn import preprocessing\n",
      "%matplotlib inline"
     ],
     "language": "python",
     "metadata": {},
     "outputs": [
      {
       "output_type": "stream",
       "stream": "stdout",
       "text": [
        "Populating the interactive namespace from numpy and matplotlib\n"
       ]
      }
     ],
     "prompt_number": 4
    },
    {
     "cell_type": "code",
     "collapsed": false,
     "input": [],
     "language": "python",
     "metadata": {},
     "outputs": []
    }
   ],
   "metadata": {}
  }
 ]
}