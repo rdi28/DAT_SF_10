{
 "metadata": {
  "name": "",
  "signature": "sha256:1dea2237b10378f9544ce9df710609c31d3f6d071f5440df8d0c5b9a89f80553"
 },
 "nbformat": 3,
 "nbformat_minor": 0,
 "worksheets": [
  {
   "cells": [
    {
     "cell_type": "code",
     "collapsed": false,
     "input": [
      "import pandas as pd\n",
      "%pylab inline\n",
      "import numpy as np\n",
      "from matplotlib import pyplot as plt\n",
      "\n",
      "from sklearn import preprocessing\n",
      "%matplotlib inline"
     ],
     "language": "python",
     "metadata": {},
     "outputs": [
      {
       "output_type": "stream",
       "stream": "stdout",
       "text": [
        "Populating the interactive namespace from numpy and matplotlib\n"
       ]
      }
     ],
     "prompt_number": 2
    },
    {
     "cell_type": "code",
     "collapsed": false,
     "input": [
      "pd.set_option('display.max_rows',100)\n",
      "pd.set_option('display.max_columns',60)"
     ],
     "language": "python",
     "metadata": {},
     "outputs": [],
     "prompt_number": 16
    },
    {
     "cell_type": "code",
     "collapsed": false,
     "input": [
      "column_names = ['target', 'x1', 'x2', 'x3', 'x4', 'x5', 'x6', 'x7', 'x8', 'x9', 'x10', 'x11', 'x12', 'x13']"
     ],
     "language": "python",
     "metadata": {},
     "outputs": [],
     "prompt_number": 18
    },
    {
     "cell_type": "code",
     "collapsed": false,
     "input": [
      "data = pd.read_csv('winedata', header = None, names = column_names)"
     ],
     "language": "python",
     "metadata": {},
     "outputs": [],
     "prompt_number": 19
    },
    {
     "cell_type": "code",
     "collapsed": false,
     "input": [
      "data.head()"
     ],
     "language": "python",
     "metadata": {},
     "outputs": [
      {
       "html": [
        "<div style=\"max-height:1000px;max-width:1500px;overflow:auto;\">\n",
        "<table border=\"1\" class=\"dataframe\">\n",
        "  <thead>\n",
        "    <tr style=\"text-align: right;\">\n",
        "      <th></th>\n",
        "      <th>target</th>\n",
        "      <th>x1</th>\n",
        "      <th>x2</th>\n",
        "      <th>x3</th>\n",
        "      <th>x4</th>\n",
        "      <th>x5</th>\n",
        "      <th>x6</th>\n",
        "      <th>x7</th>\n",
        "      <th>x8</th>\n",
        "      <th>x9</th>\n",
        "      <th>x10</th>\n",
        "      <th>x11</th>\n",
        "      <th>x12</th>\n",
        "      <th>x13</th>\n",
        "    </tr>\n",
        "  </thead>\n",
        "  <tbody>\n",
        "    <tr>\n",
        "      <th>0</th>\n",
        "      <td> 1</td>\n",
        "      <td> 14.23</td>\n",
        "      <td> 1.71</td>\n",
        "      <td> 2.43</td>\n",
        "      <td> 15.6</td>\n",
        "      <td> 127</td>\n",
        "      <td> 2.80</td>\n",
        "      <td> 3.06</td>\n",
        "      <td> 0.28</td>\n",
        "      <td> 2.29</td>\n",
        "      <td> 5.64</td>\n",
        "      <td> 1.04</td>\n",
        "      <td> 3.92</td>\n",
        "      <td> 1065</td>\n",
        "    </tr>\n",
        "    <tr>\n",
        "      <th>1</th>\n",
        "      <td> 1</td>\n",
        "      <td> 13.20</td>\n",
        "      <td> 1.78</td>\n",
        "      <td> 2.14</td>\n",
        "      <td> 11.2</td>\n",
        "      <td> 100</td>\n",
        "      <td> 2.65</td>\n",
        "      <td> 2.76</td>\n",
        "      <td> 0.26</td>\n",
        "      <td> 1.28</td>\n",
        "      <td> 4.38</td>\n",
        "      <td> 1.05</td>\n",
        "      <td> 3.40</td>\n",
        "      <td> 1050</td>\n",
        "    </tr>\n",
        "    <tr>\n",
        "      <th>2</th>\n",
        "      <td> 1</td>\n",
        "      <td> 13.16</td>\n",
        "      <td> 2.36</td>\n",
        "      <td> 2.67</td>\n",
        "      <td> 18.6</td>\n",
        "      <td> 101</td>\n",
        "      <td> 2.80</td>\n",
        "      <td> 3.24</td>\n",
        "      <td> 0.30</td>\n",
        "      <td> 2.81</td>\n",
        "      <td> 5.68</td>\n",
        "      <td> 1.03</td>\n",
        "      <td> 3.17</td>\n",
        "      <td> 1185</td>\n",
        "    </tr>\n",
        "    <tr>\n",
        "      <th>3</th>\n",
        "      <td> 1</td>\n",
        "      <td> 14.37</td>\n",
        "      <td> 1.95</td>\n",
        "      <td> 2.50</td>\n",
        "      <td> 16.8</td>\n",
        "      <td> 113</td>\n",
        "      <td> 3.85</td>\n",
        "      <td> 3.49</td>\n",
        "      <td> 0.24</td>\n",
        "      <td> 2.18</td>\n",
        "      <td> 7.80</td>\n",
        "      <td> 0.86</td>\n",
        "      <td> 3.45</td>\n",
        "      <td> 1480</td>\n",
        "    </tr>\n",
        "    <tr>\n",
        "      <th>4</th>\n",
        "      <td> 1</td>\n",
        "      <td> 13.24</td>\n",
        "      <td> 2.59</td>\n",
        "      <td> 2.87</td>\n",
        "      <td> 21.0</td>\n",
        "      <td> 118</td>\n",
        "      <td> 2.80</td>\n",
        "      <td> 2.69</td>\n",
        "      <td> 0.39</td>\n",
        "      <td> 1.82</td>\n",
        "      <td> 4.32</td>\n",
        "      <td> 1.04</td>\n",
        "      <td> 2.93</td>\n",
        "      <td>  735</td>\n",
        "    </tr>\n",
        "  </tbody>\n",
        "</table>\n",
        "</div>"
       ],
       "metadata": {},
       "output_type": "pyout",
       "prompt_number": 20,
       "text": [
        "   target     x1    x2    x3    x4   x5    x6    x7    x8    x9   x10   x11  \\\n",
        "0       1  14.23  1.71  2.43  15.6  127  2.80  3.06  0.28  2.29  5.64  1.04   \n",
        "1       1  13.20  1.78  2.14  11.2  100  2.65  2.76  0.26  1.28  4.38  1.05   \n",
        "2       1  13.16  2.36  2.67  18.6  101  2.80  3.24  0.30  2.81  5.68  1.03   \n",
        "3       1  14.37  1.95  2.50  16.8  113  3.85  3.49  0.24  2.18  7.80  0.86   \n",
        "4       1  13.24  2.59  2.87  21.0  118  2.80  2.69  0.39  1.82  4.32  1.04   \n",
        "\n",
        "    x12   x13  \n",
        "0  3.92  1065  \n",
        "1  3.40  1050  \n",
        "2  3.17  1185  \n",
        "3  3.45  1480  \n",
        "4  2.93   735  "
       ]
      }
     ],
     "prompt_number": 20
    },
    {
     "cell_type": "code",
     "collapsed": false,
     "input": [
      "data.info()"
     ],
     "language": "python",
     "metadata": {},
     "outputs": [
      {
       "output_type": "stream",
       "stream": "stdout",
       "text": [
        "<class 'pandas.core.frame.DataFrame'>\n",
        "Int64Index: 178 entries, 0 to 177\n",
        "Data columns (total 14 columns):\n",
        "target    178 non-null int64\n",
        "x1        178 non-null float64\n",
        "x2        178 non-null float64\n",
        "x3        178 non-null float64\n",
        "x4        178 non-null float64\n",
        "x5        178 non-null int64\n",
        "x6        178 non-null float64\n",
        "x7        178 non-null float64\n",
        "x8        178 non-null float64\n",
        "x9        178 non-null float64\n",
        "x10       178 non-null float64\n",
        "x11       178 non-null float64\n",
        "x12       178 non-null float64\n",
        "x13       178 non-null int64\n",
        "dtypes: float64(11), int64(3)"
       ]
      }
     ],
     "prompt_number": 22
    },
    {
     "cell_type": "heading",
     "level": 3,
     "metadata": {},
     "source": [
      "1. Classify the raw data using a linear SVM. Scikit learn does support multi-class classification with SVM's so we don't need to perform multiple binary classifications."
     ]
    },
    {
     "cell_type": "code",
     "collapsed": false,
     "input": [
      "from sklearn.svm import LinearSVC\n",
      "\n",
      "svc_model = LinearSVC(C=1.0).fit(data[data.columns[1:13]].values, data[data.columns[0]].values)\n",
      "svc_predictions = svc_model.predict(data[data.columns[1:13]].values)\n",
      "1.0 * sum(svc_predictions == data[data.columns[0]].values) / len(data[data.columns[0]].values)"
     ],
     "language": "python",
     "metadata": {},
     "outputs": [
      {
       "metadata": {},
       "output_type": "pyout",
       "prompt_number": 40,
       "text": [
        "0.9157303370786517"
       ]
      }
     ],
     "prompt_number": 40
    },
    {
     "cell_type": "heading",
     "level": 3,
     "metadata": {},
     "source": [
      "2. Cross Validate."
     ]
    },
    {
     "cell_type": "code",
     "collapsed": false,
     "input": [
      "from sklearn.cross_validation import KFold\n",
      "\n",
      "def cross_validate(X, y, classifier, k_fold):\n",
      "    \"Scores classifier using kfold cross_validation\"\n",
      "    # derive a set of (random) training and testing indices\n",
      "    k_fold_indices = KFold(len(X), n_folds=k_fold,\n",
      "                           shuffle=True, random_state=0)\n",
      "\n",
      "    k_score_total = 0\n",
      "    # train and score classifier for each slice\n",
      "    for train_slice, test_slice in k_fold_indices :\n",
      "        model = classifier(X[train_slice],y[train_slice])\n",
      "        k_score = model.score(X[test_slice], y[test_slice])\n",
      "        k_score_total += k_score\n",
      "\n",
      "    # return the average accuracy\n",
      "    return k_score_total/k_fold"
     ],
     "language": "python",
     "metadata": {},
     "outputs": [],
     "prompt_number": 38
    },
    {
     "cell_type": "code",
     "collapsed": false,
     "input": [
      "svc_model = LinearSVC(C=1.0).fit\n",
      "cross_validate(data[data.columns[1:13]].values, data[data.columns[0]].values, svc_model, 10)"
     ],
     "language": "python",
     "metadata": {},
     "outputs": [
      {
       "metadata": {},
       "output_type": "pyout",
       "prompt_number": 44,
       "text": [
        "0.89379084967320266"
       ]
      }
     ],
     "prompt_number": 44
    },
    {
     "cell_type": "heading",
     "level": 3,
     "metadata": {},
     "source": [
      "3. Preprocess the data with a normalization tool. "
     ]
    },
    {
     "cell_type": "code",
     "collapsed": false,
     "input": [
      "from sklearn import preprocessing\n",
      "\n",
      "features_normalized = preprocessing.normalize(data[data.columns[1:13]].values)"
     ],
     "language": "python",
     "metadata": {},
     "outputs": [],
     "prompt_number": 50
    },
    {
     "cell_type": "heading",
     "level": 3,
     "metadata": {},
     "source": [
      "4. Repeat classification using linear SVM and crossvalidate. The model appears to be worse after preprocessing."
     ]
    },
    {
     "cell_type": "code",
     "collapsed": false,
     "input": [
      "svc_model_normalized = LinearSVC(C=1.0).fit\n",
      "cross_validate(features_normalized, data[data.columns[0]].values, svc_model_normalized, 10)"
     ],
     "language": "python",
     "metadata": {},
     "outputs": [
      {
       "metadata": {},
       "output_type": "pyout",
       "prompt_number": 49,
       "text": [
        "0.69705882352941173"
       ]
      }
     ],
     "prompt_number": 49
    },
    {
     "cell_type": "heading",
     "level": 3,
     "metadata": {},
     "source": [
      "5. Run pipeline on raw data. "
     ]
    },
    {
     "cell_type": "code",
     "collapsed": false,
     "input": [
      "#Lets try with exactly the same normalizing preprocessing & linear svc. \n",
      "from sklearn.pipeline import Pipeline\n",
      "pipeline_model = Pipeline([('normalizing', preprocessing.Normalizer()), ('linear_svc', LinearSVC(C=1.0))]).fit\n",
      "\n",
      "cross_validate(data[data.columns[1:13]].values, data[data.columns[0]].values, pipeline_model, 10)"
     ],
     "language": "python",
     "metadata": {},
     "outputs": [
      {
       "metadata": {},
       "output_type": "pyout",
       "prompt_number": 52,
       "text": [
        "0.69705882352941173"
       ]
      }
     ],
     "prompt_number": 52
    },
    {
     "cell_type": "code",
     "collapsed": false,
     "input": [
      "#Lets try with some other stuff\n",
      "from sklearn.decomposition import PCA\n",
      "pipeline_model_2 = Pipeline([('reduce_dim', PCA()), ('linear_svc', LinearSVC(C=1.0))]).fit\n",
      "\n",
      "cross_validate(data[data.columns[1:13]].values, data[data.columns[0]].values, pipeline_model_2, 10)"
     ],
     "language": "python",
     "metadata": {},
     "outputs": [
      {
       "metadata": {},
       "output_type": "pyout",
       "prompt_number": 55,
       "text": [
        "0.96666666666666656"
       ]
      }
     ],
     "prompt_number": 55
    },
    {
     "cell_type": "heading",
     "level": 3,
     "metadata": {},
     "source": [
      "6. Try varying the value of C or the type of kernel. "
     ]
    },
    {
     "cell_type": "code",
     "collapsed": false,
     "input": [
      "from sklearn.svm import SVC\n",
      "kernels = ['linear', 'poly', 'rbf', 'sigmoid']\n",
      "\n",
      "for k in kernels:\n",
      "    model = SVC(C=1.0, kernel=k).fit\n",
      "    score = cross_validate(data[data.columns[1:13]].values, data[data.columns[0]].values, model, 10)\n",
      "    print \"Kernel: {0} | Score: {1}\".format(k, score)"
     ],
     "language": "python",
     "metadata": {},
     "outputs": [
      {
       "output_type": "stream",
       "stream": "stdout",
       "text": [
        "Kernel: linear | Score: 0.938562091503\n",
        "Kernel: poly | Score: 0.955555555556"
       ]
      },
      {
       "output_type": "stream",
       "stream": "stdout",
       "text": [
        "\n",
        "Kernel: rbf | Score: 0.904901960784\n",
        "Kernel: sigmoid | Score: 0.399019607843\n"
       ]
      }
     ],
     "prompt_number": 59
    },
    {
     "cell_type": "code",
     "collapsed": false,
     "input": [
      "from sklearn.svm import SVC\n",
      "c_values = range(1,11)\n",
      "\n",
      "for c in c_values:\n",
      "    model = LinearSVC(C=c).fit\n",
      "    score = cross_validate(data[data.columns[1:13]].values, data[data.columns[0]].values, model, 10)\n",
      "    print \"C: {0} | Score: {1}\".format(c, score)"
     ],
     "language": "python",
     "metadata": {},
     "outputs": [
      {
       "output_type": "stream",
       "stream": "stdout",
       "text": [
        "C: 1 | Score: 0.899019607843\n",
        "C: 2 | Score: 0.843137254902"
       ]
      },
      {
       "output_type": "stream",
       "stream": "stdout",
       "text": [
        "\n",
        "C: 3 | Score: 0.888235294118"
       ]
      },
      {
       "output_type": "stream",
       "stream": "stdout",
       "text": [
        "\n",
        "C: 4 | Score: 0.854575163399"
       ]
      },
      {
       "output_type": "stream",
       "stream": "stdout",
       "text": [
        "\n",
        "C: 5 | Score: 0.899346405229"
       ]
      },
      {
       "output_type": "stream",
       "stream": "stdout",
       "text": [
        "\n",
        "C: 6 | Score: 0.866013071895"
       ]
      },
      {
       "output_type": "stream",
       "stream": "stdout",
       "text": [
        "\n",
        "C: 7 | Score: 0.871241830065"
       ]
      },
      {
       "output_type": "stream",
       "stream": "stdout",
       "text": [
        "\n",
        "C: 8 | Score: 0.883006535948"
       ]
      },
      {
       "output_type": "stream",
       "stream": "stdout",
       "text": [
        "\n",
        "C: 9 | Score: 0.848366013072"
       ]
      },
      {
       "output_type": "stream",
       "stream": "stdout",
       "text": [
        "\n",
        "C: 10 | Score: 0.86568627451"
       ]
      },
      {
       "output_type": "stream",
       "stream": "stdout",
       "text": [
        "\n"
       ]
      }
     ],
     "prompt_number": 64
    },
    {
     "cell_type": "heading",
     "level": 3,
     "metadata": {},
     "source": [
      "7. Learn about grid search and feed pipeline classifier to grid search. Explore range of values for C, gamma, and type of kernel. "
     ]
    },
    {
     "cell_type": "code",
     "collapsed": false,
     "input": [
      "from sklearn.grid_search import GridSearchCV\n",
      "\n",
      "params_grid = {'svm__C': [0.01, 0.1, 1, 10, 100, 1000], 'svm__gamma': [0.1, 0.01, 0.001, 0.0001], 'svm__kernel': ['rbf', 'sigmoid', 'linear', 'poly']}\n",
      "\n",
      "gs_model = GridSearchCV(Pipeline([('preprocess', preprocessing.StandardScaler()), ('svm', SVC())]), params_grid, cv=3)\n",
      "gs_model.fit(data[data.columns[1:13]].values, data[data.columns[0]].values)\n",
      "best_model_params = gs_model.best_params_\n",
      "best_model_score = gs_model.best_score_\n",
      "\n",
      "print \"The best model scored {0} with parameters: {1}\".format(best_model_score, best_model_params)"
     ],
     "language": "python",
     "metadata": {},
     "outputs": [
      {
       "output_type": "stream",
       "stream": "stdout",
       "text": [
        "The best model scored 0.960674157303 with parameters: {'svm__C': 10, 'svm__kernel': 'rbf', 'svm__gamma': 0.1}\n"
       ]
      }
     ],
     "prompt_number": 70
    }
   ],
   "metadata": {}
  }
 ]
}