{
 "metadata": {
  "name": "",
  "signature": "sha256:ebc1bfcb017ae851b35597e20174147a9b5b2a8a09552c32aa636718e694e31a"
 },
 "nbformat": 3,
 "nbformat_minor": 0,
 "worksheets": [
  {
   "cells": [
    {
     "cell_type": "code",
     "collapsed": false,
     "input": [
      "#Import standard libraries, matplotlib inline, sklearn PCA & RandomizedPCA, sklearn datasets\n",
      "\n",
      "import numpy as np\n",
      "import matplotlib.pyplot as plt\n",
      "import pandas as pd\n",
      "%matplotlib inline\n",
      "\n",
      "from sklearn.decomposition import PCA\n",
      "from sklearn.decomposition import RandomizedPCA\n",
      "from sklearn.cluster import KMeans\n",
      "from sklearn import datasets\n",
      "from sklearn.preprocessing import scale"
     ],
     "language": "python",
     "metadata": {},
     "outputs": [],
     "prompt_number": 1
    },
    {
     "cell_type": "heading",
     "level": 3,
     "metadata": {},
     "source": [
      "1. Implement PCA on the dataset, using the sklearn. What do the principal components tell? (is scaling necessary?)"
     ]
    },
    {
     "cell_type": "code",
     "collapsed": false,
     "input": [
      "faces = datasets.fetch_olivetti_faces()"
     ],
     "language": "python",
     "metadata": {},
     "outputs": [],
     "prompt_number": 2
    },
    {
     "cell_type": "code",
     "collapsed": false,
     "input": [
      "X = faces.data\n",
      "pca = PCA().fit(X)"
     ],
     "language": "python",
     "metadata": {},
     "outputs": [],
     "prompt_number": 3
    },
    {
     "cell_type": "code",
     "collapsed": false,
     "input": [
      "ratios = pca.explained_variance_ratio_\n",
      "comp_id = range(0, len(ratios))\n",
      "plt.figure(figsize=(14,6))\n",
      "plt.plot(comp_id, ratios, 'ro-', linewidth=2)\n",
      "plt.title('Scree Plot')\n",
      "plt.xlabel('Principal Component')\n",
      "plt.ylabel('Eigenvalue')"
     ],
     "language": "python",
     "metadata": {},
     "outputs": [
      {
       "metadata": {},
       "output_type": "pyout",
       "prompt_number": 4,
       "text": [
        "<matplotlib.text.Text at 0x10e3f7610>"
       ]
      },
      {
       "metadata": {},
       "output_type": "display_data",
       "png": "[encoded data removed]",
       "text": [
        "<matplotlib.figure.Figure at 0x10bce2e50>"
       ]
      }
     ],
     "prompt_number": 4
    },
    {
     "cell_type": "code",
     "collapsed": false,
     "input": [
      "pca_ratios = pca.explained_variance_ratio_\n",
      "pca_ratios[:10]"
     ],
     "language": "python",
     "metadata": {},
     "outputs": [
      {
       "metadata": {},
       "output_type": "pyout",
       "prompt_number": 5,
       "text": [
        "array([ 0.23812738,  0.13993971,  0.07968614,  0.0499833 ,  0.03609846,\n",
        "        0.03156935,  0.02426833,  0.02036396,  0.01958113,  0.01672123], dtype=float32)"
       ]
      }
     ],
     "prompt_number": 5
    },
    {
     "cell_type": "code",
     "collapsed": false,
     "input": [
      "X2 = scale(X, axis=0, with_mean=True, with_std=True, copy=True)\n",
      "scaled_pca = PCA().fit(X2)"
     ],
     "language": "python",
     "metadata": {},
     "outputs": [],
     "prompt_number": 6
    },
    {
     "cell_type": "code",
     "collapsed": false,
     "input": [
      "scaled_ratios = scaled_pca.explained_variance_ratio_\n",
      "comp_id = range(0, len(scaled_ratios))\n",
      "plt.figure(figsize=(14,6))\n",
      "plt.plot(comp_id, scaled_ratios, 'ro-', linewidth=2)\n",
      "plt.title('Scree Plot')\n",
      "plt.xlabel('Principal Component')\n",
      "plt.ylabel('Eigenvalue')"
     ],
     "language": "python",
     "metadata": {},
     "outputs": [
      {
       "metadata": {},
       "output_type": "pyout",
       "prompt_number": 7,
       "text": [
        "<matplotlib.text.Text at 0x10fb24a10>"
       ]
      },
      {
       "metadata": {},
       "output_type": "display_data",
       "png": "[encoded data removed]",
       "text": [
        "<matplotlib.figure.Figure at 0x10fb05ed0>"
       ]
      }
     ],
     "prompt_number": 7
    },
    {
     "cell_type": "code",
     "collapsed": false,
     "input": [
      "scaled_ratios = scaled_pca.explained_variance_ratio_\n",
      "scaled_ratios[:10]"
     ],
     "language": "python",
     "metadata": {},
     "outputs": [
      {
       "metadata": {},
       "output_type": "pyout",
       "prompt_number": 8,
       "text": [
        "array([ 0.26876438,  0.12342387,  0.07841405,  0.0468859 ,  0.03246215,\n",
        "        0.03100778,  0.02383833,  0.02071719,  0.01857862,  0.01646208], dtype=float32)"
       ]
      }
     ],
     "prompt_number": 8
    },
    {
     "cell_type": "markdown",
     "metadata": {},
     "source": [
      "Scaling makes the top components explain slightly more variance, but it does not seem to make a huge difference in this case."
     ]
    },
    {
     "cell_type": "heading",
     "level": 3,
     "metadata": {},
     "source": [
      "2. Change from PCA to RandomizedPCA. Do you obtain the same principal components? Why? Why not?"
     ]
    },
    {
     "cell_type": "code",
     "collapsed": false,
     "input": [
      "rand_pca = RandomizedPCA().fit(X)"
     ],
     "language": "python",
     "metadata": {},
     "outputs": [],
     "prompt_number": 9
    },
    {
     "cell_type": "code",
     "collapsed": false,
     "input": [
      "rand_ratios = rand_pca.explained_variance_ratio_\n",
      "comp_id = range(0, len(rand_ratios))\n",
      "plt.figure(figsize=(14,6))\n",
      "plt.plot(comp_id, rand_ratios, 'ro-', linewidth=2)\n",
      "plt.title('Scree Plot')\n",
      "plt.xlabel('Principal Component')\n",
      "plt.ylabel('Eigenvalue')"
     ],
     "language": "python",
     "metadata": {},
     "outputs": [
      {
       "metadata": {},
       "output_type": "pyout",
       "prompt_number": 11,
       "text": [
        "<matplotlib.text.Text at 0x110895550>"
       ]
      },
      {
       "metadata": {},
       "output_type": "display_data",
       "png": "[encoded data removed]",
       "text": [
        "<matplotlib.figure.Figure at 0x10e153ad0>"
       ]
      }
     ],
     "prompt_number": 11
    },
    {
     "cell_type": "code",
     "collapsed": false,
     "input": [
      "rand_ratios = rand_pca.explained_variance_ratio_\n",
      "rand_ratios[:10]"
     ],
     "language": "python",
     "metadata": {},
     "outputs": [
      {
       "metadata": {},
       "output_type": "pyout",
       "prompt_number": 13,
       "text": [
        "array([ 0.2381273 ,  0.13993972,  0.07968614,  0.04998332,  0.03609848,\n",
        "        0.03156939,  0.02426832,  0.02036398,  0.01958114,  0.01672122])"
       ]
      }
     ],
     "prompt_number": 13
    },
    {
     "cell_type": "markdown",
     "metadata": {},
     "source": [
      "It looks like we are getting the same principal components. Not sure why or why not..."
     ]
    },
    {
     "cell_type": "code",
     "collapsed": false,
     "input": [],
     "language": "python",
     "metadata": {},
     "outputs": []
    }
   ],
   "metadata": {}
  }
 ]
}